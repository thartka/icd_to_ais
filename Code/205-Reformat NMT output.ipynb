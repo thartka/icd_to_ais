{
 "cells": [
  {
   "cell_type": "markdown",
   "metadata": {},
   "source": [
    "# Project: ICD-AIS conversion using Deep Learning utilizing ICD10\n",
    "\n",
    "This script translates checks the translations against the actual AIS codes that were recorded in NTDB."
   ]
  },
  {
   "cell_type": "markdown",
   "metadata": {},
   "source": [
    "## Setup"
   ]
  },
  {
   "cell_type": "code",
   "execution_count": 1,
   "metadata": {},
   "outputs": [],
   "source": [
    "import numpy as np\n",
    "import pandas as pd\n",
    "import math"
   ]
  },
  {
   "cell_type": "markdown",
   "metadata": {},
   "source": [
    "#### Files"
   ]
  },
  {
   "cell_type": "code",
   "execution_count": 2,
   "metadata": {},
   "outputs": [],
   "source": [
    "# nmt translation\n",
    "nmt_ais_file = \"../Results/Translations/NMT_sentence_proc_trans.csv\"\n",
    "\n",
    "# aaam map file\n",
    "ais_codes_file = \"../Tools/AIS08_codes.csv\"\n",
    "\n",
    "# test data\n",
    "test_demo_file = \"../Data/NTDB_combine/ntdb_test_demo.csv\""
   ]
  },
  {
   "cell_type": "code",
   "execution_count": 3,
   "metadata": {},
   "outputs": [],
   "source": [
    "# reformated output file\n",
    "nmt_trans_file = \"../Results/Translations/nmt_ais.csv\""
   ]
  },
  {
   "cell_type": "markdown",
   "metadata": {},
   "source": [
    "## Set up AIS reference"
   ]
  },
  {
   "cell_type": "code",
   "execution_count": 4,
   "metadata": {},
   "outputs": [],
   "source": [
    "# load AIS codes\n",
    "ais_codes = pd.read_csv(ais_codes_file, header=0, encoding='iso-8859-1')\n",
    "\n",
    "# get predot code\n",
    "ais_codes['predot'] = ais_codes.code.apply(lambda x: math.floor(x))\n",
    "\n",
    "# make dictionary of codes\n",
    "ais_dot = pd.Series(ais_codes.code.values, index=ais_codes.predot).to_dict()\n",
    "ais_dot[0] = 0.0\n",
    "ais_dot[-1] = -1.0"
   ]
  },
  {
   "cell_type": "code",
   "execution_count": 5,
   "metadata": {},
   "outputs": [],
   "source": [
    "# extract severity\n",
    "ais_codes['severity'] = (ais_codes.code %1)*10"
   ]
  },
  {
   "cell_type": "code",
   "execution_count": 6,
   "metadata": {},
   "outputs": [],
   "source": [
    "# get chapter number (first digit of code)\n",
    "ais_codes['chapter'] = np.floor(ais_codes.code/100_000)"
   ]
  },
  {
   "cell_type": "code",
   "execution_count": 7,
   "metadata": {},
   "outputs": [],
   "source": [
    "# function to map body region descriptions to numbers\n",
    "regions = dict({'head_neck':1,'chest':2,'abd_pelvis':3,'extremity':4,'face':5,'external':6})"
   ]
  },
  {
   "cell_type": "code",
   "execution_count": 8,
   "metadata": {},
   "outputs": [],
   "source": [
    "# replace region descriptors with integer value\n",
    "ais_codes = ais_codes.replace({'region':regions})"
   ]
  },
  {
   "cell_type": "code",
   "execution_count": 9,
   "metadata": {},
   "outputs": [
    {
     "data": {
      "text/html": [
       "<div>\n",
       "<style scoped>\n",
       "    .dataframe tbody tr th:only-of-type {\n",
       "        vertical-align: middle;\n",
       "    }\n",
       "\n",
       "    .dataframe tbody tr th {\n",
       "        vertical-align: top;\n",
       "    }\n",
       "\n",
       "    .dataframe thead th {\n",
       "        text-align: right;\n",
       "    }\n",
       "</style>\n",
       "<table border=\"1\" class=\"dataframe\">\n",
       "  <thead>\n",
       "    <tr style=\"text-align: right;\">\n",
       "      <th></th>\n",
       "      <th>code</th>\n",
       "      <th>region</th>\n",
       "      <th>Description</th>\n",
       "      <th>to_AIS98</th>\n",
       "      <th>from_AIS98</th>\n",
       "      <th>FCI</th>\n",
       "      <th>predot</th>\n",
       "      <th>severity</th>\n",
       "      <th>chapter</th>\n",
       "    </tr>\n",
       "  </thead>\n",
       "  <tbody>\n",
       "    <tr>\n",
       "      <th>0</th>\n",
       "      <td>10000.1</td>\n",
       "      <td>6</td>\n",
       "      <td>Hypothermia NFS [primary injury, not treatment...</td>\n",
       "      <td>NONE</td>\n",
       "      <td>NONE</td>\n",
       "      <td></td>\n",
       "      <td>10000</td>\n",
       "      <td>1.0</td>\n",
       "      <td>0.0</td>\n",
       "    </tr>\n",
       "    <tr>\n",
       "      <th>1</th>\n",
       "      <td>10002.1</td>\n",
       "      <td>6</td>\n",
       "      <td>Hypothermia [primary injury, not treatment-rel...</td>\n",
       "      <td>NONE</td>\n",
       "      <td>NONE</td>\n",
       "      <td></td>\n",
       "      <td>10002</td>\n",
       "      <td>1.0</td>\n",
       "      <td>0.0</td>\n",
       "    </tr>\n",
       "    <tr>\n",
       "      <th>2</th>\n",
       "      <td>10004.2</td>\n",
       "      <td>6</td>\n",
       "      <td>Hypothermia [primary injury, not treatment-rel...</td>\n",
       "      <td>NONE</td>\n",
       "      <td>NONE</td>\n",
       "      <td></td>\n",
       "      <td>10004</td>\n",
       "      <td>2.0</td>\n",
       "      <td>0.0</td>\n",
       "    </tr>\n",
       "    <tr>\n",
       "      <th>3</th>\n",
       "      <td>10006.3</td>\n",
       "      <td>6</td>\n",
       "      <td>Hypothermia [primary injury, not treatment-rel...</td>\n",
       "      <td>NONE</td>\n",
       "      <td>NONE</td>\n",
       "      <td></td>\n",
       "      <td>10006</td>\n",
       "      <td>3.0</td>\n",
       "      <td>0.0</td>\n",
       "    </tr>\n",
       "    <tr>\n",
       "      <th>4</th>\n",
       "      <td>10008.4</td>\n",
       "      <td>6</td>\n",
       "      <td>Hypothermia [primary injury, not treatment-rel...</td>\n",
       "      <td>NONE</td>\n",
       "      <td>NONE</td>\n",
       "      <td></td>\n",
       "      <td>10008</td>\n",
       "      <td>4.0</td>\n",
       "      <td>0.0</td>\n",
       "    </tr>\n",
       "  </tbody>\n",
       "</table>\n",
       "</div>"
      ],
      "text/plain": [
       "      code  region                                        Description  \\\n",
       "0  10000.1       6  Hypothermia NFS [primary injury, not treatment...   \n",
       "1  10002.1       6  Hypothermia [primary injury, not treatment-rel...   \n",
       "2  10004.2       6  Hypothermia [primary injury, not treatment-rel...   \n",
       "3  10006.3       6  Hypothermia [primary injury, not treatment-rel...   \n",
       "4  10008.4       6  Hypothermia [primary injury, not treatment-rel...   \n",
       "\n",
       "     to_AIS98 from_AIS98            FCI  predot  severity  chapter  \n",
       "0  NONE          NONE                     10000       1.0      0.0  \n",
       "1  NONE          NONE                     10002       1.0      0.0  \n",
       "2  NONE          NONE                     10004       2.0      0.0  \n",
       "3  NONE          NONE                     10006       3.0      0.0  \n",
       "4  NONE          NONE                     10008       4.0      0.0  "
      ]
     },
     "execution_count": 9,
     "metadata": {},
     "output_type": "execute_result"
    }
   ],
   "source": [
    "ais_codes.head()"
   ]
  },
  {
   "cell_type": "markdown",
   "metadata": {},
   "source": [
    "## Process AIS codes \n",
    "- Convert to list \n",
    "- Remove missing and unknown predicted values\n",
    "- Convert to numbers"
   ]
  },
  {
   "cell_type": "code",
   "execution_count": 10,
   "metadata": {},
   "outputs": [],
   "source": [
    "# load translations\n",
    "nmt = pd.read_csv(nmt_ais_file, header=None, skip_blank_lines=False,names=[\"AIS05CODE\"])"
   ]
  },
  {
   "cell_type": "code",
   "execution_count": 11,
   "metadata": {},
   "outputs": [
    {
     "data": {
      "text/html": [
       "<div>\n",
       "<style scoped>\n",
       "    .dataframe tbody tr th:only-of-type {\n",
       "        vertical-align: middle;\n",
       "    }\n",
       "\n",
       "    .dataframe tbody tr th {\n",
       "        vertical-align: top;\n",
       "    }\n",
       "\n",
       "    .dataframe thead th {\n",
       "        text-align: right;\n",
       "    }\n",
       "</style>\n",
       "<table border=\"1\" class=\"dataframe\">\n",
       "  <thead>\n",
       "    <tr style=\"text-align: right;\">\n",
       "      <th></th>\n",
       "      <th>AIS05CODE</th>\n",
       "    </tr>\n",
       "  </thead>\n",
       "  <tbody>\n",
       "    <tr>\n",
       "      <th>9995</th>\n",
       "      <td>210602 241200</td>\n",
       "    </tr>\n",
       "    <tr>\n",
       "      <th>9996</th>\n",
       "      <td>840602</td>\n",
       "    </tr>\n",
       "    <tr>\n",
       "      <th>9997</th>\n",
       "      <td>110602 140694 210602</td>\n",
       "    </tr>\n",
       "    <tr>\n",
       "      <th>9998</th>\n",
       "      <td>853151</td>\n",
       "    </tr>\n",
       "    <tr>\n",
       "      <th>9999</th>\n",
       "      <td>110602 853161</td>\n",
       "    </tr>\n",
       "  </tbody>\n",
       "</table>\n",
       "</div>"
      ],
      "text/plain": [
       "                 AIS05CODE\n",
       "9995         210602 241200\n",
       "9996                840602\n",
       "9997  110602 140694 210602\n",
       "9998                853151\n",
       "9999         110602 853161"
      ]
     },
     "execution_count": 11,
     "metadata": {},
     "output_type": "execute_result"
    }
   ],
   "source": [
    "nmt.tail()"
   ]
  },
  {
   "cell_type": "code",
   "execution_count": 12,
   "metadata": {},
   "outputs": [],
   "source": [
    "# convert string to list\n",
    "nmt['AIS05CODE'] = nmt.AIS05CODE.str.split(\" \")"
   ]
  },
  {
   "cell_type": "code",
   "execution_count": 13,
   "metadata": {},
   "outputs": [],
   "source": [
    "# replace predicted NaN (no prediction for patient) with 0 \n",
    "nmt['AIS05CODE'] = [ [\"0\"] if x is np.NaN else x for x in nmt['AIS05CODE']]\n",
    "\n",
    "# replace <unk> (unknown code encountered) with -1\n",
    "nmt['AIS05CODE'] = nmt.apply(lambda x: [\"-1\" if val==\"<unk>\" else val for val in x['AIS05CODE']], axis=1)"
   ]
  },
  {
   "cell_type": "code",
   "execution_count": 14,
   "metadata": {},
   "outputs": [],
   "source": [
    "# convert to numbers\n",
    "nmt['AIS05CODE'] = nmt.apply(lambda x: [int(val) for val in x['AIS05CODE']], axis=1)"
   ]
  },
  {
   "cell_type": "code",
   "execution_count": 15,
   "metadata": {},
   "outputs": [
    {
     "data": {
      "text/html": [
       "<div>\n",
       "<style scoped>\n",
       "    .dataframe tbody tr th:only-of-type {\n",
       "        vertical-align: middle;\n",
       "    }\n",
       "\n",
       "    .dataframe tbody tr th {\n",
       "        vertical-align: top;\n",
       "    }\n",
       "\n",
       "    .dataframe thead th {\n",
       "        text-align: right;\n",
       "    }\n",
       "</style>\n",
       "<table border=\"1\" class=\"dataframe\">\n",
       "  <thead>\n",
       "    <tr style=\"text-align: right;\">\n",
       "      <th></th>\n",
       "      <th>AIS05CODE</th>\n",
       "    </tr>\n",
       "  </thead>\n",
       "  <tbody>\n",
       "    <tr>\n",
       "      <th>0</th>\n",
       "      <td>[210402, 751351, 816002, 816015, 816019, 874089]</td>\n",
       "    </tr>\n",
       "    <tr>\n",
       "      <th>1</th>\n",
       "      <td>[110402, 240402, 410402]</td>\n",
       "    </tr>\n",
       "    <tr>\n",
       "      <th>2</th>\n",
       "      <td>[640200]</td>\n",
       "    </tr>\n",
       "    <tr>\n",
       "      <th>3</th>\n",
       "      <td>[210202, 810402, 810602, 854455]</td>\n",
       "    </tr>\n",
       "    <tr>\n",
       "      <th>4</th>\n",
       "      <td>[110402, 110800, 210202, 210402, 810402, 854455]</td>\n",
       "    </tr>\n",
       "  </tbody>\n",
       "</table>\n",
       "</div>"
      ],
      "text/plain": [
       "                                          AIS05CODE\n",
       "0  [210402, 751351, 816002, 816015, 816019, 874089]\n",
       "1                          [110402, 240402, 410402]\n",
       "2                                          [640200]\n",
       "3                  [210202, 810402, 810602, 854455]\n",
       "4  [110402, 110800, 210202, 210402, 810402, 854455]"
      ]
     },
     "execution_count": 15,
     "metadata": {},
     "output_type": "execute_result"
    }
   ],
   "source": [
    "nmt.head(5)"
   ]
  },
  {
   "cell_type": "markdown",
   "metadata": {},
   "source": [
    "## Add patient ID"
   ]
  },
  {
   "cell_type": "code",
   "execution_count": 16,
   "metadata": {},
   "outputs": [],
   "source": [
    "# load icd test data\n",
    "test_demo = pd.read_csv(test_demo_file)"
   ]
  },
  {
   "cell_type": "code",
   "execution_count": 17,
   "metadata": {},
   "outputs": [],
   "source": [
    "nmt['inc_key'] = test_demo.inc_key"
   ]
  },
  {
   "cell_type": "markdown",
   "metadata": {},
   "source": [
    "## Convert to Long format"
   ]
  },
  {
   "cell_type": "code",
   "execution_count": 18,
   "metadata": {},
   "outputs": [],
   "source": [
    "# convert list of ais codes to a string\n",
    "nmt['ais_str'] = nmt['AIS05CODE'].apply(lambda x: ','.join(map(str, x)))"
   ]
  },
  {
   "cell_type": "code",
   "execution_count": 19,
   "metadata": {},
   "outputs": [],
   "source": [
    "# spread string to multiple columns\n",
    "nmt_ais = nmt.ais_str.str.split(',', expand=True).rename(columns = lambda x: \"AIS\"+str(x+1))"
   ]
  },
  {
   "cell_type": "code",
   "execution_count": 20,
   "metadata": {},
   "outputs": [],
   "source": [
    "# add key from demographics data\n",
    "nmt_ais['inc_key'] = nmt.inc_key"
   ]
  },
  {
   "cell_type": "code",
   "execution_count": 21,
   "metadata": {},
   "outputs": [],
   "source": [
    "# convert to long data and drop rows with NA\n",
    "nmt_long = pd.wide_to_long(nmt_ais, 'AIS', 'inc_key','num').reset_index().dropna()"
   ]
  },
  {
   "cell_type": "code",
   "execution_count": 22,
   "metadata": {},
   "outputs": [],
   "source": [
    "# drop number column\n",
    "nmt_long = nmt_long[['inc_key','AIS']]"
   ]
  },
  {
   "cell_type": "code",
   "execution_count": 23,
   "metadata": {},
   "outputs": [],
   "source": [
    "# rename column\n",
    "nmt_long = nmt_long.rename(columns={'AIS':'ais_predot'})"
   ]
  },
  {
   "cell_type": "code",
   "execution_count": 24,
   "metadata": {},
   "outputs": [],
   "source": [
    "# convert to integer\n",
    "nmt_long['ais_predot'] = nmt_long.ais_predot.astype(int)"
   ]
  },
  {
   "cell_type": "markdown",
   "metadata": {},
   "source": [
    "## Get severity and region"
   ]
  },
  {
   "cell_type": "code",
   "execution_count": 25,
   "metadata": {},
   "outputs": [],
   "source": [
    "# merge with AIS codes\n",
    "nmt_long = nmt_long.merge(ais_codes, left_on='ais_predot', right_on='predot', how='left')"
   ]
  },
  {
   "cell_type": "code",
   "execution_count": 26,
   "metadata": {},
   "outputs": [],
   "source": [
    "# make full code\n",
    "nmt_long['aiscode'] = nmt_long.ais_predot + (nmt_long.severity/10)"
   ]
  },
  {
   "cell_type": "code",
   "execution_count": 27,
   "metadata": {},
   "outputs": [],
   "source": [
    "# select necessary columns\n",
    "nmt_long = nmt_long[['inc_key','aiscode','ais_predot','severity','chapter','region']]"
   ]
  },
  {
   "cell_type": "markdown",
   "metadata": {},
   "source": [
    "## Write to file"
   ]
  },
  {
   "cell_type": "code",
   "execution_count": 28,
   "metadata": {},
   "outputs": [],
   "source": [
    "# order results by key and AIS code\n",
    "nmt_long = nmt_long.sort_values(['inc_key','ais_predot']).reset_index(drop=True)"
   ]
  },
  {
   "cell_type": "code",
   "execution_count": 29,
   "metadata": {},
   "outputs": [],
   "source": [
    "# write file\n",
    "nmt_long.to_csv(nmt_trans_file, index=False)"
   ]
  },
  {
   "cell_type": "code",
   "execution_count": null,
   "metadata": {},
   "outputs": [],
   "source": []
  },
  {
   "cell_type": "code",
   "execution_count": null,
   "metadata": {},
   "outputs": [],
   "source": []
  }
 ],
 "metadata": {
  "kernelspec": {
   "display_name": "Python 3",
   "language": "python",
   "name": "python3"
  },
  "language_info": {
   "codemirror_mode": {
    "name": "ipython",
    "version": 3
   },
   "file_extension": ".py",
   "mimetype": "text/x-python",
   "name": "python",
   "nbconvert_exporter": "python",
   "pygments_lexer": "ipython3",
   "version": "3.8.8"
  }
 },
 "nbformat": 4,
 "nbformat_minor": 4
}
