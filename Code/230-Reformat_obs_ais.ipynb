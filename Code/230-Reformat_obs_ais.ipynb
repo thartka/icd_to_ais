{
 "cells": [
  {
   "cell_type": "markdown",
   "metadata": {},
   "source": [
    "# Project: ICD-AIS conversion using Deep Learning utilizing ICD10\n",
    "\n",
    "This script translates the AIS codes observed in the NTDB to a standardized format to match the translations."
   ]
  },
  {
   "cell_type": "markdown",
   "metadata": {},
   "source": [
    "## Setup"
   ]
  },
  {
   "cell_type": "code",
   "execution_count": 1,
   "metadata": {},
   "outputs": [],
   "source": [
    "import numpy as np\n",
    "import pandas as pd\n",
    "import math"
   ]
  },
  {
   "cell_type": "markdown",
   "metadata": {},
   "source": [
    "#### Files"
   ]
  },
  {
   "cell_type": "code",
   "execution_count": 2,
   "metadata": {},
   "outputs": [],
   "source": [
    "# test ICD codes and demographics\n",
    "ais_obs_file = \"../Data/NTDB_combine/ntdb_test_ais.csv\"\n",
    "test_demo_file = \"../Data/NTDB_combine/ntdb_test_demo.csv\"\n",
    "\n",
    "# ais codes\n",
    "ais_codes_file = \"../Tools/AIS08_codes.csv\"\n",
    "\n",
    "# output of translation\n",
    "ais_obs_reformat_file = \"../Results/Translations/ais_obs.csv\""
   ]
  },
  {
   "cell_type": "markdown",
   "metadata": {},
   "source": [
    "## Load data"
   ]
  },
  {
   "cell_type": "code",
   "execution_count": 3,
   "metadata": {},
   "outputs": [],
   "source": [
    "# load demographics\n",
    "test_demo = pd.read_csv(test_demo_file)"
   ]
  },
  {
   "cell_type": "code",
   "execution_count": 4,
   "metadata": {},
   "outputs": [],
   "source": [
    "# load icd data\n",
    "ais_obs = pd.read_csv(ais_obs_file).rename(columns={'AISCODE':'aiscode'})"
   ]
  },
  {
   "cell_type": "code",
   "execution_count": 5,
   "metadata": {},
   "outputs": [],
   "source": [
    "# get predot code\n",
    "ais_obs['ais_predot'] = ais_obs.aiscode.apply(lambda x: math.floor(x))"
   ]
  },
  {
   "cell_type": "code",
   "execution_count": 6,
   "metadata": {},
   "outputs": [
    {
     "data": {
      "text/html": [
       "<div>\n",
       "<style scoped>\n",
       "    .dataframe tbody tr th:only-of-type {\n",
       "        vertical-align: middle;\n",
       "    }\n",
       "\n",
       "    .dataframe tbody tr th {\n",
       "        vertical-align: top;\n",
       "    }\n",
       "\n",
       "    .dataframe thead th {\n",
       "        text-align: right;\n",
       "    }\n",
       "</style>\n",
       "<table border=\"1\" class=\"dataframe\">\n",
       "  <thead>\n",
       "    <tr style=\"text-align: right;\">\n",
       "      <th></th>\n",
       "      <th>inc_key</th>\n",
       "      <th>aiscode</th>\n",
       "      <th>ais_predot</th>\n",
       "    </tr>\n",
       "  </thead>\n",
       "  <tbody>\n",
       "    <tr>\n",
       "      <th>0</th>\n",
       "      <td>190026915434</td>\n",
       "      <td>210402.1</td>\n",
       "      <td>210402</td>\n",
       "    </tr>\n",
       "    <tr>\n",
       "      <th>1</th>\n",
       "      <td>190026915434</td>\n",
       "      <td>751351.2</td>\n",
       "      <td>751351</td>\n",
       "    </tr>\n",
       "    <tr>\n",
       "      <th>2</th>\n",
       "      <td>190026915434</td>\n",
       "      <td>816011.1</td>\n",
       "      <td>816011</td>\n",
       "    </tr>\n",
       "    <tr>\n",
       "      <th>3</th>\n",
       "      <td>190026915434</td>\n",
       "      <td>816015.1</td>\n",
       "      <td>816015</td>\n",
       "    </tr>\n",
       "    <tr>\n",
       "      <th>4</th>\n",
       "      <td>190026915434</td>\n",
       "      <td>816019.1</td>\n",
       "      <td>816019</td>\n",
       "    </tr>\n",
       "  </tbody>\n",
       "</table>\n",
       "</div>"
      ],
      "text/plain": [
       "        inc_key   aiscode  ais_predot\n",
       "0  190026915434  210402.1      210402\n",
       "1  190026915434  751351.2      751351\n",
       "2  190026915434  816011.1      816011\n",
       "3  190026915434  816015.1      816015\n",
       "4  190026915434  816019.1      816019"
      ]
     },
     "execution_count": 6,
     "metadata": {},
     "output_type": "execute_result"
    }
   ],
   "source": [
    "ais_obs.head()"
   ]
  },
  {
   "cell_type": "code",
   "execution_count": 7,
   "metadata": {},
   "outputs": [
    {
     "data": {
      "text/plain": [
       "10000"
      ]
     },
     "execution_count": 7,
     "metadata": {},
     "output_type": "execute_result"
    }
   ],
   "source": [
    "len(ais_obs.inc_key.unique())"
   ]
  },
  {
   "cell_type": "code",
   "execution_count": 8,
   "metadata": {},
   "outputs": [
    {
     "data": {
      "text/plain": [
       "10000"
      ]
     },
     "execution_count": 8,
     "metadata": {},
     "output_type": "execute_result"
    }
   ],
   "source": [
    "len(test_demo.inc_key.unique())"
   ]
  },
  {
   "cell_type": "markdown",
   "metadata": {},
   "source": [
    "## Set up AIS reference"
   ]
  },
  {
   "cell_type": "code",
   "execution_count": 9,
   "metadata": {},
   "outputs": [],
   "source": [
    "# load AIS codes\n",
    "ais_codes = pd.read_csv(ais_codes_file, header=0, encoding='iso-8859-1')\n",
    "\n",
    "# get predot code\n",
    "ais_codes['predot'] = ais_codes.code.apply(lambda x: math.floor(x))\n",
    "\n",
    "# make dictionary of codes\n",
    "ais_dot = pd.Series(ais_codes.code.values, index=ais_codes.predot).to_dict()\n",
    "ais_dot[0] = 0.0\n",
    "ais_dot[-1] = -1.0"
   ]
  },
  {
   "cell_type": "code",
   "execution_count": 10,
   "metadata": {},
   "outputs": [],
   "source": [
    "# extract severity\n",
    "ais_codes['severity'] = (ais_codes.code %1)*10"
   ]
  },
  {
   "cell_type": "code",
   "execution_count": 11,
   "metadata": {},
   "outputs": [],
   "source": [
    "# get chapter number (first digit of code)\n",
    "ais_codes['chapter'] = np.floor(ais_codes.code/100_000)"
   ]
  },
  {
   "cell_type": "code",
   "execution_count": 12,
   "metadata": {},
   "outputs": [],
   "source": [
    "# function to map body region descriptions to numbers\n",
    "regions = dict({'head_neck':1,'chest':2,'abd_pelvis':3,'extremity':4,'face':5,'external':6})"
   ]
  },
  {
   "cell_type": "code",
   "execution_count": 13,
   "metadata": {},
   "outputs": [],
   "source": [
    "# replace region descriptors with integer value\n",
    "ais_codes = ais_codes.replace({'region':regions})"
   ]
  },
  {
   "cell_type": "code",
   "execution_count": 14,
   "metadata": {},
   "outputs": [
    {
     "data": {
      "text/html": [
       "<div>\n",
       "<style scoped>\n",
       "    .dataframe tbody tr th:only-of-type {\n",
       "        vertical-align: middle;\n",
       "    }\n",
       "\n",
       "    .dataframe tbody tr th {\n",
       "        vertical-align: top;\n",
       "    }\n",
       "\n",
       "    .dataframe thead th {\n",
       "        text-align: right;\n",
       "    }\n",
       "</style>\n",
       "<table border=\"1\" class=\"dataframe\">\n",
       "  <thead>\n",
       "    <tr style=\"text-align: right;\">\n",
       "      <th></th>\n",
       "      <th>code</th>\n",
       "      <th>region</th>\n",
       "      <th>Description</th>\n",
       "      <th>to_AIS98</th>\n",
       "      <th>from_AIS98</th>\n",
       "      <th>FCI</th>\n",
       "      <th>predot</th>\n",
       "      <th>severity</th>\n",
       "      <th>chapter</th>\n",
       "    </tr>\n",
       "  </thead>\n",
       "  <tbody>\n",
       "    <tr>\n",
       "      <th>0</th>\n",
       "      <td>10000.1</td>\n",
       "      <td>6</td>\n",
       "      <td>Hypothermia NFS [primary injury, not treatment...</td>\n",
       "      <td>NONE</td>\n",
       "      <td>NONE</td>\n",
       "      <td></td>\n",
       "      <td>10000</td>\n",
       "      <td>1.0</td>\n",
       "      <td>0.0</td>\n",
       "    </tr>\n",
       "    <tr>\n",
       "      <th>1</th>\n",
       "      <td>10002.1</td>\n",
       "      <td>6</td>\n",
       "      <td>Hypothermia [primary injury, not treatment-rel...</td>\n",
       "      <td>NONE</td>\n",
       "      <td>NONE</td>\n",
       "      <td></td>\n",
       "      <td>10002</td>\n",
       "      <td>1.0</td>\n",
       "      <td>0.0</td>\n",
       "    </tr>\n",
       "    <tr>\n",
       "      <th>2</th>\n",
       "      <td>10004.2</td>\n",
       "      <td>6</td>\n",
       "      <td>Hypothermia [primary injury, not treatment-rel...</td>\n",
       "      <td>NONE</td>\n",
       "      <td>NONE</td>\n",
       "      <td></td>\n",
       "      <td>10004</td>\n",
       "      <td>2.0</td>\n",
       "      <td>0.0</td>\n",
       "    </tr>\n",
       "    <tr>\n",
       "      <th>3</th>\n",
       "      <td>10006.3</td>\n",
       "      <td>6</td>\n",
       "      <td>Hypothermia [primary injury, not treatment-rel...</td>\n",
       "      <td>NONE</td>\n",
       "      <td>NONE</td>\n",
       "      <td></td>\n",
       "      <td>10006</td>\n",
       "      <td>3.0</td>\n",
       "      <td>0.0</td>\n",
       "    </tr>\n",
       "    <tr>\n",
       "      <th>4</th>\n",
       "      <td>10008.4</td>\n",
       "      <td>6</td>\n",
       "      <td>Hypothermia [primary injury, not treatment-rel...</td>\n",
       "      <td>NONE</td>\n",
       "      <td>NONE</td>\n",
       "      <td></td>\n",
       "      <td>10008</td>\n",
       "      <td>4.0</td>\n",
       "      <td>0.0</td>\n",
       "    </tr>\n",
       "  </tbody>\n",
       "</table>\n",
       "</div>"
      ],
      "text/plain": [
       "      code  region                                        Description  \\\n",
       "0  10000.1       6  Hypothermia NFS [primary injury, not treatment...   \n",
       "1  10002.1       6  Hypothermia [primary injury, not treatment-rel...   \n",
       "2  10004.2       6  Hypothermia [primary injury, not treatment-rel...   \n",
       "3  10006.3       6  Hypothermia [primary injury, not treatment-rel...   \n",
       "4  10008.4       6  Hypothermia [primary injury, not treatment-rel...   \n",
       "\n",
       "     to_AIS98 from_AIS98            FCI  predot  severity  chapter  \n",
       "0  NONE          NONE                     10000       1.0      0.0  \n",
       "1  NONE          NONE                     10002       1.0      0.0  \n",
       "2  NONE          NONE                     10004       2.0      0.0  \n",
       "3  NONE          NONE                     10006       3.0      0.0  \n",
       "4  NONE          NONE                     10008       4.0      0.0  "
      ]
     },
     "execution_count": 14,
     "metadata": {},
     "output_type": "execute_result"
    }
   ],
   "source": [
    "ais_codes.head()"
   ]
  },
  {
   "cell_type": "markdown",
   "metadata": {},
   "source": [
    "## Merge with AIS dictionary"
   ]
  },
  {
   "cell_type": "code",
   "execution_count": 15,
   "metadata": {},
   "outputs": [],
   "source": [
    "# merge codes with data\n",
    "ais_obs = ais_obs.merge(ais_codes, left_on='ais_predot', right_on='predot', how='left')"
   ]
  },
  {
   "cell_type": "code",
   "execution_count": 16,
   "metadata": {},
   "outputs": [],
   "source": [
    "# select necessary columns\n",
    "ais_obs = ais_obs[['inc_key','aiscode','ais_predot','severity','chapter','region']]"
   ]
  },
  {
   "cell_type": "code",
   "execution_count": 17,
   "metadata": {},
   "outputs": [
    {
     "data": {
      "text/html": [
       "<div>\n",
       "<style scoped>\n",
       "    .dataframe tbody tr th:only-of-type {\n",
       "        vertical-align: middle;\n",
       "    }\n",
       "\n",
       "    .dataframe tbody tr th {\n",
       "        vertical-align: top;\n",
       "    }\n",
       "\n",
       "    .dataframe thead th {\n",
       "        text-align: right;\n",
       "    }\n",
       "</style>\n",
       "<table border=\"1\" class=\"dataframe\">\n",
       "  <thead>\n",
       "    <tr style=\"text-align: right;\">\n",
       "      <th></th>\n",
       "      <th>inc_key</th>\n",
       "      <th>aiscode</th>\n",
       "      <th>ais_predot</th>\n",
       "      <th>severity</th>\n",
       "      <th>chapter</th>\n",
       "      <th>region</th>\n",
       "    </tr>\n",
       "  </thead>\n",
       "  <tbody>\n",
       "    <tr>\n",
       "      <th>0</th>\n",
       "      <td>190026915434</td>\n",
       "      <td>210402.1</td>\n",
       "      <td>210402</td>\n",
       "      <td>1.0</td>\n",
       "      <td>2.0</td>\n",
       "      <td>6.0</td>\n",
       "    </tr>\n",
       "    <tr>\n",
       "      <th>1</th>\n",
       "      <td>190026915434</td>\n",
       "      <td>751351.2</td>\n",
       "      <td>751351</td>\n",
       "      <td>2.0</td>\n",
       "      <td>7.0</td>\n",
       "      <td>4.0</td>\n",
       "    </tr>\n",
       "    <tr>\n",
       "      <th>2</th>\n",
       "      <td>190026915434</td>\n",
       "      <td>816011.1</td>\n",
       "      <td>816011</td>\n",
       "      <td>1.0</td>\n",
       "      <td>8.0</td>\n",
       "      <td>6.0</td>\n",
       "    </tr>\n",
       "    <tr>\n",
       "      <th>3</th>\n",
       "      <td>190026915434</td>\n",
       "      <td>816015.1</td>\n",
       "      <td>816015</td>\n",
       "      <td>1.0</td>\n",
       "      <td>8.0</td>\n",
       "      <td>6.0</td>\n",
       "    </tr>\n",
       "    <tr>\n",
       "      <th>4</th>\n",
       "      <td>190026915434</td>\n",
       "      <td>816019.1</td>\n",
       "      <td>816019</td>\n",
       "      <td>1.0</td>\n",
       "      <td>8.0</td>\n",
       "      <td>6.0</td>\n",
       "    </tr>\n",
       "  </tbody>\n",
       "</table>\n",
       "</div>"
      ],
      "text/plain": [
       "        inc_key   aiscode  ais_predot  severity  chapter  region\n",
       "0  190026915434  210402.1      210402       1.0      2.0     6.0\n",
       "1  190026915434  751351.2      751351       2.0      7.0     4.0\n",
       "2  190026915434  816011.1      816011       1.0      8.0     6.0\n",
       "3  190026915434  816015.1      816015       1.0      8.0     6.0\n",
       "4  190026915434  816019.1      816019       1.0      8.0     6.0"
      ]
     },
     "execution_count": 17,
     "metadata": {},
     "output_type": "execute_result"
    }
   ],
   "source": [
    "ais_obs.head()"
   ]
  },
  {
   "cell_type": "markdown",
   "metadata": {},
   "source": [
    "## Add rows with patients with no AIS codes"
   ]
  },
  {
   "cell_type": "code",
   "execution_count": 18,
   "metadata": {},
   "outputs": [],
   "source": [
    "# find keys patient with no AIS codes\n",
    "missing_pt = np.setdiff1d(test_demo.inc_key.unique(), ais_obs.inc_key.unique())"
   ]
  },
  {
   "cell_type": "code",
   "execution_count": 19,
   "metadata": {},
   "outputs": [],
   "source": [
    "# loop through missing patients\n",
    "for pt in missing_pt:\n",
    "    \n",
    "    # create datframe for patient\n",
    "    pt_df = pd.DataFrame({'inc_key':[pt], 'aiscode':[0],'ais_predot':[0],'severity':[0],'chapter':[0],'region':[0]})\n",
    "    \n",
    "    ais_obs = ais_obs.append(pt_df, ignore_index=True).sort_values('inc_key').reset_index(drop=True)"
   ]
  },
  {
   "cell_type": "code",
   "execution_count": 20,
   "metadata": {},
   "outputs": [
    {
     "data": {
      "text/html": [
       "<div>\n",
       "<style scoped>\n",
       "    .dataframe tbody tr th:only-of-type {\n",
       "        vertical-align: middle;\n",
       "    }\n",
       "\n",
       "    .dataframe tbody tr th {\n",
       "        vertical-align: top;\n",
       "    }\n",
       "\n",
       "    .dataframe thead th {\n",
       "        text-align: right;\n",
       "    }\n",
       "</style>\n",
       "<table border=\"1\" class=\"dataframe\">\n",
       "  <thead>\n",
       "    <tr style=\"text-align: right;\">\n",
       "      <th></th>\n",
       "      <th>inc_key</th>\n",
       "      <th>aiscode</th>\n",
       "      <th>ais_predot</th>\n",
       "      <th>severity</th>\n",
       "      <th>chapter</th>\n",
       "      <th>region</th>\n",
       "    </tr>\n",
       "  </thead>\n",
       "  <tbody>\n",
       "    <tr>\n",
       "      <th>33492</th>\n",
       "      <td>190046127989</td>\n",
       "      <td>140693.2</td>\n",
       "      <td>140693</td>\n",
       "      <td>2.0</td>\n",
       "      <td>1.0</td>\n",
       "      <td>1.0</td>\n",
       "    </tr>\n",
       "    <tr>\n",
       "      <th>33493</th>\n",
       "      <td>190046127989</td>\n",
       "      <td>210602.1</td>\n",
       "      <td>210602</td>\n",
       "      <td>1.0</td>\n",
       "      <td>2.0</td>\n",
       "      <td>6.0</td>\n",
       "    </tr>\n",
       "    <tr>\n",
       "      <th>33494</th>\n",
       "      <td>190046128077</td>\n",
       "      <td>853151.3</td>\n",
       "      <td>853151</td>\n",
       "      <td>3.0</td>\n",
       "      <td>8.0</td>\n",
       "      <td>4.0</td>\n",
       "    </tr>\n",
       "    <tr>\n",
       "      <th>33495</th>\n",
       "      <td>190046128321</td>\n",
       "      <td>110600.1</td>\n",
       "      <td>110600</td>\n",
       "      <td>1.0</td>\n",
       "      <td>1.0</td>\n",
       "      <td>6.0</td>\n",
       "    </tr>\n",
       "    <tr>\n",
       "      <th>33496</th>\n",
       "      <td>190046128321</td>\n",
       "      <td>853161.3</td>\n",
       "      <td>853161</td>\n",
       "      <td>3.0</td>\n",
       "      <td>8.0</td>\n",
       "      <td>4.0</td>\n",
       "    </tr>\n",
       "  </tbody>\n",
       "</table>\n",
       "</div>"
      ],
      "text/plain": [
       "            inc_key   aiscode  ais_predot  severity  chapter  region\n",
       "33492  190046127989  140693.2      140693       2.0      1.0     1.0\n",
       "33493  190046127989  210602.1      210602       1.0      2.0     6.0\n",
       "33494  190046128077  853151.3      853151       3.0      8.0     4.0\n",
       "33495  190046128321  110600.1      110600       1.0      1.0     6.0\n",
       "33496  190046128321  853161.3      853161       3.0      8.0     4.0"
      ]
     },
     "execution_count": 20,
     "metadata": {},
     "output_type": "execute_result"
    }
   ],
   "source": [
    "ais_obs.tail()"
   ]
  },
  {
   "cell_type": "markdown",
   "metadata": {},
   "source": [
    "## Store results"
   ]
  },
  {
   "cell_type": "code",
   "execution_count": 21,
   "metadata": {},
   "outputs": [],
   "source": [
    "# write out results\n",
    "ais_obs.to_csv(ais_obs_reformat_file, index=False)"
   ]
  },
  {
   "cell_type": "code",
   "execution_count": null,
   "metadata": {},
   "outputs": [],
   "source": []
  }
 ],
 "metadata": {
  "kernelspec": {
   "display_name": "Python 3",
   "language": "python",
   "name": "python3"
  },
  "language_info": {
   "codemirror_mode": {
    "name": "ipython",
    "version": 3
   },
   "file_extension": ".py",
   "mimetype": "text/x-python",
   "name": "python",
   "nbconvert_exporter": "python",
   "pygments_lexer": "ipython3",
   "version": "3.8.8"
  }
 },
 "nbformat": 4,
 "nbformat_minor": 4
}
