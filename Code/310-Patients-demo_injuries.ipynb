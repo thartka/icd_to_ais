{
 "cells": [
  {
   "cell_type": "markdown",
   "metadata": {},
   "source": [
    "# Project: ICD-AIS conversion using Deep Learning utilizing ICD10\n",
    "\n",
    "This script analyzes the get patient demographics and injury information for Table 1."
   ]
  },
  {
   "cell_type": "markdown",
   "metadata": {},
   "source": [
    "## Setup"
   ]
  },
  {
   "cell_type": "code",
   "execution_count": 1,
   "metadata": {},
   "outputs": [],
   "source": [
    "import numpy as np\n",
    "import pandas as pd\n",
    "import math\n",
    "from sklearn import metrics\n",
    "import seaborn as sb\n",
    "import matplotlib.pyplot as plt\n",
    "from scipy.stats import iqr"
   ]
  },
  {
   "cell_type": "markdown",
   "metadata": {},
   "source": [
    "#### Files"
   ]
  },
  {
   "cell_type": "code",
   "execution_count": 2,
   "metadata": {},
   "outputs": [],
   "source": [
    "# training\n",
    "train_demo_file = \"../Data/NTDB_combine/ntdb_train_demo.csv\"\n",
    "train_ais_file = \"../Data/NTDB_combine/ntdb_train_ais.csv\"\n",
    "\n",
    "# validation\n",
    "valid_demo_file = \"../Data/NTDB_combine/ntdb_valid_demo.csv\"\n",
    "valid_ais_file = \"../Data/NTDB_combine/ntdb_valid_ais.csv\"\n",
    "\n",
    "# testing\n",
    "test_demo_file = \"../Data/NTDB_combine/ntdb_test_demo.csv\"\n",
    "test_ais_file = \"../Data/NTDB_combine/ntdb_test_ais.csv\""
   ]
  },
  {
   "cell_type": "markdown",
   "metadata": {},
   "source": [
    "## Load data"
   ]
  },
  {
   "cell_type": "code",
   "execution_count": 3,
   "metadata": {},
   "outputs": [],
   "source": [
    "# Load demographics files\n",
    "train_demo = pd.read_csv(train_demo_file)\n",
    "valid_demo = pd.read_csv(valid_demo_file)\n",
    "test_demo = pd.read_csv(test_demo_file)\n",
    "\n",
    "# Load injury files\n",
    "train_ais = pd.read_csv(train_ais_file)\n",
    "valid_ais = pd.read_csv(valid_ais_file)\n",
    "test_ais = pd.read_csv(test_ais_file)\n"
   ]
  },
  {
   "cell_type": "code",
   "execution_count": 4,
   "metadata": {},
   "outputs": [],
   "source": [
    "# combine training and validation data\n",
    "train_demo = train_demo.append(valid_demo)\n",
    "train_ais = train_ais.append(valid_ais)"
   ]
  },
  {
   "cell_type": "markdown",
   "metadata": {},
   "source": [
    "## Get number of patients and injuries"
   ]
  },
  {
   "cell_type": "code",
   "execution_count": 5,
   "metadata": {},
   "outputs": [],
   "source": [
    "# create data frame with number of patients and injuries\n",
    "res = pd.DataFrame({'num_pts':[len(train_demo), len(test_demo)],\\\n",
    "                         'num_injuries':[len(train_ais), len(test_ais)]})"
   ]
  },
  {
   "cell_type": "markdown",
   "metadata": {},
   "source": [
    "## Calculate median number of injuries and IQR"
   ]
  },
  {
   "cell_type": "code",
   "execution_count": 6,
   "metadata": {},
   "outputs": [],
   "source": [
    "res['inj_med'] = [train_ais.groupby('inc_key').count()['AISCODE'].median(), \\\n",
    "                  test_ais.groupby('inc_key').count()['AISCODE'].median()]"
   ]
  },
  {
   "cell_type": "code",
   "execution_count": 7,
   "metadata": {},
   "outputs": [],
   "source": [
    "res['inj_iqr'] = [[train_ais.groupby('inc_key').count()['AISCODE'].quantile(.25),\n",
    "                   train_ais.groupby('inc_key').count()['AISCODE'].quantile(.75)],\n",
    "                  [test_ais.groupby('inc_key').count()['AISCODE'].quantile(.25),\n",
    "                   test_ais.groupby('inc_key').count()['AISCODE'].quantile(.75)]]"
   ]
  },
  {
   "cell_type": "markdown",
   "metadata": {},
   "source": [
    "## Calculate median age and IQR"
   ]
  },
  {
   "cell_type": "code",
   "execution_count": 8,
   "metadata": {},
   "outputs": [],
   "source": [
    "res['age_med'] = [train_demo.AGEYEARS.median(), test_demo.AGEYEARS.median()]"
   ]
  },
  {
   "cell_type": "code",
   "execution_count": 9,
   "metadata": {},
   "outputs": [],
   "source": [
    "res['age_iqr'] = [[train_demo.AGEYEARS.quantile(0.25),\n",
    "                   train_demo.AGEYEARS.quantile(0.75)],\n",
    "                  [test_demo.AGEYEARS.quantile(0.25),\n",
    "                   test_demo.AGEYEARS.quantile(0.75)],]"
   ]
  },
  {
   "cell_type": "code",
   "execution_count": 10,
   "metadata": {},
   "outputs": [
    {
     "data": {
      "text/html": [
       "<div>\n",
       "<style scoped>\n",
       "    .dataframe tbody tr th:only-of-type {\n",
       "        vertical-align: middle;\n",
       "    }\n",
       "\n",
       "    .dataframe tbody tr th {\n",
       "        vertical-align: top;\n",
       "    }\n",
       "\n",
       "    .dataframe thead th {\n",
       "        text-align: right;\n",
       "    }\n",
       "</style>\n",
       "<table border=\"1\" class=\"dataframe\">\n",
       "  <thead>\n",
       "    <tr style=\"text-align: right;\">\n",
       "      <th></th>\n",
       "      <th>num_pts</th>\n",
       "      <th>num_injuries</th>\n",
       "      <th>inj_med</th>\n",
       "      <th>inj_iqr</th>\n",
       "      <th>age_med</th>\n",
       "      <th>age_iqr</th>\n",
       "    </tr>\n",
       "  </thead>\n",
       "  <tbody>\n",
       "    <tr>\n",
       "      <th>0</th>\n",
       "      <td>2032246</td>\n",
       "      <td>6973435</td>\n",
       "      <td>2.0</td>\n",
       "      <td>[1.0, 4.0]</td>\n",
       "      <td>47.0</td>\n",
       "      <td>[23.0, 68.0]</td>\n",
       "    </tr>\n",
       "    <tr>\n",
       "      <th>1</th>\n",
       "      <td>10000</td>\n",
       "      <td>33497</td>\n",
       "      <td>2.0</td>\n",
       "      <td>[1.0, 4.0]</td>\n",
       "      <td>49.0</td>\n",
       "      <td>[24.0, 70.0]</td>\n",
       "    </tr>\n",
       "  </tbody>\n",
       "</table>\n",
       "</div>"
      ],
      "text/plain": [
       "   num_pts  num_injuries  inj_med     inj_iqr  age_med       age_iqr\n",
       "0  2032246       6973435      2.0  [1.0, 4.0]     47.0  [23.0, 68.0]\n",
       "1    10000         33497      2.0  [1.0, 4.0]     49.0  [24.0, 70.0]"
      ]
     },
     "execution_count": 10,
     "metadata": {},
     "output_type": "execute_result"
    }
   ],
   "source": [
    "res"
   ]
  },
  {
   "cell_type": "markdown",
   "metadata": {},
   "source": [
    "## Sex of patients"
   ]
  },
  {
   "cell_type": "code",
   "execution_count": 16,
   "metadata": {},
   "outputs": [],
   "source": [
    "res['sex'] = [len(train_demo[train_demo.SEX==1.0])/len(train_demo), \n",
    "                len(test_demo[test_demo.SEX==1.0])/len(test_demo)]"
   ]
  },
  {
   "cell_type": "code",
   "execution_count": 17,
   "metadata": {},
   "outputs": [
    {
     "data": {
      "text/html": [
       "<div>\n",
       "<style scoped>\n",
       "    .dataframe tbody tr th:only-of-type {\n",
       "        vertical-align: middle;\n",
       "    }\n",
       "\n",
       "    .dataframe tbody tr th {\n",
       "        vertical-align: top;\n",
       "    }\n",
       "\n",
       "    .dataframe thead th {\n",
       "        text-align: right;\n",
       "    }\n",
       "</style>\n",
       "<table border=\"1\" class=\"dataframe\">\n",
       "  <thead>\n",
       "    <tr style=\"text-align: right;\">\n",
       "      <th></th>\n",
       "      <th>num_pts</th>\n",
       "      <th>num_injuries</th>\n",
       "      <th>inj_med</th>\n",
       "      <th>inj_iqr</th>\n",
       "      <th>age_med</th>\n",
       "      <th>age_iqr</th>\n",
       "      <th>sex</th>\n",
       "    </tr>\n",
       "  </thead>\n",
       "  <tbody>\n",
       "    <tr>\n",
       "      <th>0</th>\n",
       "      <td>2032246</td>\n",
       "      <td>6973435</td>\n",
       "      <td>2.0</td>\n",
       "      <td>[1.0, 4.0]</td>\n",
       "      <td>47.0</td>\n",
       "      <td>[23.0, 68.0]</td>\n",
       "      <td>0.596977</td>\n",
       "    </tr>\n",
       "    <tr>\n",
       "      <th>1</th>\n",
       "      <td>10000</td>\n",
       "      <td>33497</td>\n",
       "      <td>2.0</td>\n",
       "      <td>[1.0, 4.0]</td>\n",
       "      <td>49.0</td>\n",
       "      <td>[24.0, 70.0]</td>\n",
       "      <td>0.580800</td>\n",
       "    </tr>\n",
       "  </tbody>\n",
       "</table>\n",
       "</div>"
      ],
      "text/plain": [
       "   num_pts  num_injuries  inj_med     inj_iqr  age_med       age_iqr       sex\n",
       "0  2032246       6973435      2.0  [1.0, 4.0]     47.0  [23.0, 68.0]  0.596977\n",
       "1    10000         33497      2.0  [1.0, 4.0]     49.0  [24.0, 70.0]  0.580800"
      ]
     },
     "execution_count": 17,
     "metadata": {},
     "output_type": "execute_result"
    }
   ],
   "source": [
    "res"
   ]
  },
  {
   "cell_type": "markdown",
   "metadata": {},
   "source": [
    "## Determine mechanism of injury"
   ]
  },
  {
   "cell_type": "code",
   "execution_count": 11,
   "metadata": {},
   "outputs": [],
   "source": [
    "# get mechanism of injury letter\n",
    "train_demo['mech_letter'] = train_demo.PRIMARYECODEICD10.astype(str).str[0]\n",
    "test_demo['mech_letter'] = test_demo.PRIMARYECODEICD10.astype(str).str[0]"
   ]
  },
  {
   "cell_type": "code",
   "execution_count": 12,
   "metadata": {},
   "outputs": [],
   "source": [
    "# get mechanism of injury number\n",
    "train_demo['mech_num'] = train_demo.PRIMARYECODEICD10.astype(str).str[1:3].astype(int)\n",
    "test_demo['mech_num'] = test_demo.PRIMARYECODEICD10.astype(str).str[1:3].astype(int)"
   ]
  },
  {
   "cell_type": "code",
   "execution_count": 13,
   "metadata": {},
   "outputs": [],
   "source": [
    "def det_moi(row):\n",
    "    if row.mech_letter=='V':\n",
    "        return 'MVC'\n",
    "    elif (row.mech_letter=='W') & (row.mech_num <= 19):\n",
    "        return 'Fall'\n",
    "    elif (row.mech_letter=='X') & (row.mech_num >= 92):\n",
    "        return 'Assault'\n",
    "    elif (row.mech_letter=='Y') & (row.mech_num <= 9):\n",
    "        return 'Assault'\n",
    "    elif (row.mech_letter=='X') & (row.mech_num >=71) & (row.mech_num <=83):\n",
    "        return 'Self-harm'\n",
    "    else:\n",
    "        return 'Other'"
   ]
  },
  {
   "cell_type": "code",
   "execution_count": 14,
   "metadata": {},
   "outputs": [
    {
     "data": {
      "text/plain": [
       "mech\n",
       "Assault      0.091755\n",
       "Fall         0.465897\n",
       "MVC          0.321852\n",
       "Other        0.107204\n",
       "Self-harm    0.013293\n",
       "Name: inc_key, dtype: float64"
      ]
     },
     "execution_count": 14,
     "metadata": {},
     "output_type": "execute_result"
    }
   ],
   "source": [
    "# determine training MOI\n",
    "train_demo['mech'] = train_demo.apply(det_moi, axis=1)\n",
    "train_demo.groupby('mech').inc_key.count()/len(train_demo)"
   ]
  },
  {
   "cell_type": "code",
   "execution_count": 15,
   "metadata": {},
   "outputs": [
    {
     "data": {
      "text/plain": [
       "mech\n",
       "Assault      0.0854\n",
       "Fall         0.4932\n",
       "MVC          0.3033\n",
       "Other        0.1060\n",
       "Self-harm    0.0121\n",
       "Name: inc_key, dtype: float64"
      ]
     },
     "execution_count": 15,
     "metadata": {},
     "output_type": "execute_result"
    }
   ],
   "source": [
    "# determine testing MOI\n",
    "test_demo['mech'] = test_demo.apply(det_moi, axis=1)\n",
    "test_demo.groupby('mech').inc_key.count()/len(test_demo)"
   ]
  },
  {
   "cell_type": "markdown",
   "metadata": {},
   "source": [
    "## Calculate median ISS and IQR"
   ]
  },
  {
   "cell_type": "code",
   "execution_count": 16,
   "metadata": {},
   "outputs": [],
   "source": [
    "res['iss_med'] = [train_demo.ISS_05.median(), test_demo.ISS_05.median()]"
   ]
  },
  {
   "cell_type": "code",
   "execution_count": 17,
   "metadata": {},
   "outputs": [],
   "source": [
    "res['iss_iqr'] = [[train_demo.ISS_05.quantile(0.25),\n",
    "                   train_demo.ISS_05.quantile(0.75)],\n",
    "                  [test_demo.ISS_05.quantile(0.25),\n",
    "                   test_demo.ISS_05.quantile(0.75)],]"
   ]
  },
  {
   "cell_type": "markdown",
   "metadata": {},
   "source": [
    "## Calculate percent ISS >= 16"
   ]
  },
  {
   "cell_type": "code",
   "execution_count": 18,
   "metadata": {},
   "outputs": [],
   "source": [
    "# flag patients with ISS >=16\n",
    "train_demo['ISS16'] = [1 if iss >= 16 else 0 for iss in train_demo.ISS_05]\n",
    "test_demo['ISS16'] = [1 if iss >= 16 else 0 for iss in test_demo.ISS_05]"
   ]
  },
  {
   "cell_type": "code",
   "execution_count": 19,
   "metadata": {},
   "outputs": [],
   "source": [
    "res['iss16'] = [sum(train_demo.ISS16) / len(train_demo),\n",
    "                sum(test_demo.ISS16) / len(test_demo)]"
   ]
  },
  {
   "cell_type": "code",
   "execution_count": null,
   "metadata": {},
   "outputs": [],
   "source": []
  },
  {
   "cell_type": "code",
   "execution_count": 20,
   "metadata": {},
   "outputs": [
    {
     "data": {
      "text/html": [
       "<div>\n",
       "<style scoped>\n",
       "    .dataframe tbody tr th:only-of-type {\n",
       "        vertical-align: middle;\n",
       "    }\n",
       "\n",
       "    .dataframe tbody tr th {\n",
       "        vertical-align: top;\n",
       "    }\n",
       "\n",
       "    .dataframe thead th {\n",
       "        text-align: right;\n",
       "    }\n",
       "</style>\n",
       "<table border=\"1\" class=\"dataframe\">\n",
       "  <thead>\n",
       "    <tr style=\"text-align: right;\">\n",
       "      <th></th>\n",
       "      <th>num_pts</th>\n",
       "      <th>num_injuries</th>\n",
       "      <th>inj_med</th>\n",
       "      <th>inj_iqr</th>\n",
       "      <th>age_med</th>\n",
       "      <th>age_iqr</th>\n",
       "      <th>iss_med</th>\n",
       "      <th>iss_iqr</th>\n",
       "      <th>iss16</th>\n",
       "    </tr>\n",
       "  </thead>\n",
       "  <tbody>\n",
       "    <tr>\n",
       "      <th>0</th>\n",
       "      <td>2032246</td>\n",
       "      <td>6973435</td>\n",
       "      <td>2.0</td>\n",
       "      <td>[1.0, 4.0]</td>\n",
       "      <td>47.0</td>\n",
       "      <td>[23.0, 68.0]</td>\n",
       "      <td>8.0</td>\n",
       "      <td>[4.0, 10.0]</td>\n",
       "      <td>0.1576</td>\n",
       "    </tr>\n",
       "    <tr>\n",
       "      <th>1</th>\n",
       "      <td>10000</td>\n",
       "      <td>33497</td>\n",
       "      <td>2.0</td>\n",
       "      <td>[1.0, 4.0]</td>\n",
       "      <td>49.0</td>\n",
       "      <td>[24.0, 70.0]</td>\n",
       "      <td>8.0</td>\n",
       "      <td>[4.0, 10.0]</td>\n",
       "      <td>0.1478</td>\n",
       "    </tr>\n",
       "  </tbody>\n",
       "</table>\n",
       "</div>"
      ],
      "text/plain": [
       "   num_pts  num_injuries  inj_med     inj_iqr  age_med       age_iqr  iss_med  \\\n",
       "0  2032246       6973435      2.0  [1.0, 4.0]     47.0  [23.0, 68.0]      8.0   \n",
       "1    10000         33497      2.0  [1.0, 4.0]     49.0  [24.0, 70.0]      8.0   \n",
       "\n",
       "       iss_iqr   iss16  \n",
       "0  [4.0, 10.0]  0.1576  \n",
       "1  [4.0, 10.0]  0.1478  "
      ]
     },
     "execution_count": 20,
     "metadata": {},
     "output_type": "execute_result"
    }
   ],
   "source": [
    "res"
   ]
  },
  {
   "cell_type": "markdown",
   "metadata": {},
   "source": [
    "## Calculate MAIS"
   ]
  },
  {
   "cell_type": "code",
   "execution_count": 21,
   "metadata": {},
   "outputs": [],
   "source": [
    "# calculate severity\n",
    "train_ais['severity'] = ((train_ais.AISCODE % 1) * 10).astype(int)\n",
    "test_ais['severity'] = ((test_ais.AISCODE % 1) * 10).astype(int)"
   ]
  },
  {
   "cell_type": "code",
   "execution_count": 22,
   "metadata": {},
   "outputs": [],
   "source": [
    "# fix severities\n",
    "train_ais['severity'] = train_ais.severity.apply(lambda x: 1 if (x > 6) | (x==0) else x)\n",
    "test_ais['severity'] = test_ais.severity.apply(lambda x: 1 if (x > 6) | (x==0) else x)"
   ]
  },
  {
   "cell_type": "code",
   "execution_count": 23,
   "metadata": {},
   "outputs": [],
   "source": [
    "# get mais\n",
    "mais_train = train_ais.sort_values('severity', ascending=False).drop_duplicates('inc_key').severity\n",
    "mais_test = test_ais.sort_values('severity', ascending=False).drop_duplicates('inc_key').severity"
   ]
  },
  {
   "cell_type": "code",
   "execution_count": 24,
   "metadata": {},
   "outputs": [],
   "source": [
    "# find median MAIS\n",
    "res['mais_med'] = [mais_train.median(), mais_test.median()]"
   ]
  },
  {
   "cell_type": "code",
   "execution_count": 25,
   "metadata": {},
   "outputs": [],
   "source": [
    "# find MAIS IQR\n",
    "res['mais_iqr'] = [[mais_train.quantile(0.25), mais_train.quantile(0.75)],\n",
    "                  [mais_test.quantile(0.25),mais_test.quantile(0.75)],]"
   ]
  },
  {
   "cell_type": "markdown",
   "metadata": {},
   "source": [
    "## Calculate MAIS 3+ and 2+"
   ]
  },
  {
   "cell_type": "code",
   "execution_count": 26,
   "metadata": {},
   "outputs": [],
   "source": [
    "# find percent MAIS 3+\n",
    "res['mais3'] = [mais_train[mais_train >=3].count() / len(mais_train),\n",
    "                mais_test[mais_test >=3].count() / len(mais_test)]"
   ]
  },
  {
   "cell_type": "code",
   "execution_count": 27,
   "metadata": {},
   "outputs": [],
   "source": [
    "# find percent MAIS 2+\n",
    "res['mais2'] = [mais_train[mais_train >=2].count() / len(mais_train),\n",
    "                mais_test[mais_test >=2].count() / len(mais_test)]"
   ]
  },
  {
   "cell_type": "code",
   "execution_count": 28,
   "metadata": {},
   "outputs": [
    {
     "data": {
      "text/html": [
       "<div>\n",
       "<style scoped>\n",
       "    .dataframe tbody tr th:only-of-type {\n",
       "        vertical-align: middle;\n",
       "    }\n",
       "\n",
       "    .dataframe tbody tr th {\n",
       "        vertical-align: top;\n",
       "    }\n",
       "\n",
       "    .dataframe thead th {\n",
       "        text-align: right;\n",
       "    }\n",
       "</style>\n",
       "<table border=\"1\" class=\"dataframe\">\n",
       "  <thead>\n",
       "    <tr style=\"text-align: right;\">\n",
       "      <th></th>\n",
       "      <th>num_pts</th>\n",
       "      <th>num_injuries</th>\n",
       "      <th>inj_med</th>\n",
       "      <th>inj_iqr</th>\n",
       "      <th>age_med</th>\n",
       "      <th>age_iqr</th>\n",
       "      <th>iss_med</th>\n",
       "      <th>iss_iqr</th>\n",
       "      <th>iss16</th>\n",
       "      <th>mais_med</th>\n",
       "      <th>mais_iqr</th>\n",
       "      <th>mais3</th>\n",
       "      <th>mais2</th>\n",
       "    </tr>\n",
       "  </thead>\n",
       "  <tbody>\n",
       "    <tr>\n",
       "      <th>0</th>\n",
       "      <td>2032246</td>\n",
       "      <td>6973435</td>\n",
       "      <td>2.0</td>\n",
       "      <td>[1.0, 4.0]</td>\n",
       "      <td>47.0</td>\n",
       "      <td>[23.0, 68.0]</td>\n",
       "      <td>8.0</td>\n",
       "      <td>[4.0, 10.0]</td>\n",
       "      <td>0.1576</td>\n",
       "      <td>2.0</td>\n",
       "      <td>[1.0, 3.0]</td>\n",
       "      <td>0.310213</td>\n",
       "      <td>0.600094</td>\n",
       "    </tr>\n",
       "    <tr>\n",
       "      <th>1</th>\n",
       "      <td>10000</td>\n",
       "      <td>33497</td>\n",
       "      <td>2.0</td>\n",
       "      <td>[1.0, 4.0]</td>\n",
       "      <td>49.0</td>\n",
       "      <td>[24.0, 70.0]</td>\n",
       "      <td>8.0</td>\n",
       "      <td>[4.0, 10.0]</td>\n",
       "      <td>0.1478</td>\n",
       "      <td>2.0</td>\n",
       "      <td>[1.0, 3.0]</td>\n",
       "      <td>0.311200</td>\n",
       "      <td>0.601500</td>\n",
       "    </tr>\n",
       "  </tbody>\n",
       "</table>\n",
       "</div>"
      ],
      "text/plain": [
       "   num_pts  num_injuries  inj_med     inj_iqr  age_med       age_iqr  iss_med  \\\n",
       "0  2032246       6973435      2.0  [1.0, 4.0]     47.0  [23.0, 68.0]      8.0   \n",
       "1    10000         33497      2.0  [1.0, 4.0]     49.0  [24.0, 70.0]      8.0   \n",
       "\n",
       "       iss_iqr   iss16  mais_med    mais_iqr     mais3     mais2  \n",
       "0  [4.0, 10.0]  0.1576       2.0  [1.0, 3.0]  0.310213  0.600094  \n",
       "1  [4.0, 10.0]  0.1478       2.0  [1.0, 3.0]  0.311200  0.601500  "
      ]
     },
     "execution_count": 28,
     "metadata": {},
     "output_type": "execute_result"
    }
   ],
   "source": [
    "res"
   ]
  },
  {
   "cell_type": "code",
   "execution_count": null,
   "metadata": {},
   "outputs": [],
   "source": []
  }
 ],
 "metadata": {
  "kernelspec": {
   "display_name": "Python 3",
   "language": "python",
   "name": "python3"
  },
  "language_info": {
   "codemirror_mode": {
    "name": "ipython",
    "version": 3
   },
   "file_extension": ".py",
   "mimetype": "text/x-python",
   "name": "python",
   "nbconvert_exporter": "python",
   "pygments_lexer": "ipython3",
   "version": "3.8.8"
  }
 },
 "nbformat": 4,
 "nbformat_minor": 4
}
