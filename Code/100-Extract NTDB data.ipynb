{
 "cells": [
  {
   "cell_type": "markdown",
   "metadata": {},
   "source": [
    "# Project: ICD-AIS conversion using Deep Learning utilizing ICD10\n",
    "\n",
    "This script opens the NTDB data files and creates files for used for training and testing translation methods.  These files include patient information(age, sex, MOI, year), observed ICD codes (long format), and observed AIS codes (long format) divided into train/val/test."
   ]
  },
  {
   "cell_type": "markdown",
   "metadata": {},
   "source": [
    "## Setup"
   ]
  },
  {
   "cell_type": "code",
   "execution_count": 1,
   "metadata": {},
   "outputs": [],
   "source": [
    "import numpy as np\n",
    "import pandas as pd"
   ]
  },
  {
   "cell_type": "code",
   "execution_count": 2,
   "metadata": {},
   "outputs": [],
   "source": [
    "validation_perc = 0.1 # percent of cases for validation (from years 2017-2018)\n",
    "test_num = 10_000 # number of data for test (from year 2019)"
   ]
  },
  {
   "cell_type": "markdown",
   "metadata": {},
   "source": [
    "#### Data files"
   ]
  },
  {
   "cell_type": "code",
   "execution_count": 3,
   "metadata": {},
   "outputs": [],
   "source": [
    "# patient info\n",
    "ntdb_files_pt = [\"../Data/NTDB_2017/PUF_TRAUMA.csv\",\n",
    "                  \"../Data/NTDB_2018/PUF_TRAUMA.csv\",\n",
    "                  \"../Data/NTDB_2019/PUF_TRAUMA.csv\"]\n",
    "\n",
    "# procedures in ICD\n",
    "ntdb_files_proc = [\"../Data/NTDB_2017/PUF_ICDPROCEDURE.csv\",\n",
    "                  \"../Data/NTDB_2018/PUF_ICDPROCEDURE.csv\",\n",
    "                  \"../Data/NTDB_2019/PUF_ICDPROCEDURE.csv\"]\n",
    "\n",
    "# diagnoses in ICD\n",
    "ntdb_files_icd = [\"../Data/NTDB_2017/PUF_ICDDIAGNOSIS.csv\",\n",
    "                  \"../Data/NTDB_2018/PUF_ICDDIAGNOSIS.csv\",\n",
    "                  \"../Data/NTDB_2019/PUF_ICDDIAGNOSIS.csv\"]\n",
    "\n",
    "# diagnoses in AIS\n",
    "ntdb_files_ais = [\"../Data/NTDB_2017/PUF_AISDIAGNOSIS.csv\",\n",
    "                  \"../Data/NTDB_2018/PUF_AISDIAGNOSIS.csv\",\n",
    "                  \"../Data/NTDB_2019/PUF_AISDIAGNOSIS.csv\"]"
   ]
  },
  {
   "cell_type": "markdown",
   "metadata": {},
   "source": [
    "#### Output files"
   ]
  },
  {
   "cell_type": "code",
   "execution_count": 4,
   "metadata": {},
   "outputs": [],
   "source": [
    "# training\n",
    "train_demo = \"../Data/NTDB_combine/ntdb_train_demo.csv\"\n",
    "train_proc = \"../Data/NTDB_combine/ntdb_train_proc.csv\"\n",
    "train_icd = \"../Data/NTDB_combine/ntdb_train_icd.csv\"\n",
    "train_ais = \"../Data/NTDB_combine/ntdb_train_ais.csv\"\n",
    "\n",
    "# validation\n",
    "valid_demo = \"../Data/NTDB_combine/ntdb_valid_demo.csv\"\n",
    "valid_proc = \"../Data/NTDB_combine/ntdb_valid_proc.csv\"\n",
    "valid_icd = \"../Data/NTDB_combine/ntdb_valid_icd.csv\"\n",
    "valid_ais = \"../Data/NTDB_combine/ntdb_valid_ais.csv\"\n",
    "\n",
    "# testing\n",
    "test_demo = \"../Data/NTDB_combine/ntdb_test_demo.csv\"\n",
    "test_proc = \"../Data/NTDB_combine/ntdb_test_proc.csv\"\n",
    "test_icd = \"../Data/NTDB_combine/ntdb_test_icd.csv\"\n",
    "test_ais = \"../Data/NTDB_combine/ntdb_test_ais.csv\""
   ]
  },
  {
   "cell_type": "markdown",
   "metadata": {},
   "source": [
    "## Read patient data\n",
    "Combine patient data from different years and randomly select patients for training, validation, and testing."
   ]
  },
  {
   "cell_type": "code",
   "execution_count": 5,
   "metadata": {},
   "outputs": [
    {
     "name": "stderr",
     "output_type": "stream",
     "text": [
      "/apps/software/standard/compiler/gcc/9.2.0/jupyter_conda/2020.11-py3.8/lib/python3.8/site-packages/IPython/core/interactiveshell.py:3418: DtypeWarning: Columns (0,2,15,21,23,39,47,48,50,53,66,68,76,78,79,80,81,82,83,85,87,118,119,121,122,123,125,128,129,131,133,135,138,145,171,172,177,179,208,210,212,213,238,239,240,241,248,249,250,251,260,262,264,266,268,270,272,274,276,278,280,281,282,283,284,285,286,287,288,289,290,291,292,294,295,296,298,299,300,313,314,317,318) have mixed types.Specify dtype option on import or set low_memory=False.\n",
      "  exec(code_obj, self.user_global_ns, self.user_ns)\n"
     ]
    }
   ],
   "source": [
    "# read in 2017 data\n",
    "pt_dat = pd.read_csv(ntdb_files_pt[0])\n",
    "\n",
    "# add year\n",
    "pt_dat['adm_year'] = 2017\n",
    "\n",
    "# create df for combined data\n",
    "pt_demo = pt_dat[['inc_key','SEX','AGEYEARS','PRIMARYECODEICD10','adm_year','ISS_05']].copy()\n",
    "\n",
    "# Convert sex to 1(M)/2(F)\n",
    "pt_demo['SEX'] = pt_demo.apply(lambda row: 1.0 if row.SEX == \"Male\" else 2.0, axis=1)"
   ]
  },
  {
   "cell_type": "code",
   "execution_count": 6,
   "metadata": {},
   "outputs": [],
   "source": [
    "# read in 2018 data\n",
    "pt_dat = pd.read_csv(ntdb_files_pt[1])\n",
    "\n",
    "# add year\n",
    "pt_dat['adm_year'] = 2018\n",
    "\n",
    "# rename column to match 2017\n",
    "pt_dat = pt_dat.rename(columns={'AGEYears':'AGEYEARS'})\n",
    "\n",
    "# append to combined df\n",
    "pt_demo = pt_demo.append(pt_dat[['inc_key','SEX','AGEYEARS','PRIMARYECODEICD10','adm_year','ISS_05']], ignore_index=True)"
   ]
  },
  {
   "cell_type": "code",
   "execution_count": 7,
   "metadata": {},
   "outputs": [],
   "source": [
    "# read in 2019 data\n",
    "pt_dat = pd.read_csv(ntdb_files_pt[2])\n",
    "\n",
    "# add year\n",
    "pt_dat['adm_year'] = 2019\n",
    "\n",
    "# rename column to match 2017\n",
    "pt_dat = pt_dat.rename(columns={'AGEyears':'AGEYEARS'})\n",
    "\n",
    "# append to combined df\n",
    "pt_demo = pt_demo.append(pt_dat[['inc_key','SEX','AGEYEARS','PRIMARYECODEICD10','adm_year','ISS_05']], ignore_index=True)"
   ]
  },
  {
   "cell_type": "code",
   "execution_count": 8,
   "metadata": {},
   "outputs": [],
   "source": [
    "# remove pt_dat\n",
    "del pt_dat"
   ]
  },
  {
   "cell_type": "code",
   "execution_count": 9,
   "metadata": {},
   "outputs": [],
   "source": [
    "# replace age NaN with 0\n",
    "pt_demo['AGEYEARS'] = pt_demo.AGEYEARS.fillna(0)"
   ]
  },
  {
   "cell_type": "code",
   "execution_count": 10,
   "metadata": {},
   "outputs": [],
   "source": [
    "# remove rows with missing data\n",
    "pt_demo = pt_demo.dropna()"
   ]
  },
  {
   "cell_type": "code",
   "execution_count": 11,
   "metadata": {},
   "outputs": [],
   "source": [
    "# remove rows with non-numerics in the inc_key field\n",
    "pt_demo = pt_demo[pd.to_numeric(pt_demo['inc_key'], errors='coerce').notnull()]\n",
    "\n",
    "# convert inc_key to integers\n",
    "pt_demo['inc_key'] = pt_demo.inc_key.astype(int)"
   ]
  },
  {
   "cell_type": "markdown",
   "metadata": {},
   "source": [
    "## Split patient keys for training, validation, and testing"
   ]
  },
  {
   "cell_type": "code",
   "execution_count": 12,
   "metadata": {},
   "outputs": [],
   "source": [
    "# year 2019 will be used for testing\n",
    "pt_demo_test = pt_demo[pt_demo.adm_year==2019]\n",
    "\n",
    "# years 2017-2018 will be used for training/validation\n",
    "pt_demo = pt_demo[pt_demo.adm_year!=2019]"
   ]
  },
  {
   "cell_type": "code",
   "execution_count": 13,
   "metadata": {},
   "outputs": [],
   "source": [
    "# randomize order, then split keys for validation and training\n",
    "key_valid, key_train = np.split(pt_demo.inc_key.sample(frac=1, random_state=42), \n",
    "                               [int(len(pt_demo)*validation_perc)])\n",
    "\n",
    "# randomly sample keys for testing\n",
    "key_test = pt_demo_test.inc_key.sample(n=test_num, random_state=42)"
   ]
  },
  {
   "cell_type": "code",
   "execution_count": 14,
   "metadata": {},
   "outputs": [],
   "source": [
    "# sort in descending order\n",
    "key_valid = key_valid.sort_values()\n",
    "key_train = key_train.sort_values()\n",
    "key_test = key_test.sort_values()"
   ]
  },
  {
   "cell_type": "markdown",
   "metadata": {},
   "source": [
    "## Write out patient demographics"
   ]
  },
  {
   "cell_type": "code",
   "execution_count": 15,
   "metadata": {},
   "outputs": [],
   "source": [
    "# write training, validation, and testing data to separate files\n",
    "pt_demo[pt_demo.inc_key.isin(key_train)].to_csv(train_demo, index=False)\n",
    "pt_demo[pt_demo.inc_key.isin(key_valid)].to_csv(valid_demo, index=False)\n",
    "pt_demo_test[pt_demo_test.inc_key.isin(key_test)].to_csv(test_demo, index=False)"
   ]
  },
  {
   "cell_type": "code",
   "execution_count": 16,
   "metadata": {},
   "outputs": [],
   "source": [
    "# remove demographics\n",
    "del pt_demo, pt_demo_test"
   ]
  },
  {
   "cell_type": "markdown",
   "metadata": {},
   "source": [
    "## Read/Write patient procedures"
   ]
  },
  {
   "cell_type": "code",
   "execution_count": 17,
   "metadata": {},
   "outputs": [],
   "source": [
    "# read in 2017 data\n",
    "pt_dat = pd.read_csv(ntdb_files_proc[0])\n",
    "\n",
    "# select columns and rename key\n",
    "pt_proc = pt_dat[['Inc_Key','ICDPROCEDURECODE']].rename(columns={'Inc_Key':'inc_key'})"
   ]
  },
  {
   "cell_type": "code",
   "execution_count": 18,
   "metadata": {},
   "outputs": [],
   "source": [
    "# read in 2018 data\n",
    "pt_dat = pd.read_csv(ntdb_files_proc[1])\n",
    "\n",
    "# select columns and rename key\n",
    "pt_dat = pt_dat[['Inc_Key','ICDPROCEDURECODE']].rename(columns={'Inc_Key':'inc_key'})\n",
    "\n",
    "# append to previous data\n",
    "pt_proc = pt_proc.append(pt_dat, ignore_index=True)"
   ]
  },
  {
   "cell_type": "code",
   "execution_count": 19,
   "metadata": {},
   "outputs": [],
   "source": [
    "# read in 2019 data\n",
    "pt_dat = pd.read_csv(ntdb_files_proc[2])\n",
    "\n",
    "# select columns and rename key\n",
    "pt_proc_test = pt_dat[['Inc_Key','ICDPROCEDURECODE']].rename(columns={'Inc_Key':'inc_key'})"
   ]
  },
  {
   "cell_type": "code",
   "execution_count": 20,
   "metadata": {},
   "outputs": [],
   "source": [
    "# remove rows with missing data\n",
    "pt_proc = pt_proc.dropna()\n",
    "pt_proc_test = pt_proc_test.dropna()"
   ]
  },
  {
   "cell_type": "code",
   "execution_count": 21,
   "metadata": {},
   "outputs": [],
   "source": [
    "# sort procedures in descending order\n",
    "pt_proc = pt_proc.sort_values(['inc_key','ICDPROCEDURECODE']).reset_index(drop=True)\n",
    "pt_proc_test = pt_proc_test.sort_values(['inc_key','ICDPROCEDURECODE']).reset_index(drop=True)"
   ]
  },
  {
   "cell_type": "code",
   "execution_count": 22,
   "metadata": {},
   "outputs": [],
   "source": [
    "# write training, validation, and testing data to separate files\n",
    "pt_proc[pt_proc.inc_key.isin(key_train)].to_csv(train_proc, index=False)\n",
    "pt_proc[pt_proc.inc_key.isin(key_valid)].to_csv(valid_proc, index=False)\n",
    "pt_proc_test[pt_proc_test.inc_key.isin(key_test)].to_csv(test_proc, index=False)"
   ]
  },
  {
   "cell_type": "code",
   "execution_count": 23,
   "metadata": {},
   "outputs": [],
   "source": [
    "del pt_proc, pt_proc_test"
   ]
  },
  {
   "cell_type": "markdown",
   "metadata": {},
   "source": [
    "## Read/Write patient ICD diagnosis codes"
   ]
  },
  {
   "cell_type": "code",
   "execution_count": 24,
   "metadata": {},
   "outputs": [],
   "source": [
    "# read in 2017 data\n",
    "pt_dat = pd.read_csv(ntdb_files_icd[0])\n",
    "\n",
    "# select columns and rename key\n",
    "pt_icd = pt_dat[['Inc_Key','ICDDIAGNOSISCODE']].rename(columns={'Inc_Key':'inc_key'})"
   ]
  },
  {
   "cell_type": "code",
   "execution_count": 25,
   "metadata": {},
   "outputs": [],
   "source": [
    "# read in 2018 data\n",
    "pt_dat = pd.read_csv(ntdb_files_icd[1])\n",
    "\n",
    "# select columns and rename key\n",
    "pt_dat = pt_dat[['Inc_Key','ICDDIAGNOSISCODE']].rename(columns={'Inc_Key':'inc_key'})\n",
    "\n",
    "# append to previous data\n",
    "pt_icd = pt_icd.append(pt_dat, ignore_index=True)"
   ]
  },
  {
   "cell_type": "code",
   "execution_count": 26,
   "metadata": {},
   "outputs": [],
   "source": [
    "# read in 2019 data\n",
    "pt_dat = pd.read_csv(ntdb_files_icd[2])\n",
    "\n",
    "# select columns and rename key\n",
    "pt_icd_test = pt_dat[['Inc_Key','ICDDIAGNOSISCODE']].rename(columns={'Inc_Key':'inc_key'})"
   ]
  },
  {
   "cell_type": "code",
   "execution_count": 27,
   "metadata": {},
   "outputs": [],
   "source": [
    "# remove rows with missing data\n",
    "pt_icd = pt_icd.dropna()\n",
    "pt_icd_test = pt_icd_test.dropna()"
   ]
  },
  {
   "cell_type": "code",
   "execution_count": 28,
   "metadata": {},
   "outputs": [],
   "source": [
    "# sort in descending order\n",
    "pt_icd = pt_icd.sort_values(['inc_key','ICDDIAGNOSISCODE']).reset_index(drop=True)\n",
    "pt_icd_test = pt_icd_test.sort_values(['inc_key','ICDDIAGNOSISCODE']).reset_index(drop=True)"
   ]
  },
  {
   "cell_type": "code",
   "execution_count": 29,
   "metadata": {},
   "outputs": [],
   "source": [
    "# write training, validation, and testing data to separate files\n",
    "pt_icd[pt_icd.inc_key.isin(key_train)].to_csv(train_icd, index=False)\n",
    "pt_icd[pt_icd.inc_key.isin(key_valid)].to_csv(valid_icd, index=False)\n",
    "pt_icd_test[pt_icd_test.inc_key.isin(key_test)].to_csv(test_icd, index=False)"
   ]
  },
  {
   "cell_type": "code",
   "execution_count": 30,
   "metadata": {},
   "outputs": [],
   "source": [
    "del pt_icd, pt_icd_test"
   ]
  },
  {
   "cell_type": "markdown",
   "metadata": {},
   "source": [
    "## Read/Write patient AIS diagnosis codes"
   ]
  },
  {
   "cell_type": "code",
   "execution_count": 31,
   "metadata": {},
   "outputs": [
    {
     "name": "stderr",
     "output_type": "stream",
     "text": [
      "/apps/software/standard/compiler/gcc/9.2.0/jupyter_conda/2020.11-py3.8/lib/python3.8/site-packages/IPython/core/interactiveshell.py:3418: DtypeWarning: Columns (2,4) have mixed types.Specify dtype option on import or set low_memory=False.\n",
      "  exec(code_obj, self.user_global_ns, self.user_ns)\n"
     ]
    }
   ],
   "source": [
    "# read in 2017 data\n",
    "pt_dat = pd.read_csv(ntdb_files_ais[0])\n",
    "\n",
    "# make AIS code\n",
    "pt_dat['AISCODE'] = pt_dat.AISPREDOT + (pt_dat.AISSeverity/10)\n",
    "\n",
    "# select columns \n",
    "pt_ais = pt_dat[['inc_key','AISCODE']]"
   ]
  },
  {
   "cell_type": "code",
   "execution_count": 32,
   "metadata": {},
   "outputs": [],
   "source": [
    "# read in 2018 data\n",
    "pt_dat = pd.read_csv(ntdb_files_ais[1])\n",
    "\n",
    "# make AIS code\n",
    "pt_dat['AISCODE'] = pt_dat.AISPREDOT + (pt_dat.AISSeverity/10)\n",
    "\n",
    "# select columns \n",
    "pt_dat = pt_dat[['inc_key','AISCODE']]\n",
    "\n",
    "# append to previous data\n",
    "pt_ais = pt_ais.append(pt_dat, ignore_index=True)"
   ]
  },
  {
   "cell_type": "code",
   "execution_count": 33,
   "metadata": {},
   "outputs": [],
   "source": [
    "# read in 2019 data\n",
    "pt_dat = pd.read_csv(ntdb_files_ais[2])\n",
    "\n",
    "# make AIS code\n",
    "pt_dat['AISCODE'] = pt_dat.AISPreDot + (pt_dat.AISSeverity/10)\n",
    "\n",
    "# select columns and rename key\n",
    "pt_ais_test = pt_dat[['inc_key','AISCODE']]"
   ]
  },
  {
   "cell_type": "code",
   "execution_count": 34,
   "metadata": {},
   "outputs": [],
   "source": [
    "# remove rows with missing data\n",
    "pt_ais = pt_ais.dropna()\n",
    "pt_ais_test = pt_ais_test.dropna()"
   ]
  },
  {
   "cell_type": "code",
   "execution_count": 35,
   "metadata": {},
   "outputs": [],
   "source": [
    "# sort values in descending orders\n",
    "pt_ais = pt_ais.sort_values(['inc_key','AISCODE']).reset_index(drop=True)\n",
    "pt_ais_test = pt_ais_test.sort_values(['inc_key','AISCODE']).reset_index(drop=True)"
   ]
  },
  {
   "cell_type": "code",
   "execution_count": 36,
   "metadata": {},
   "outputs": [],
   "source": [
    "# write training, validation, and testing data to separate files\n",
    "pt_ais[pt_ais.inc_key.isin(key_train)].to_csv(train_ais, index=False)\n",
    "pt_ais[pt_ais.inc_key.isin(key_valid)].to_csv(valid_ais, index=False)\n",
    "pt_ais_test[pt_ais_test.inc_key.isin(key_test)].to_csv(test_ais, index=False)"
   ]
  },
  {
   "cell_type": "code",
   "execution_count": 37,
   "metadata": {},
   "outputs": [],
   "source": [
    "del pt_dat, pt_ais, pt_ais_test"
   ]
  },
  {
   "cell_type": "code",
   "execution_count": 38,
   "metadata": {},
   "outputs": [
    {
     "data": {
      "text/plain": [
       "2042267    190026915434\n",
       "2042507    190026952586\n",
       "2042652    190026952733\n",
       "2042770    190026952851\n",
       "2043012    190026953094\n",
       "               ...     \n",
       "3138618    190045782557\n",
       "3138705    190046127851\n",
       "3138843    190046127989\n",
       "3138931    190046128077\n",
       "3139173    190046128321\n",
       "Name: inc_key, Length: 10000, dtype: int64"
      ]
     },
     "execution_count": 38,
     "metadata": {},
     "output_type": "execute_result"
    }
   ],
   "source": [
    "key_test"
   ]
  }
 ],
 "metadata": {
  "kernelspec": {
   "display_name": "Python 3",
   "language": "python",
   "name": "python3"
  },
  "language_info": {
   "codemirror_mode": {
    "name": "ipython",
    "version": 3
   },
   "file_extension": ".py",
   "mimetype": "text/x-python",
   "name": "python",
   "nbconvert_exporter": "python",
   "pygments_lexer": "ipython3",
   "version": "3.8.8"
  },
  "toc-autonumbering": false
 },
 "nbformat": 4,
 "nbformat_minor": 4
}
