{
 "cells": [
  {
   "cell_type": "markdown",
   "metadata": {},
   "source": [
    "# Project: ICD-AIS conversion using Deep Learning using ICD10\n",
    "\n",
    "This file contains the commands and contents of the parameter files for OpenNMT.  Note: NVDIA P100 GPUs work.\n"
   ]
  },
  {
   "cell_type": "markdown",
   "metadata": {},
   "source": [
    "## Config file\n",
    "The follow configuration file should be in the OpenNMT directory."
   ]
  },
  {
   "cell_type": "raw",
   "metadata": {},
   "source": [
    "# ICD_AIS-NMT.yaml\n",
    "# Batching\n",
    "bucket_size: 262144\n",
    "num_workers: 4\n",
    "batch_type: \"tokens\"\n",
    "batch_size: 4096\n",
    "valid_batch_size: 2048\n",
    "accum_count: [4]\n",
    "accum_steps: [0]\n",
    "\n",
    "# Optimization\n",
    "model_dtype: \"fp16\"\n",
    "optim: \"adam\"\n",
    "learning_rate: 2\n",
    "warmup_steps: 8000\n",
    "decay_method: \"noam\"\n",
    "adam_beta2: 0.998\n",
    "max_grad_norm: 0\n",
    "label_smoothing: 0.1\n",
    "param_init: 0\n",
    "param_init_glorot: true\n",
    "normalization: \"tokens\"\n",
    "\n",
    "# Model\n",
    "encoder_type: transformer\n",
    "decoder_type: transformer\n",
    "position_encoding: true\n",
    "enc_layers: 6\n",
    "dec_layers: 6\n",
    "heads: 8\n",
    "rnn_size: 512\n",
    "#hidden_size: 512  <-- V3 parameter\n",
    "word_vec_size: 512\n",
    "transformer_ff: 2048\n",
    "dropout_steps: [0]\n",
    "dropout: [0.1]\n",
    "attention_dropout: [0.1]\n",
    "\n",
    "# Train on a single GPU\n",
    "world_size: 1\n",
    "gpu_ranks: [0]\n",
    "\n",
    "# stopping criteria\n",
    "early_stopping: 4\n",
    "\n",
    "\n",
    "## Where the samples will be written\n",
    "save_data: run/init_model\n",
    "#save_data: /scratch/trh6u/ONMT/run\n",
    "\n",
    "## Where the vocab(s) will be written\n",
    "src_vocab: run/init_model.vocab.icd\n",
    "tgt_vocab: run/init_model.vocab.ais\n",
    "# Prevent overwriting existing files in the folder\n",
    "overwrite: True\n",
    "\n",
    "# Corpus opts:\n",
    "data:\n",
    "    corpus_1:\n",
    "        path_src: ../Data/NTDB_sentence/train_icd10_agecat_proc.csv\n",
    "        path_tgt: ../Data/NTDB_sentence/train_ais_no_sev.csv\n",
    "        weight: 1\n",
    "        transforms: []\n",
    "    valid:\n",
    "        path_src: ../Data/NTDB_sentence/valid_icd10_agecat_proc.csv\n",
    "        path_tgt: ../Data/NTDB_sentence/valid_ais_no_sev.csv\n",
    "        transforms: []\n",
    "        \n",
    "# Vocabulary files that were just created\n",
    "src_vocab: run/init_model.vocab.icd\n",
    "tgt_vocab: run/init_model.vocab.ais\n",
    "\n",
    "# Where to save the checkpoints\n",
    "save_model: /scratch/trh6u/ONMT/run/model_trans\n",
    "save_checkpoint_steps: 1000\n",
    "#train_steps: 1000\n",
    "valid_steps: 1000"
   ]
  },
  {
   "cell_type": "markdown",
   "metadata": {},
   "source": [
    "## Commands"
   ]
  },
  {
   "cell_type": "raw",
   "metadata": {},
   "source": [
    "Early stopping:\n",
    "export PATH=\"$PATH:/home/trh6u/.local/bin\"\n",
    "onmt_build_vocab -config ICD_AIS-NMT.yaml -n_sample 1000000\n",
    "onmt_train -config ICD_AIS-NMT.yaml\n",
    "onmt_train -config ICD_AIS-NMT.yaml |& tee output_train_trans.txt\n",
    "onmt_translate -model /scratch/trh6u/ONMT/run/model_trans_step_17000.pt -src ../Data/NTDB_sentence/test_icd10_agecat_proc.csv -output ../Results/Translations/NMT_sentence_proc_trans.csv -gpu 0 \n",
    "\n",
    "Testing with attention:\n",
    "onmt_translate -model /scratch/trh6u/ONMT/run/model_trans_step_17000.ptt -src ../Data/NTDB_sentence/valid_icd10_agecat_proc.csv -output ../Results/Translations/NMT_sentence_proc_trans.csv -gpu 0  -attn_debug &> ../Results/Translations/NMT_sentence_attn_trans.csv -gpu 0\n",
    "\n"
   ]
  },
  {
   "cell_type": "code",
   "execution_count": null,
   "metadata": {},
   "outputs": [],
   "source": []
  }
 ],
 "metadata": {
  "kernelspec": {
   "display_name": "Python 3",
   "language": "python",
   "name": "python3"
  },
  "language_info": {
   "codemirror_mode": {
    "name": "ipython",
    "version": 3
   },
   "file_extension": ".py",
   "mimetype": "text/x-python",
   "name": "python",
   "nbconvert_exporter": "python",
   "pygments_lexer": "ipython3",
   "version": "3.8.8"
  }
 },
 "nbformat": 4,
 "nbformat_minor": 4
}
