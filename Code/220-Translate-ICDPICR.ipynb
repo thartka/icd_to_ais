{
 "cells": [
  {
   "cell_type": "markdown",
   "metadata": {},
   "source": [
    "# Project: ICD-AIS conversion using Deep Learning utilizing ICD10\n",
    "\n",
    "This script translated the ICD codes using ICDPIC-R\n",
    "\n",
    "Note: This notebook uses an R 3.6 kernal.  Not Python."
   ]
  },
  {
   "cell_type": "markdown",
   "metadata": {},
   "source": [
    "## Setup"
   ]
  },
  {
   "cell_type": "code",
   "execution_count": 2,
   "metadata": {},
   "outputs": [],
   "source": [
    "# load tidyverse and ICDPIC-R\n",
    "library(tidyverse)\n",
    "library(icdpicr)\n",
    "library(stringr)\n",
    "\n",
    "# clear memory\n",
    "rm(list=ls())\n",
    "\n",
    "# display full numbers\n",
    "options(scipen=999)"
   ]
  },
  {
   "cell_type": "code",
   "execution_count": 3,
   "metadata": {},
   "outputs": [
    {
     "name": "stderr",
     "output_type": "stream",
     "text": [
      "Installing package into ‘/sfs/qumulo/qhome/trh6u/R/goolf/3.6’\n",
      "(as ‘lib’ is unspecified)\n",
      "\n"
     ]
    }
   ],
   "source": [
    "install.packages(\"icdpicr\", dependencies = TRUE)"
   ]
  },
  {
   "cell_type": "code",
   "execution_count": 4,
   "metadata": {},
   "outputs": [
    {
     "name": "stderr",
     "output_type": "stream",
     "text": [
      "Installing package into ‘/sfs/qumulo/qhome/trh6u/R/goolf/3.6’\n",
      "(as ‘lib’ is unspecified)\n",
      "\n"
     ]
    }
   ],
   "source": [
    "install.packages(\"tidyverse\", dependencies = TRUE)"
   ]
  },
  {
   "cell_type": "code",
   "execution_count": null,
   "metadata": {},
   "outputs": [],
   "source": []
  },
  {
   "cell_type": "markdown",
   "metadata": {},
   "source": [
    "#### Files"
   ]
  },
  {
   "cell_type": "code",
   "execution_count": 5,
   "metadata": {},
   "outputs": [],
   "source": [
    "# test inputs\n",
    "test_icd_file <- \"../Data/NTDB_combine/ntdb_test_icd.csv\"\n",
    "\n",
    "# output file for translation\n",
    "results_ais_file <- \"../Results/Translations/test_ais_icdpic.csv\""
   ]
  },
  {
   "cell_type": "markdown",
   "metadata": {},
   "source": [
    "## Load ICD codes\n",
    "\n",
    "Only use the first 10,000 patients of the testing data."
   ]
  },
  {
   "cell_type": "code",
   "execution_count": 6,
   "metadata": {},
   "outputs": [],
   "source": [
    "# load data\n",
    "icd <- read_csv(test_icd_file, col_names = TRUE, col_types=cols(inc_key=col_double(), ICDDIAGNOSISCODE=col_character()))"
   ]
  },
  {
   "cell_type": "code",
   "execution_count": 7,
   "metadata": {},
   "outputs": [
    {
     "data": {
      "text/html": [
       "<table class=\"dataframe\">\n",
       "<caption>A tibble: 6 × 2</caption>\n",
       "<thead>\n",
       "\t<tr><th scope=col>inc_key</th><th scope=col>ICDDIAGNOSISCODE</th></tr>\n",
       "\t<tr><th scope=col>&lt;dbl&gt;</th><th scope=col>&lt;chr&gt;</th></tr>\n",
       "</thead>\n",
       "<tbody>\n",
       "\t<tr><td>190026915434</td><td>S00.83XA</td></tr>\n",
       "\t<tr><td>190026915434</td><td>S42.413A</td></tr>\n",
       "\t<tr><td>190026915434</td><td>S71.039A</td></tr>\n",
       "\t<tr><td>190026915434</td><td>S71.039A</td></tr>\n",
       "\t<tr><td>190026915434</td><td>S71.139A</td></tr>\n",
       "\t<tr><td>190026915434</td><td>S81.839A</td></tr>\n",
       "</tbody>\n",
       "</table>\n"
      ],
      "text/latex": [
       "A tibble: 6 × 2\n",
       "\\begin{tabular}{ll}\n",
       " inc\\_key & ICDDIAGNOSISCODE\\\\\n",
       " <dbl> & <chr>\\\\\n",
       "\\hline\n",
       "\t 190026915434 & S00.83XA\\\\\n",
       "\t 190026915434 & S42.413A\\\\\n",
       "\t 190026915434 & S71.039A\\\\\n",
       "\t 190026915434 & S71.039A\\\\\n",
       "\t 190026915434 & S71.139A\\\\\n",
       "\t 190026915434 & S81.839A\\\\\n",
       "\\end{tabular}\n"
      ],
      "text/markdown": [
       "\n",
       "A tibble: 6 × 2\n",
       "\n",
       "| inc_key &lt;dbl&gt; | ICDDIAGNOSISCODE &lt;chr&gt; |\n",
       "|---|---|\n",
       "| 190026915434 | S00.83XA |\n",
       "| 190026915434 | S42.413A |\n",
       "| 190026915434 | S71.039A |\n",
       "| 190026915434 | S71.039A |\n",
       "| 190026915434 | S71.139A |\n",
       "| 190026915434 | S81.839A |\n",
       "\n"
      ],
      "text/plain": [
       "  inc_key      ICDDIAGNOSISCODE\n",
       "1 190026915434 S00.83XA        \n",
       "2 190026915434 S42.413A        \n",
       "3 190026915434 S71.039A        \n",
       "4 190026915434 S71.039A        \n",
       "5 190026915434 S71.139A        \n",
       "6 190026915434 S81.839A        "
      ]
     },
     "metadata": {},
     "output_type": "display_data"
    }
   ],
   "source": [
    "head(icd)"
   ]
  },
  {
   "cell_type": "markdown",
   "metadata": {},
   "source": [
    "## Prepare data"
   ]
  },
  {
   "cell_type": "markdown",
   "metadata": {},
   "source": [
    "### Add diagnosis codes"
   ]
  },
  {
   "cell_type": "code",
   "execution_count": 8,
   "metadata": {},
   "outputs": [],
   "source": [
    "# sort data by key\n",
    "icd <- icd %>% arrange(inc_key)"
   ]
  },
  {
   "cell_type": "code",
   "execution_count": 9,
   "metadata": {},
   "outputs": [],
   "source": [
    "# add diagnosis indications\n",
    "icd$diag <- \"Pending\""
   ]
  },
  {
   "cell_type": "code",
   "execution_count": 10,
   "metadata": {},
   "outputs": [
    {
     "data": {
      "text/html": [
       "190026915434"
      ],
      "text/latex": [
       "190026915434"
      ],
      "text/markdown": [
       "190026915434"
      ],
      "text/plain": [
       "[1] 190026915434"
      ]
     },
     "metadata": {},
     "output_type": "display_data"
    }
   ],
   "source": [
    "icd$inc_key[1]"
   ]
  },
  {
   "cell_type": "code",
   "execution_count": 11,
   "metadata": {},
   "outputs": [],
   "source": [
    "# keep track of current ID and number of diagnoses\n",
    "id <- icd$inc_key[1] \n",
    "diag_num <- 0\n",
    "\n",
    "# loop through each row\n",
    "for (row in 1:nrow(icd)) {\n",
    "    \n",
    "    # check if this is the same patient\n",
    "    if(icd[row,]$inc_key==id){\n",
    "        \n",
    "        # increment diagnosis code\n",
    "        diag_num <- diag_num + 1\n",
    "        \n",
    "    } else {\n",
    "        \n",
    "        # reset id and diagnosis number\n",
    "        id = icd[row,]$inc_key\n",
    "        diag_num <- 1\n",
    "    }\n",
    "    \n",
    "    # make diagnosis number string\n",
    "    diag_char <- paste(\"dx\", as.character(diag_num), sep=\"\")\n",
    "    \n",
    "    # replace diagnosis nubmer\n",
    "    icd[row,'diag'] <- diag_char    \n",
    "}"
   ]
  },
  {
   "cell_type": "code",
   "execution_count": 12,
   "metadata": {},
   "outputs": [
    {
     "data": {
      "text/html": [
       "<table class=\"dataframe\">\n",
       "<caption>A tibble: 6 × 3</caption>\n",
       "<thead>\n",
       "\t<tr><th scope=col>inc_key</th><th scope=col>ICDDIAGNOSISCODE</th><th scope=col>diag</th></tr>\n",
       "\t<tr><th scope=col>&lt;dbl&gt;</th><th scope=col>&lt;chr&gt;</th><th scope=col>&lt;chr&gt;</th></tr>\n",
       "</thead>\n",
       "<tbody>\n",
       "\t<tr><td>190026915434</td><td>S00.83XA</td><td>dx1</td></tr>\n",
       "\t<tr><td>190026915434</td><td>S42.413A</td><td>dx2</td></tr>\n",
       "\t<tr><td>190026915434</td><td>S71.039A</td><td>dx3</td></tr>\n",
       "\t<tr><td>190026915434</td><td>S71.039A</td><td>dx4</td></tr>\n",
       "\t<tr><td>190026915434</td><td>S71.139A</td><td>dx5</td></tr>\n",
       "\t<tr><td>190026915434</td><td>S81.839A</td><td>dx6</td></tr>\n",
       "</tbody>\n",
       "</table>\n"
      ],
      "text/latex": [
       "A tibble: 6 × 3\n",
       "\\begin{tabular}{lll}\n",
       " inc\\_key & ICDDIAGNOSISCODE & diag\\\\\n",
       " <dbl> & <chr> & <chr>\\\\\n",
       "\\hline\n",
       "\t 190026915434 & S00.83XA & dx1\\\\\n",
       "\t 190026915434 & S42.413A & dx2\\\\\n",
       "\t 190026915434 & S71.039A & dx3\\\\\n",
       "\t 190026915434 & S71.039A & dx4\\\\\n",
       "\t 190026915434 & S71.139A & dx5\\\\\n",
       "\t 190026915434 & S81.839A & dx6\\\\\n",
       "\\end{tabular}\n"
      ],
      "text/markdown": [
       "\n",
       "A tibble: 6 × 3\n",
       "\n",
       "| inc_key &lt;dbl&gt; | ICDDIAGNOSISCODE &lt;chr&gt; | diag &lt;chr&gt; |\n",
       "|---|---|---|\n",
       "| 190026915434 | S00.83XA | dx1 |\n",
       "| 190026915434 | S42.413A | dx2 |\n",
       "| 190026915434 | S71.039A | dx3 |\n",
       "| 190026915434 | S71.039A | dx4 |\n",
       "| 190026915434 | S71.139A | dx5 |\n",
       "| 190026915434 | S81.839A | dx6 |\n",
       "\n"
      ],
      "text/plain": [
       "  inc_key      ICDDIAGNOSISCODE diag\n",
       "1 190026915434 S00.83XA         dx1 \n",
       "2 190026915434 S42.413A         dx2 \n",
       "3 190026915434 S71.039A         dx3 \n",
       "4 190026915434 S71.039A         dx4 \n",
       "5 190026915434 S71.139A         dx5 \n",
       "6 190026915434 S81.839A         dx6 "
      ]
     },
     "metadata": {},
     "output_type": "display_data"
    }
   ],
   "source": [
    "head(icd)"
   ]
  },
  {
   "cell_type": "markdown",
   "metadata": {},
   "source": [
    "## Convert from long to wide data"
   ]
  },
  {
   "cell_type": "code",
   "execution_count": 13,
   "metadata": {},
   "outputs": [],
   "source": [
    "icd <- icd %>% \n",
    "    spread(diag, ICDDIAGNOSISCODE)"
   ]
  },
  {
   "cell_type": "code",
   "execution_count": 14,
   "metadata": {},
   "outputs": [],
   "source": [
    "# create list of columns names\n",
    "dx_cols = c(\"inc_key\")\n",
    "\n",
    "for(i in 1:(ncol(icd)-1)){\n",
    "    dx_cols <- append(dx_cols, paste(\"dx\", as.character(i), sep=\"\"))\n",
    "}"
   ]
  },
  {
   "cell_type": "code",
   "execution_count": 15,
   "metadata": {},
   "outputs": [],
   "source": [
    "# put diagnosis codes in ascending order\n",
    "icd <- icd[,dx_cols]"
   ]
  },
  {
   "cell_type": "code",
   "execution_count": 16,
   "metadata": {},
   "outputs": [
    {
     "data": {
      "text/html": [
       "<table class=\"dataframe\">\n",
       "<caption>A tibble: 6 × 51</caption>\n",
       "<thead>\n",
       "\t<tr><th scope=col>inc_key</th><th scope=col>dx1</th><th scope=col>dx2</th><th scope=col>dx3</th><th scope=col>dx4</th><th scope=col>dx5</th><th scope=col>dx6</th><th scope=col>dx7</th><th scope=col>dx8</th><th scope=col>dx9</th><th scope=col>⋯</th><th scope=col>dx41</th><th scope=col>dx42</th><th scope=col>dx43</th><th scope=col>dx44</th><th scope=col>dx45</th><th scope=col>dx46</th><th scope=col>dx47</th><th scope=col>dx48</th><th scope=col>dx49</th><th scope=col>dx50</th></tr>\n",
       "\t<tr><th scope=col>&lt;dbl&gt;</th><th scope=col>&lt;chr&gt;</th><th scope=col>&lt;chr&gt;</th><th scope=col>&lt;chr&gt;</th><th scope=col>&lt;chr&gt;</th><th scope=col>&lt;chr&gt;</th><th scope=col>&lt;chr&gt;</th><th scope=col>&lt;chr&gt;</th><th scope=col>&lt;chr&gt;</th><th scope=col>&lt;chr&gt;</th><th scope=col>⋯</th><th scope=col>&lt;chr&gt;</th><th scope=col>&lt;chr&gt;</th><th scope=col>&lt;chr&gt;</th><th scope=col>&lt;chr&gt;</th><th scope=col>&lt;chr&gt;</th><th scope=col>&lt;chr&gt;</th><th scope=col>&lt;chr&gt;</th><th scope=col>&lt;chr&gt;</th><th scope=col>&lt;chr&gt;</th><th scope=col>&lt;chr&gt;</th></tr>\n",
       "</thead>\n",
       "<tbody>\n",
       "\t<tr><td>190026915434</td><td>S00.83XA</td><td>S42.413A</td><td>S71.039A</td><td>S71.039A</td><td>S71.139A</td><td>S81.839A</td><td>S89.80XA</td><td>NA</td><td>NA</td><td>⋯</td><td>NA</td><td>NA</td><td>NA</td><td>NA</td><td>NA</td><td>NA</td><td>NA</td><td>NA</td><td>NA</td><td>NA</td></tr>\n",
       "\t<tr><td>190026952586</td><td>S00.03XA</td><td>S05.72XA</td><td>S20.20XA</td><td>NA      </td><td>NA      </td><td>NA      </td><td>NA      </td><td>NA</td><td>NA</td><td>⋯</td><td>NA</td><td>NA</td><td>NA</td><td>NA</td><td>NA</td><td>NA</td><td>NA</td><td>NA</td><td>NA</td><td>NA</td></tr>\n",
       "\t<tr><td>190026952733</td><td>S14.103A</td><td>NA      </td><td>NA      </td><td>NA      </td><td>NA      </td><td>NA      </td><td>NA      </td><td>NA</td><td>NA</td><td>⋯</td><td>NA</td><td>NA</td><td>NA</td><td>NA</td><td>NA</td><td>NA</td><td>NA</td><td>NA</td><td>NA</td><td>NA</td></tr>\n",
       "\t<tr><td>190026952851</td><td>S00.81XA</td><td>S80.01XA</td><td>S81.011A</td><td>S82.842A</td><td>NA      </td><td>NA      </td><td>NA      </td><td>NA</td><td>NA</td><td>⋯</td><td>NA</td><td>NA</td><td>NA</td><td>NA</td><td>NA</td><td>NA</td><td>NA</td><td>NA</td><td>NA</td><td>NA</td></tr>\n",
       "\t<tr><td>190026953094</td><td>S00.03XA</td><td>S00.81XA</td><td>S00.81XA</td><td>S00.83XA</td><td>S08.0XXA</td><td>S82.844A</td><td>S90.01XA</td><td>NA</td><td>NA</td><td>⋯</td><td>NA</td><td>NA</td><td>NA</td><td>NA</td><td>NA</td><td>NA</td><td>NA</td><td>NA</td><td>NA</td><td>NA</td></tr>\n",
       "\t<tr><td>190026953139</td><td>S00.81XA</td><td>S06.319A</td><td>S06.329A</td><td>S06.5X9A</td><td>S06.5X9A</td><td>S09.93XA</td><td>NA      </td><td>NA</td><td>NA</td><td>⋯</td><td>NA</td><td>NA</td><td>NA</td><td>NA</td><td>NA</td><td>NA</td><td>NA</td><td>NA</td><td>NA</td><td>NA</td></tr>\n",
       "</tbody>\n",
       "</table>\n"
      ],
      "text/latex": [
       "A tibble: 6 × 51\n",
       "\\begin{tabular}{lllllllllllllllllllll}\n",
       " inc\\_key & dx1 & dx2 & dx3 & dx4 & dx5 & dx6 & dx7 & dx8 & dx9 & ⋯ & dx41 & dx42 & dx43 & dx44 & dx45 & dx46 & dx47 & dx48 & dx49 & dx50\\\\\n",
       " <dbl> & <chr> & <chr> & <chr> & <chr> & <chr> & <chr> & <chr> & <chr> & <chr> & ⋯ & <chr> & <chr> & <chr> & <chr> & <chr> & <chr> & <chr> & <chr> & <chr> & <chr>\\\\\n",
       "\\hline\n",
       "\t 190026915434 & S00.83XA & S42.413A & S71.039A & S71.039A & S71.139A & S81.839A & S89.80XA & NA & NA & ⋯ & NA & NA & NA & NA & NA & NA & NA & NA & NA & NA\\\\\n",
       "\t 190026952586 & S00.03XA & S05.72XA & S20.20XA & NA       & NA       & NA       & NA       & NA & NA & ⋯ & NA & NA & NA & NA & NA & NA & NA & NA & NA & NA\\\\\n",
       "\t 190026952733 & S14.103A & NA       & NA       & NA       & NA       & NA       & NA       & NA & NA & ⋯ & NA & NA & NA & NA & NA & NA & NA & NA & NA & NA\\\\\n",
       "\t 190026952851 & S00.81XA & S80.01XA & S81.011A & S82.842A & NA       & NA       & NA       & NA & NA & ⋯ & NA & NA & NA & NA & NA & NA & NA & NA & NA & NA\\\\\n",
       "\t 190026953094 & S00.03XA & S00.81XA & S00.81XA & S00.83XA & S08.0XXA & S82.844A & S90.01XA & NA & NA & ⋯ & NA & NA & NA & NA & NA & NA & NA & NA & NA & NA\\\\\n",
       "\t 190026953139 & S00.81XA & S06.319A & S06.329A & S06.5X9A & S06.5X9A & S09.93XA & NA       & NA & NA & ⋯ & NA & NA & NA & NA & NA & NA & NA & NA & NA & NA\\\\\n",
       "\\end{tabular}\n"
      ],
      "text/markdown": [
       "\n",
       "A tibble: 6 × 51\n",
       "\n",
       "| inc_key &lt;dbl&gt; | dx1 &lt;chr&gt; | dx2 &lt;chr&gt; | dx3 &lt;chr&gt; | dx4 &lt;chr&gt; | dx5 &lt;chr&gt; | dx6 &lt;chr&gt; | dx7 &lt;chr&gt; | dx8 &lt;chr&gt; | dx9 &lt;chr&gt; | ⋯ ⋯ | dx41 &lt;chr&gt; | dx42 &lt;chr&gt; | dx43 &lt;chr&gt; | dx44 &lt;chr&gt; | dx45 &lt;chr&gt; | dx46 &lt;chr&gt; | dx47 &lt;chr&gt; | dx48 &lt;chr&gt; | dx49 &lt;chr&gt; | dx50 &lt;chr&gt; |\n",
       "|---|---|---|---|---|---|---|---|---|---|---|---|---|---|---|---|---|---|---|---|---|\n",
       "| 190026915434 | S00.83XA | S42.413A | S71.039A | S71.039A | S71.139A | S81.839A | S89.80XA | NA | NA | ⋯ | NA | NA | NA | NA | NA | NA | NA | NA | NA | NA |\n",
       "| 190026952586 | S00.03XA | S05.72XA | S20.20XA | NA       | NA       | NA       | NA       | NA | NA | ⋯ | NA | NA | NA | NA | NA | NA | NA | NA | NA | NA |\n",
       "| 190026952733 | S14.103A | NA       | NA       | NA       | NA       | NA       | NA       | NA | NA | ⋯ | NA | NA | NA | NA | NA | NA | NA | NA | NA | NA |\n",
       "| 190026952851 | S00.81XA | S80.01XA | S81.011A | S82.842A | NA       | NA       | NA       | NA | NA | ⋯ | NA | NA | NA | NA | NA | NA | NA | NA | NA | NA |\n",
       "| 190026953094 | S00.03XA | S00.81XA | S00.81XA | S00.83XA | S08.0XXA | S82.844A | S90.01XA | NA | NA | ⋯ | NA | NA | NA | NA | NA | NA | NA | NA | NA | NA |\n",
       "| 190026953139 | S00.81XA | S06.319A | S06.329A | S06.5X9A | S06.5X9A | S09.93XA | NA       | NA | NA | ⋯ | NA | NA | NA | NA | NA | NA | NA | NA | NA | NA |\n",
       "\n"
      ],
      "text/plain": [
       "  inc_key      dx1      dx2      dx3      dx4      dx5      dx6      dx7     \n",
       "1 190026915434 S00.83XA S42.413A S71.039A S71.039A S71.139A S81.839A S89.80XA\n",
       "2 190026952586 S00.03XA S05.72XA S20.20XA NA       NA       NA       NA      \n",
       "3 190026952733 S14.103A NA       NA       NA       NA       NA       NA      \n",
       "4 190026952851 S00.81XA S80.01XA S81.011A S82.842A NA       NA       NA      \n",
       "5 190026953094 S00.03XA S00.81XA S00.81XA S00.83XA S08.0XXA S82.844A S90.01XA\n",
       "6 190026953139 S00.81XA S06.319A S06.329A S06.5X9A S06.5X9A S09.93XA NA      \n",
       "  dx8 dx9 ⋯ dx41 dx42 dx43 dx44 dx45 dx46 dx47 dx48 dx49 dx50\n",
       "1 NA  NA  ⋯ NA   NA   NA   NA   NA   NA   NA   NA   NA   NA  \n",
       "2 NA  NA  ⋯ NA   NA   NA   NA   NA   NA   NA   NA   NA   NA  \n",
       "3 NA  NA  ⋯ NA   NA   NA   NA   NA   NA   NA   NA   NA   NA  \n",
       "4 NA  NA  ⋯ NA   NA   NA   NA   NA   NA   NA   NA   NA   NA  \n",
       "5 NA  NA  ⋯ NA   NA   NA   NA   NA   NA   NA   NA   NA   NA  \n",
       "6 NA  NA  ⋯ NA   NA   NA   NA   NA   NA   NA   NA   NA   NA  "
      ]
     },
     "metadata": {},
     "output_type": "display_data"
    }
   ],
   "source": [
    "head(icd)"
   ]
  },
  {
   "cell_type": "markdown",
   "metadata": {},
   "source": [
    "## Get ISS with ICDPIC-R"
   ]
  },
  {
   "cell_type": "code",
   "execution_count": 17,
   "metadata": {},
   "outputs": [],
   "source": [
    "#icdpic <- cat_trauma(as.data.frame(icd[0:10]), \"dx\", icd10 = TRUE, i10_iss_method=\"roc_max_TQIP\")\n",
    "icdpic <- cat_trauma(icd, \"dx\", icd10 = TRUE, i10_iss_method=\"roc_max_TQIP\")"
   ]
  },
  {
   "cell_type": "code",
   "execution_count": 18,
   "metadata": {},
   "outputs": [],
   "source": [
    "icdpic_res <- icdpic %>%\n",
    "    select(\"inc_key\", \"maxais\",\"riss\")"
   ]
  },
  {
   "cell_type": "markdown",
   "metadata": {},
   "source": [
    "## View results"
   ]
  },
  {
   "cell_type": "code",
   "execution_count": 19,
   "metadata": {},
   "outputs": [
    {
     "data": {
      "text/html": [
       "<table class=\"dataframe\">\n",
       "<caption>A data.frame: 10 × 12</caption>\n",
       "<thead>\n",
       "\t<tr><th></th><th scope=col>inc_key</th><th scope=col>maxais</th><th scope=col>riss</th><th scope=col>dx1</th><th scope=col>dx2</th><th scope=col>dx3</th><th scope=col>dx4</th><th scope=col>dx5</th><th scope=col>dx6</th><th scope=col>dx7</th><th scope=col>dx8</th><th scope=col>dx9</th></tr>\n",
       "\t<tr><th></th><th scope=col>&lt;dbl&gt;</th><th scope=col>&lt;dbl&gt;</th><th scope=col>&lt;dbl&gt;</th><th scope=col>&lt;chr&gt;</th><th scope=col>&lt;chr&gt;</th><th scope=col>&lt;chr&gt;</th><th scope=col>&lt;chr&gt;</th><th scope=col>&lt;chr&gt;</th><th scope=col>&lt;chr&gt;</th><th scope=col>&lt;chr&gt;</th><th scope=col>&lt;chr&gt;</th><th scope=col>&lt;chr&gt;</th></tr>\n",
       "</thead>\n",
       "<tbody>\n",
       "\t<tr><th scope=row>1</th><td>190026915434</td><td>4</td><td>17</td><td>S00.83XA</td><td>S42.413A</td><td>S71.039A</td><td>S71.039A</td><td>S71.139A</td><td>S81.839A</td><td>S89.80XA</td><td>NA</td><td>NA</td></tr>\n",
       "\t<tr><th scope=row>2</th><td>190026952586</td><td>1</td><td> 3</td><td>S00.03XA</td><td>S05.72XA</td><td>S20.20XA</td><td>NA      </td><td>NA      </td><td>NA      </td><td>NA      </td><td>NA</td><td>NA</td></tr>\n",
       "\t<tr><th scope=row>3</th><td>190026952733</td><td>3</td><td> 9</td><td>S14.103A</td><td>NA      </td><td>NA      </td><td>NA      </td><td>NA      </td><td>NA      </td><td>NA      </td><td>NA</td><td>NA</td></tr>\n",
       "\t<tr><th scope=row>4</th><td>190026952851</td><td>1</td><td> 2</td><td>S00.81XA</td><td>S80.01XA</td><td>S81.011A</td><td>S82.842A</td><td>NA      </td><td>NA      </td><td>NA      </td><td>NA</td><td>NA</td></tr>\n",
       "\t<tr><th scope=row>5</th><td>190026953094</td><td>2</td><td> 5</td><td>S00.03XA</td><td>S00.81XA</td><td>S00.81XA</td><td>S00.83XA</td><td>S08.0XXA</td><td>S82.844A</td><td>S90.01XA</td><td>NA</td><td>NA</td></tr>\n",
       "\t<tr><th scope=row>6</th><td>190026953139</td><td>4</td><td>16</td><td>S00.81XA</td><td>S06.319A</td><td>S06.329A</td><td>S06.5X9A</td><td>S06.5X9A</td><td>S09.93XA</td><td>NA      </td><td>NA</td><td>NA</td></tr>\n",
       "\t<tr><th scope=row>7</th><td>190026963751</td><td>1</td><td> 1</td><td>S81.812A</td><td>NA      </td><td>NA      </td><td>NA      </td><td>NA      </td><td>NA      </td><td>NA      </td><td>NA</td><td>NA</td></tr>\n",
       "\t<tr><th scope=row>8</th><td>190026963856</td><td>1</td><td> 1</td><td>S82.192A</td><td>NA      </td><td>NA      </td><td>NA      </td><td>NA      </td><td>NA      </td><td>NA      </td><td>NA</td><td>NA</td></tr>\n",
       "\t<tr><th scope=row>9</th><td>190026964242</td><td>2</td><td> 4</td><td>S22.20XA</td><td>NA      </td><td>NA      </td><td>NA      </td><td>NA      </td><td>NA      </td><td>NA      </td><td>NA</td><td>NA</td></tr>\n",
       "\t<tr><th scope=row>10</th><td>190026965799</td><td>1</td><td> 3</td><td>S00.03XA</td><td>S01.01XA</td><td>S06.0X1A</td><td>S22.42XA</td><td>S30.1XXA</td><td>NA      </td><td>NA      </td><td>NA</td><td>NA</td></tr>\n",
       "</tbody>\n",
       "</table>\n"
      ],
      "text/latex": [
       "A data.frame: 10 × 12\n",
       "\\begin{tabular}{r|llllllllllll}\n",
       "  & inc\\_key & maxais & riss & dx1 & dx2 & dx3 & dx4 & dx5 & dx6 & dx7 & dx8 & dx9\\\\\n",
       "  & <dbl> & <dbl> & <dbl> & <chr> & <chr> & <chr> & <chr> & <chr> & <chr> & <chr> & <chr> & <chr>\\\\\n",
       "\\hline\n",
       "\t1 & 190026915434 & 4 & 17 & S00.83XA & S42.413A & S71.039A & S71.039A & S71.139A & S81.839A & S89.80XA & NA & NA\\\\\n",
       "\t2 & 190026952586 & 1 &  3 & S00.03XA & S05.72XA & S20.20XA & NA       & NA       & NA       & NA       & NA & NA\\\\\n",
       "\t3 & 190026952733 & 3 &  9 & S14.103A & NA       & NA       & NA       & NA       & NA       & NA       & NA & NA\\\\\n",
       "\t4 & 190026952851 & 1 &  2 & S00.81XA & S80.01XA & S81.011A & S82.842A & NA       & NA       & NA       & NA & NA\\\\\n",
       "\t5 & 190026953094 & 2 &  5 & S00.03XA & S00.81XA & S00.81XA & S00.83XA & S08.0XXA & S82.844A & S90.01XA & NA & NA\\\\\n",
       "\t6 & 190026953139 & 4 & 16 & S00.81XA & S06.319A & S06.329A & S06.5X9A & S06.5X9A & S09.93XA & NA       & NA & NA\\\\\n",
       "\t7 & 190026963751 & 1 &  1 & S81.812A & NA       & NA       & NA       & NA       & NA       & NA       & NA & NA\\\\\n",
       "\t8 & 190026963856 & 1 &  1 & S82.192A & NA       & NA       & NA       & NA       & NA       & NA       & NA & NA\\\\\n",
       "\t9 & 190026964242 & 2 &  4 & S22.20XA & NA       & NA       & NA       & NA       & NA       & NA       & NA & NA\\\\\n",
       "\t10 & 190026965799 & 1 &  3 & S00.03XA & S01.01XA & S06.0X1A & S22.42XA & S30.1XXA & NA       & NA       & NA & NA\\\\\n",
       "\\end{tabular}\n"
      ],
      "text/markdown": [
       "\n",
       "A data.frame: 10 × 12\n",
       "\n",
       "| <!--/--> | inc_key &lt;dbl&gt; | maxais &lt;dbl&gt; | riss &lt;dbl&gt; | dx1 &lt;chr&gt; | dx2 &lt;chr&gt; | dx3 &lt;chr&gt; | dx4 &lt;chr&gt; | dx5 &lt;chr&gt; | dx6 &lt;chr&gt; | dx7 &lt;chr&gt; | dx8 &lt;chr&gt; | dx9 &lt;chr&gt; |\n",
       "|---|---|---|---|---|---|---|---|---|---|---|---|---|\n",
       "| 1 | 190026915434 | 4 | 17 | S00.83XA | S42.413A | S71.039A | S71.039A | S71.139A | S81.839A | S89.80XA | NA | NA |\n",
       "| 2 | 190026952586 | 1 |  3 | S00.03XA | S05.72XA | S20.20XA | NA       | NA       | NA       | NA       | NA | NA |\n",
       "| 3 | 190026952733 | 3 |  9 | S14.103A | NA       | NA       | NA       | NA       | NA       | NA       | NA | NA |\n",
       "| 4 | 190026952851 | 1 |  2 | S00.81XA | S80.01XA | S81.011A | S82.842A | NA       | NA       | NA       | NA | NA |\n",
       "| 5 | 190026953094 | 2 |  5 | S00.03XA | S00.81XA | S00.81XA | S00.83XA | S08.0XXA | S82.844A | S90.01XA | NA | NA |\n",
       "| 6 | 190026953139 | 4 | 16 | S00.81XA | S06.319A | S06.329A | S06.5X9A | S06.5X9A | S09.93XA | NA       | NA | NA |\n",
       "| 7 | 190026963751 | 1 |  1 | S81.812A | NA       | NA       | NA       | NA       | NA       | NA       | NA | NA |\n",
       "| 8 | 190026963856 | 1 |  1 | S82.192A | NA       | NA       | NA       | NA       | NA       | NA       | NA | NA |\n",
       "| 9 | 190026964242 | 2 |  4 | S22.20XA | NA       | NA       | NA       | NA       | NA       | NA       | NA | NA |\n",
       "| 10 | 190026965799 | 1 |  3 | S00.03XA | S01.01XA | S06.0X1A | S22.42XA | S30.1XXA | NA       | NA       | NA | NA |\n",
       "\n"
      ],
      "text/plain": [
       "   inc_key      maxais riss dx1      dx2      dx3      dx4      dx5     \n",
       "1  190026915434 4      17   S00.83XA S42.413A S71.039A S71.039A S71.139A\n",
       "2  190026952586 1       3   S00.03XA S05.72XA S20.20XA NA       NA      \n",
       "3  190026952733 3       9   S14.103A NA       NA       NA       NA      \n",
       "4  190026952851 1       2   S00.81XA S80.01XA S81.011A S82.842A NA      \n",
       "5  190026953094 2       5   S00.03XA S00.81XA S00.81XA S00.83XA S08.0XXA\n",
       "6  190026953139 4      16   S00.81XA S06.319A S06.329A S06.5X9A S06.5X9A\n",
       "7  190026963751 1       1   S81.812A NA       NA       NA       NA      \n",
       "8  190026963856 1       1   S82.192A NA       NA       NA       NA      \n",
       "9  190026964242 2       4   S22.20XA NA       NA       NA       NA      \n",
       "10 190026965799 1       3   S00.03XA S01.01XA S06.0X1A S22.42XA S30.1XXA\n",
       "   dx6      dx7      dx8 dx9\n",
       "1  S81.839A S89.80XA NA  NA \n",
       "2  NA       NA       NA  NA \n",
       "3  NA       NA       NA  NA \n",
       "4  NA       NA       NA  NA \n",
       "5  S82.844A S90.01XA NA  NA \n",
       "6  S09.93XA NA       NA  NA \n",
       "7  NA       NA       NA  NA \n",
       "8  NA       NA       NA  NA \n",
       "9  NA       NA       NA  NA \n",
       "10 NA       NA       NA  NA "
      ]
     },
     "metadata": {},
     "output_type": "display_data"
    }
   ],
   "source": [
    "head(cbind(icdpic_res, icd[,c(\"dx1\",\"dx2\",\"dx3\",\"dx4\",\"dx5\",\"dx6\",\"dx7\",\"dx8\",\"dx9\")]),10)"
   ]
  },
  {
   "cell_type": "code",
   "execution_count": 20,
   "metadata": {},
   "outputs": [
    {
     "data": {
      "text/html": [
       "<table class=\"dataframe\">\n",
       "<caption>A data.frame: 10 × 17</caption>\n",
       "<thead>\n",
       "\t<tr><th></th><th scope=col>inc_key</th><th scope=col>maxais</th><th scope=col>riss</th><th scope=col>sev_1</th><th scope=col>issbr_1</th><th scope=col>sev_2</th><th scope=col>issbr_2</th><th scope=col>sev_3</th><th scope=col>issbr_3</th><th scope=col>sev_4</th><th scope=col>issbr_4</th><th scope=col>sev_5</th><th scope=col>issbr_5</th><th scope=col>sev_6</th><th scope=col>issbr_6</th><th scope=col>sev_7</th><th scope=col>issbr_7</th></tr>\n",
       "\t<tr><th></th><th scope=col>&lt;dbl&gt;</th><th scope=col>&lt;dbl&gt;</th><th scope=col>&lt;dbl&gt;</th><th scope=col>&lt;int&gt;</th><th scope=col>&lt;chr&gt;</th><th scope=col>&lt;int&gt;</th><th scope=col>&lt;chr&gt;</th><th scope=col>&lt;int&gt;</th><th scope=col>&lt;chr&gt;</th><th scope=col>&lt;int&gt;</th><th scope=col>&lt;chr&gt;</th><th scope=col>&lt;int&gt;</th><th scope=col>&lt;chr&gt;</th><th scope=col>&lt;int&gt;</th><th scope=col>&lt;chr&gt;</th><th scope=col>&lt;int&gt;</th><th scope=col>&lt;chr&gt;</th></tr>\n",
       "</thead>\n",
       "<tbody>\n",
       "\t<tr><th scope=row>1</th><td>190026915434</td><td>4</td><td>17</td><td>1</td><td>Head/Neck  </td><td> 1</td><td>Extremities</td><td> 4</td><td>Extremities</td><td> 4</td><td>Extremities</td><td> 3</td><td>Extremities</td><td> 1</td><td>Extremities</td><td> 1</td><td>Extremities</td></tr>\n",
       "\t<tr><th scope=row>2</th><td>190026952586</td><td>1</td><td> 3</td><td>1</td><td>Head/Neck  </td><td> 1</td><td>Face       </td><td> 1</td><td>Chest      </td><td>NA</td><td>NA         </td><td>NA</td><td>NA         </td><td>NA</td><td>NA         </td><td>NA</td><td>NA         </td></tr>\n",
       "\t<tr><th scope=row>3</th><td>190026952733</td><td>3</td><td> 9</td><td>3</td><td>Head/Neck  </td><td>NA</td><td>NA         </td><td>NA</td><td>NA         </td><td>NA</td><td>NA         </td><td>NA</td><td>NA         </td><td>NA</td><td>NA         </td><td>NA</td><td>NA         </td></tr>\n",
       "\t<tr><th scope=row>4</th><td>190026952851</td><td>1</td><td> 2</td><td>1</td><td>Head/Neck  </td><td> 1</td><td>Extremities</td><td> 1</td><td>Extremities</td><td> 1</td><td>Extremities</td><td>NA</td><td>NA         </td><td>NA</td><td>NA         </td><td>NA</td><td>NA         </td></tr>\n",
       "\t<tr><th scope=row>5</th><td>190026953094</td><td>2</td><td> 5</td><td>1</td><td>Head/Neck  </td><td> 1</td><td>Head/Neck  </td><td> 1</td><td>Head/Neck  </td><td> 1</td><td>Head/Neck  </td><td> 2</td><td>Head/Neck  </td><td> 1</td><td>Extremities</td><td> 1</td><td>Extremities</td></tr>\n",
       "\t<tr><th scope=row>6</th><td>190026953139</td><td>4</td><td>16</td><td>1</td><td>Head/Neck  </td><td> 1</td><td>Head/Neck  </td><td> 1</td><td>Head/Neck  </td><td> 4</td><td>Head/Neck  </td><td> 4</td><td>Head/Neck  </td><td> 1</td><td>Head/Neck  </td><td>NA</td><td>NA         </td></tr>\n",
       "\t<tr><th scope=row>7</th><td>190026963751</td><td>1</td><td> 1</td><td>1</td><td>Extremities</td><td>NA</td><td>NA         </td><td>NA</td><td>NA         </td><td>NA</td><td>NA         </td><td>NA</td><td>NA         </td><td>NA</td><td>NA         </td><td>NA</td><td>NA         </td></tr>\n",
       "\t<tr><th scope=row>8</th><td>190026963856</td><td>1</td><td> 1</td><td>1</td><td>Extremities</td><td>NA</td><td>NA         </td><td>NA</td><td>NA         </td><td>NA</td><td>NA         </td><td>NA</td><td>NA         </td><td>NA</td><td>NA         </td><td>NA</td><td>NA         </td></tr>\n",
       "\t<tr><th scope=row>9</th><td>190026964242</td><td>2</td><td> 4</td><td>2</td><td>Chest      </td><td>NA</td><td>NA         </td><td>NA</td><td>NA         </td><td>NA</td><td>NA         </td><td>NA</td><td>NA         </td><td>NA</td><td>NA         </td><td>NA</td><td>NA         </td></tr>\n",
       "\t<tr><th scope=row>10</th><td>190026965799</td><td>1</td><td> 3</td><td>1</td><td>Head/Neck  </td><td> 1</td><td>Head/Neck  </td><td> 1</td><td>Head/Neck  </td><td> 1</td><td>Chest      </td><td> 1</td><td>Abdomen    </td><td>NA</td><td>NA         </td><td>NA</td><td>NA         </td></tr>\n",
       "</tbody>\n",
       "</table>\n"
      ],
      "text/latex": [
       "A data.frame: 10 × 17\n",
       "\\begin{tabular}{r|lllllllllllllllll}\n",
       "  & inc\\_key & maxais & riss & sev\\_1 & issbr\\_1 & sev\\_2 & issbr\\_2 & sev\\_3 & issbr\\_3 & sev\\_4 & issbr\\_4 & sev\\_5 & issbr\\_5 & sev\\_6 & issbr\\_6 & sev\\_7 & issbr\\_7\\\\\n",
       "  & <dbl> & <dbl> & <dbl> & <int> & <chr> & <int> & <chr> & <int> & <chr> & <int> & <chr> & <int> & <chr> & <int> & <chr> & <int> & <chr>\\\\\n",
       "\\hline\n",
       "\t1 & 190026915434 & 4 & 17 & 1 & Head/Neck   &  1 & Extremities &  4 & Extremities &  4 & Extremities &  3 & Extremities &  1 & Extremities &  1 & Extremities\\\\\n",
       "\t2 & 190026952586 & 1 &  3 & 1 & Head/Neck   &  1 & Face        &  1 & Chest       & NA & NA          & NA & NA          & NA & NA          & NA & NA         \\\\\n",
       "\t3 & 190026952733 & 3 &  9 & 3 & Head/Neck   & NA & NA          & NA & NA          & NA & NA          & NA & NA          & NA & NA          & NA & NA         \\\\\n",
       "\t4 & 190026952851 & 1 &  2 & 1 & Head/Neck   &  1 & Extremities &  1 & Extremities &  1 & Extremities & NA & NA          & NA & NA          & NA & NA         \\\\\n",
       "\t5 & 190026953094 & 2 &  5 & 1 & Head/Neck   &  1 & Head/Neck   &  1 & Head/Neck   &  1 & Head/Neck   &  2 & Head/Neck   &  1 & Extremities &  1 & Extremities\\\\\n",
       "\t6 & 190026953139 & 4 & 16 & 1 & Head/Neck   &  1 & Head/Neck   &  1 & Head/Neck   &  4 & Head/Neck   &  4 & Head/Neck   &  1 & Head/Neck   & NA & NA         \\\\\n",
       "\t7 & 190026963751 & 1 &  1 & 1 & Extremities & NA & NA          & NA & NA          & NA & NA          & NA & NA          & NA & NA          & NA & NA         \\\\\n",
       "\t8 & 190026963856 & 1 &  1 & 1 & Extremities & NA & NA          & NA & NA          & NA & NA          & NA & NA          & NA & NA          & NA & NA         \\\\\n",
       "\t9 & 190026964242 & 2 &  4 & 2 & Chest       & NA & NA          & NA & NA          & NA & NA          & NA & NA          & NA & NA          & NA & NA         \\\\\n",
       "\t10 & 190026965799 & 1 &  3 & 1 & Head/Neck   &  1 & Head/Neck   &  1 & Head/Neck   &  1 & Chest       &  1 & Abdomen     & NA & NA          & NA & NA         \\\\\n",
       "\\end{tabular}\n"
      ],
      "text/markdown": [
       "\n",
       "A data.frame: 10 × 17\n",
       "\n",
       "| <!--/--> | inc_key &lt;dbl&gt; | maxais &lt;dbl&gt; | riss &lt;dbl&gt; | sev_1 &lt;int&gt; | issbr_1 &lt;chr&gt; | sev_2 &lt;int&gt; | issbr_2 &lt;chr&gt; | sev_3 &lt;int&gt; | issbr_3 &lt;chr&gt; | sev_4 &lt;int&gt; | issbr_4 &lt;chr&gt; | sev_5 &lt;int&gt; | issbr_5 &lt;chr&gt; | sev_6 &lt;int&gt; | issbr_6 &lt;chr&gt; | sev_7 &lt;int&gt; | issbr_7 &lt;chr&gt; |\n",
       "|---|---|---|---|---|---|---|---|---|---|---|---|---|---|---|---|---|---|\n",
       "| 1 | 190026915434 | 4 | 17 | 1 | Head/Neck   |  1 | Extremities |  4 | Extremities |  4 | Extremities |  3 | Extremities |  1 | Extremities |  1 | Extremities |\n",
       "| 2 | 190026952586 | 1 |  3 | 1 | Head/Neck   |  1 | Face        |  1 | Chest       | NA | NA          | NA | NA          | NA | NA          | NA | NA          |\n",
       "| 3 | 190026952733 | 3 |  9 | 3 | Head/Neck   | NA | NA          | NA | NA          | NA | NA          | NA | NA          | NA | NA          | NA | NA          |\n",
       "| 4 | 190026952851 | 1 |  2 | 1 | Head/Neck   |  1 | Extremities |  1 | Extremities |  1 | Extremities | NA | NA          | NA | NA          | NA | NA          |\n",
       "| 5 | 190026953094 | 2 |  5 | 1 | Head/Neck   |  1 | Head/Neck   |  1 | Head/Neck   |  1 | Head/Neck   |  2 | Head/Neck   |  1 | Extremities |  1 | Extremities |\n",
       "| 6 | 190026953139 | 4 | 16 | 1 | Head/Neck   |  1 | Head/Neck   |  1 | Head/Neck   |  4 | Head/Neck   |  4 | Head/Neck   |  1 | Head/Neck   | NA | NA          |\n",
       "| 7 | 190026963751 | 1 |  1 | 1 | Extremities | NA | NA          | NA | NA          | NA | NA          | NA | NA          | NA | NA          | NA | NA          |\n",
       "| 8 | 190026963856 | 1 |  1 | 1 | Extremities | NA | NA          | NA | NA          | NA | NA          | NA | NA          | NA | NA          | NA | NA          |\n",
       "| 9 | 190026964242 | 2 |  4 | 2 | Chest       | NA | NA          | NA | NA          | NA | NA          | NA | NA          | NA | NA          | NA | NA          |\n",
       "| 10 | 190026965799 | 1 |  3 | 1 | Head/Neck   |  1 | Head/Neck   |  1 | Head/Neck   |  1 | Chest       |  1 | Abdomen     | NA | NA          | NA | NA          |\n",
       "\n"
      ],
      "text/plain": [
       "   inc_key      maxais riss sev_1 issbr_1     sev_2 issbr_2     sev_3\n",
       "1  190026915434 4      17   1     Head/Neck    1    Extremities  4   \n",
       "2  190026952586 1       3   1     Head/Neck    1    Face         1   \n",
       "3  190026952733 3       9   3     Head/Neck   NA    NA          NA   \n",
       "4  190026952851 1       2   1     Head/Neck    1    Extremities  1   \n",
       "5  190026953094 2       5   1     Head/Neck    1    Head/Neck    1   \n",
       "6  190026953139 4      16   1     Head/Neck    1    Head/Neck    1   \n",
       "7  190026963751 1       1   1     Extremities NA    NA          NA   \n",
       "8  190026963856 1       1   1     Extremities NA    NA          NA   \n",
       "9  190026964242 2       4   2     Chest       NA    NA          NA   \n",
       "10 190026965799 1       3   1     Head/Neck    1    Head/Neck    1   \n",
       "   issbr_3     sev_4 issbr_4     sev_5 issbr_5     sev_6 issbr_6     sev_7\n",
       "1  Extremities  4    Extremities  3    Extremities  1    Extremities  1   \n",
       "2  Chest       NA    NA          NA    NA          NA    NA          NA   \n",
       "3  NA          NA    NA          NA    NA          NA    NA          NA   \n",
       "4  Extremities  1    Extremities NA    NA          NA    NA          NA   \n",
       "5  Head/Neck    1    Head/Neck    2    Head/Neck    1    Extremities  1   \n",
       "6  Head/Neck    4    Head/Neck    4    Head/Neck    1    Head/Neck   NA   \n",
       "7  NA          NA    NA          NA    NA          NA    NA          NA   \n",
       "8  NA          NA    NA          NA    NA          NA    NA          NA   \n",
       "9  NA          NA    NA          NA    NA          NA    NA          NA   \n",
       "10 Head/Neck    1    Chest        1    Abdomen     NA    NA          NA   \n",
       "   issbr_7    \n",
       "1  Extremities\n",
       "2  NA         \n",
       "3  NA         \n",
       "4  NA         \n",
       "5  Extremities\n",
       "6  NA         \n",
       "7  NA         \n",
       "8  NA         \n",
       "9  NA         \n",
       "10 NA         "
      ]
     },
     "metadata": {},
     "output_type": "display_data"
    }
   ],
   "source": [
    "head(icdpic[,c(\"inc_key\", \"maxais\",\"riss\",\"sev_1\",\"issbr_1\",\"sev_2\",\"issbr_2\",\"sev_3\",\"issbr_3\",\n",
    "          \"sev_4\",\"issbr_4\",\"sev_5\",\"issbr_5\",\"sev_6\",\"issbr_6\",\"sev_7\",\"issbr_7\")],10)"
   ]
  },
  {
   "cell_type": "code",
   "execution_count": 21,
   "metadata": {},
   "outputs": [
    {
     "data": {
      "text/html": [
       "<style>\n",
       ".list-inline {list-style: none; margin:0; padding: 0}\n",
       ".list-inline>li {display: inline-block}\n",
       ".list-inline>li:not(:last-child)::after {content: \"\\00b7\"; padding: 0 .5ex}\n",
       "</style>\n",
       "<ol class=list-inline><li>'Head/Neck'</li><li>'Extremities'</li><li>'Chest'</li><li>'Abdomen'</li><li>'Face'</li><li>NA</li><li>'General'</li></ol>\n"
      ],
      "text/latex": [
       "\\begin{enumerate*}\n",
       "\\item 'Head/Neck'\n",
       "\\item 'Extremities'\n",
       "\\item 'Chest'\n",
       "\\item 'Abdomen'\n",
       "\\item 'Face'\n",
       "\\item NA\n",
       "\\item 'General'\n",
       "\\end{enumerate*}\n"
      ],
      "text/markdown": [
       "1. 'Head/Neck'\n",
       "2. 'Extremities'\n",
       "3. 'Chest'\n",
       "4. 'Abdomen'\n",
       "5. 'Face'\n",
       "6. NA\n",
       "7. 'General'\n",
       "\n",
       "\n"
      ],
      "text/plain": [
       "[1] \"Head/Neck\"   \"Extremities\" \"Chest\"       \"Abdomen\"     \"Face\"       \n",
       "[6] NA            \"General\"    "
      ]
     },
     "metadata": {},
     "output_type": "display_data"
    }
   ],
   "source": [
    "unique(icdpic$issbr_1)"
   ]
  },
  {
   "cell_type": "code",
   "execution_count": 22,
   "metadata": {},
   "outputs": [
    {
     "name": "stderr",
     "output_type": "stream",
     "text": [
      "Warning message in cbind(parts$left, ellip_h, parts$right, deparse.level = 0L):\n",
      "“number of rows of result is not a multiple of vector length (arg 2)”\n",
      "Warning message in cbind(parts$left, ellip_h, parts$right, deparse.level = 0L):\n",
      "“number of rows of result is not a multiple of vector length (arg 2)”\n",
      "Warning message in cbind(parts$left, ellip_h, parts$right, deparse.level = 0L):\n",
      "“number of rows of result is not a multiple of vector length (arg 2)”\n",
      "Warning message in cbind(parts$left, ellip_h, parts$right, deparse.level = 0L):\n",
      "“number of rows of result is not a multiple of vector length (arg 2)”\n"
     ]
    },
    {
     "data": {
      "text/html": [
       "<table class=\"dataframe\">\n",
       "<caption>A data.frame: 0 × 50</caption>\n",
       "<thead>\n",
       "\t<tr><th scope=col>sev_1</th><th scope=col>sev_2</th><th scope=col>sev_3</th><th scope=col>sev_4</th><th scope=col>sev_5</th><th scope=col>sev_6</th><th scope=col>sev_7</th><th scope=col>sev_8</th><th scope=col>sev_9</th><th scope=col>sev_10</th><th scope=col>⋯</th><th scope=col>sev_41</th><th scope=col>sev_42</th><th scope=col>sev_43</th><th scope=col>sev_44</th><th scope=col>sev_45</th><th scope=col>sev_46</th><th scope=col>sev_47</th><th scope=col>sev_48</th><th scope=col>sev_49</th><th scope=col>sev_50</th></tr>\n",
       "\t<tr><th scope=col>&lt;int&gt;</th><th scope=col>&lt;int&gt;</th><th scope=col>&lt;int&gt;</th><th scope=col>&lt;int&gt;</th><th scope=col>&lt;int&gt;</th><th scope=col>&lt;int&gt;</th><th scope=col>&lt;int&gt;</th><th scope=col>&lt;int&gt;</th><th scope=col>&lt;int&gt;</th><th scope=col>&lt;int&gt;</th><th scope=col>⋯</th><th scope=col>&lt;int&gt;</th><th scope=col>&lt;int&gt;</th><th scope=col>&lt;int&gt;</th><th scope=col>&lt;int&gt;</th><th scope=col>&lt;int&gt;</th><th scope=col>&lt;int&gt;</th><th scope=col>&lt;int&gt;</th><th scope=col>&lt;int&gt;</th><th scope=col>&lt;int&gt;</th><th scope=col>&lt;int&gt;</th></tr>\n",
       "</thead>\n",
       "<tbody>\n",
       "</tbody>\n",
       "</table>\n"
      ],
      "text/latex": [
       "A data.frame: 0 × 50\n",
       "\\begin{tabular}{lllllllllllllllllllll}\n",
       " sev\\_1 & sev\\_2 & sev\\_3 & sev\\_4 & sev\\_5 & sev\\_6 & sev\\_7 & sev\\_8 & sev\\_9 & sev\\_10 & ⋯ & sev\\_41 & sev\\_42 & sev\\_43 & sev\\_44 & sev\\_45 & sev\\_46 & sev\\_47 & sev\\_48 & sev\\_49 & sev\\_50\\\\\n",
       " <int> & <int> & <int> & <int> & <int> & <int> & <int> & <int> & <int> & <int> & ⋯ & <int> & <int> & <int> & <int> & <int> & <int> & <int> & <int> & <int> & <int>\\\\\n",
       "\\hline\n",
       "\\end{tabular}\n"
      ],
      "text/markdown": [
       "\n",
       "A data.frame: 0 × 50\n",
       "\n",
       "| sev_1 &lt;int&gt; | sev_2 &lt;int&gt; | sev_3 &lt;int&gt; | sev_4 &lt;int&gt; | sev_5 &lt;int&gt; | sev_6 &lt;int&gt; | sev_7 &lt;int&gt; | sev_8 &lt;int&gt; | sev_9 &lt;int&gt; | sev_10 &lt;int&gt; | ⋯ ⋯ | sev_41 &lt;int&gt; | sev_42 &lt;int&gt; | sev_43 &lt;int&gt; | sev_44 &lt;int&gt; | sev_45 &lt;int&gt; | sev_46 &lt;int&gt; | sev_47 &lt;int&gt; | sev_48 &lt;int&gt; | sev_49 &lt;int&gt; | sev_50 &lt;int&gt; |\n",
       "|---|---|---|---|---|---|---|---|---|---|---|---|---|---|---|---|---|---|---|---|---|\n",
       "\n"
      ],
      "text/plain": [
       "     sev_1 sev_2 sev_3 sev_4 sev_5 sev_6 sev_7 sev_8 sev_9 sev_10 ⋯ sev_41\n",
       "     sev_42 sev_43 sev_44 sev_45 sev_46 sev_47 sev_48 sev_49 sev_50"
      ]
     },
     "metadata": {},
     "output_type": "display_data"
    }
   ],
   "source": [
    "icdpic %>%\n",
    "    filter(inc_key==190043769658) %>%\n",
    "    select(contains('sev'))"
   ]
  },
  {
   "cell_type": "code",
   "execution_count": 23,
   "metadata": {},
   "outputs": [
    {
     "data": {
      "text/html": [
       "<style>\n",
       ".list-inline {list-style: none; margin:0; padding: 0}\n",
       ".list-inline>li {display: inline-block}\n",
       ".list-inline>li:not(:last-child)::after {content: \"\\00b7\"; padding: 0 .5ex}\n",
       "</style>\n",
       "<ol class=list-inline><li>'inc_key'</li><li>'dx1'</li><li>'sev_1'</li><li>'issbr_1'</li><li>'dx2'</li><li>'sev_2'</li><li>'issbr_2'</li><li>'dx3'</li><li>'sev_3'</li><li>'issbr_3'</li><li>'dx4'</li><li>'sev_4'</li><li>'issbr_4'</li><li>'dx5'</li><li>'sev_5'</li><li>'issbr_5'</li><li>'dx6'</li><li>'sev_6'</li><li>'issbr_6'</li><li>'dx7'</li><li>'sev_7'</li><li>'issbr_7'</li><li>'dx8'</li><li>'sev_8'</li><li>'issbr_8'</li><li>'dx9'</li><li>'sev_9'</li><li>'issbr_9'</li><li>'dx10'</li><li>'sev_10'</li><li>'issbr_10'</li><li>'dx11'</li><li>'sev_11'</li><li>'issbr_11'</li><li>'dx12'</li><li>'sev_12'</li><li>'issbr_12'</li><li>'dx13'</li><li>'sev_13'</li><li>'issbr_13'</li><li>'dx14'</li><li>'sev_14'</li><li>'issbr_14'</li><li>'dx15'</li><li>'sev_15'</li><li>'issbr_15'</li><li>'dx16'</li><li>'sev_16'</li><li>'issbr_16'</li><li>'dx17'</li><li>'sev_17'</li><li>'issbr_17'</li><li>'dx18'</li><li>'sev_18'</li><li>'issbr_18'</li><li>'dx19'</li><li>'sev_19'</li><li>'issbr_19'</li><li>'dx20'</li><li>'sev_20'</li><li>'issbr_20'</li><li>'dx21'</li><li>'sev_21'</li><li>'issbr_21'</li><li>'dx22'</li><li>'sev_22'</li><li>'issbr_22'</li><li>'dx23'</li><li>'sev_23'</li><li>'issbr_23'</li><li>'dx24'</li><li>'sev_24'</li><li>'issbr_24'</li><li>'dx25'</li><li>'sev_25'</li><li>'issbr_25'</li><li>'dx26'</li><li>'sev_26'</li><li>'issbr_26'</li><li>'dx27'</li><li>'sev_27'</li><li>'issbr_27'</li><li>'dx28'</li><li>'sev_28'</li><li>'issbr_28'</li><li>'dx29'</li><li>'sev_29'</li><li>'issbr_29'</li><li>'dx30'</li><li>'sev_30'</li><li>'issbr_30'</li><li>'dx31'</li><li>'sev_31'</li><li>'issbr_31'</li><li>'dx32'</li><li>'sev_32'</li><li>'issbr_32'</li><li>'dx33'</li><li>'sev_33'</li><li>'issbr_33'</li><li>'dx34'</li><li>'sev_34'</li><li>'issbr_34'</li><li>'dx35'</li><li>'sev_35'</li><li>'issbr_35'</li><li>'dx36'</li><li>'sev_36'</li><li>'issbr_36'</li><li>'dx37'</li><li>'sev_37'</li><li>'issbr_37'</li><li>'dx38'</li><li>'sev_38'</li><li>'issbr_38'</li><li>'dx39'</li><li>'sev_39'</li><li>'issbr_39'</li><li>'dx40'</li><li>'sev_40'</li><li>'issbr_40'</li><li>'dx41'</li><li>'sev_41'</li><li>'issbr_41'</li><li>'dx42'</li><li>'sev_42'</li><li>'issbr_42'</li><li>'dx43'</li><li>'sev_43'</li><li>'issbr_43'</li><li>'dx44'</li><li>'sev_44'</li><li>'issbr_44'</li><li>'dx45'</li><li>'sev_45'</li><li>'issbr_45'</li><li>'dx46'</li><li>'sev_46'</li><li>'issbr_46'</li><li>'dx47'</li><li>'sev_47'</li><li>'issbr_47'</li><li>'dx48'</li><li>'sev_48'</li><li>'issbr_48'</li><li>'dx49'</li><li>'sev_49'</li><li>'issbr_49'</li><li>'dx50'</li><li>'sev_50'</li><li>'issbr_50'</li><li>'mxaisbr_General'</li><li>'mxaisbr_HeadNeck'</li><li>'mxaisbr_Face'</li><li>'mxaisbr_Extremities'</li><li>'mxaisbr_Chest'</li><li>'mxaisbr_Abdomen'</li><li>'maxais'</li><li>'riss'</li><li>'niss'</li><li>'ecode_1'</li><li>'mechmaj1'</li><li>'mechmin1'</li><li>'intent1'</li><li>'ecode_2'</li><li>'mechmaj2'</li><li>'mechmin2'</li><li>'intent2'</li><li>'ecode_3'</li><li>'mechmaj3'</li><li>'mechmin3'</li><li>'intent3'</li><li>'ecode_4'</li><li>'mechmaj4'</li><li>'mechmin4'</li><li>'intent4'</li><li>'Pmort'</li></ol>\n"
      ],
      "text/latex": [
       "\\begin{enumerate*}\n",
       "\\item 'inc\\_key'\n",
       "\\item 'dx1'\n",
       "\\item 'sev\\_1'\n",
       "\\item 'issbr\\_1'\n",
       "\\item 'dx2'\n",
       "\\item 'sev\\_2'\n",
       "\\item 'issbr\\_2'\n",
       "\\item 'dx3'\n",
       "\\item 'sev\\_3'\n",
       "\\item 'issbr\\_3'\n",
       "\\item 'dx4'\n",
       "\\item 'sev\\_4'\n",
       "\\item 'issbr\\_4'\n",
       "\\item 'dx5'\n",
       "\\item 'sev\\_5'\n",
       "\\item 'issbr\\_5'\n",
       "\\item 'dx6'\n",
       "\\item 'sev\\_6'\n",
       "\\item 'issbr\\_6'\n",
       "\\item 'dx7'\n",
       "\\item 'sev\\_7'\n",
       "\\item 'issbr\\_7'\n",
       "\\item 'dx8'\n",
       "\\item 'sev\\_8'\n",
       "\\item 'issbr\\_8'\n",
       "\\item 'dx9'\n",
       "\\item 'sev\\_9'\n",
       "\\item 'issbr\\_9'\n",
       "\\item 'dx10'\n",
       "\\item 'sev\\_10'\n",
       "\\item 'issbr\\_10'\n",
       "\\item 'dx11'\n",
       "\\item 'sev\\_11'\n",
       "\\item 'issbr\\_11'\n",
       "\\item 'dx12'\n",
       "\\item 'sev\\_12'\n",
       "\\item 'issbr\\_12'\n",
       "\\item 'dx13'\n",
       "\\item 'sev\\_13'\n",
       "\\item 'issbr\\_13'\n",
       "\\item 'dx14'\n",
       "\\item 'sev\\_14'\n",
       "\\item 'issbr\\_14'\n",
       "\\item 'dx15'\n",
       "\\item 'sev\\_15'\n",
       "\\item 'issbr\\_15'\n",
       "\\item 'dx16'\n",
       "\\item 'sev\\_16'\n",
       "\\item 'issbr\\_16'\n",
       "\\item 'dx17'\n",
       "\\item 'sev\\_17'\n",
       "\\item 'issbr\\_17'\n",
       "\\item 'dx18'\n",
       "\\item 'sev\\_18'\n",
       "\\item 'issbr\\_18'\n",
       "\\item 'dx19'\n",
       "\\item 'sev\\_19'\n",
       "\\item 'issbr\\_19'\n",
       "\\item 'dx20'\n",
       "\\item 'sev\\_20'\n",
       "\\item 'issbr\\_20'\n",
       "\\item 'dx21'\n",
       "\\item 'sev\\_21'\n",
       "\\item 'issbr\\_21'\n",
       "\\item 'dx22'\n",
       "\\item 'sev\\_22'\n",
       "\\item 'issbr\\_22'\n",
       "\\item 'dx23'\n",
       "\\item 'sev\\_23'\n",
       "\\item 'issbr\\_23'\n",
       "\\item 'dx24'\n",
       "\\item 'sev\\_24'\n",
       "\\item 'issbr\\_24'\n",
       "\\item 'dx25'\n",
       "\\item 'sev\\_25'\n",
       "\\item 'issbr\\_25'\n",
       "\\item 'dx26'\n",
       "\\item 'sev\\_26'\n",
       "\\item 'issbr\\_26'\n",
       "\\item 'dx27'\n",
       "\\item 'sev\\_27'\n",
       "\\item 'issbr\\_27'\n",
       "\\item 'dx28'\n",
       "\\item 'sev\\_28'\n",
       "\\item 'issbr\\_28'\n",
       "\\item 'dx29'\n",
       "\\item 'sev\\_29'\n",
       "\\item 'issbr\\_29'\n",
       "\\item 'dx30'\n",
       "\\item 'sev\\_30'\n",
       "\\item 'issbr\\_30'\n",
       "\\item 'dx31'\n",
       "\\item 'sev\\_31'\n",
       "\\item 'issbr\\_31'\n",
       "\\item 'dx32'\n",
       "\\item 'sev\\_32'\n",
       "\\item 'issbr\\_32'\n",
       "\\item 'dx33'\n",
       "\\item 'sev\\_33'\n",
       "\\item 'issbr\\_33'\n",
       "\\item 'dx34'\n",
       "\\item 'sev\\_34'\n",
       "\\item 'issbr\\_34'\n",
       "\\item 'dx35'\n",
       "\\item 'sev\\_35'\n",
       "\\item 'issbr\\_35'\n",
       "\\item 'dx36'\n",
       "\\item 'sev\\_36'\n",
       "\\item 'issbr\\_36'\n",
       "\\item 'dx37'\n",
       "\\item 'sev\\_37'\n",
       "\\item 'issbr\\_37'\n",
       "\\item 'dx38'\n",
       "\\item 'sev\\_38'\n",
       "\\item 'issbr\\_38'\n",
       "\\item 'dx39'\n",
       "\\item 'sev\\_39'\n",
       "\\item 'issbr\\_39'\n",
       "\\item 'dx40'\n",
       "\\item 'sev\\_40'\n",
       "\\item 'issbr\\_40'\n",
       "\\item 'dx41'\n",
       "\\item 'sev\\_41'\n",
       "\\item 'issbr\\_41'\n",
       "\\item 'dx42'\n",
       "\\item 'sev\\_42'\n",
       "\\item 'issbr\\_42'\n",
       "\\item 'dx43'\n",
       "\\item 'sev\\_43'\n",
       "\\item 'issbr\\_43'\n",
       "\\item 'dx44'\n",
       "\\item 'sev\\_44'\n",
       "\\item 'issbr\\_44'\n",
       "\\item 'dx45'\n",
       "\\item 'sev\\_45'\n",
       "\\item 'issbr\\_45'\n",
       "\\item 'dx46'\n",
       "\\item 'sev\\_46'\n",
       "\\item 'issbr\\_46'\n",
       "\\item 'dx47'\n",
       "\\item 'sev\\_47'\n",
       "\\item 'issbr\\_47'\n",
       "\\item 'dx48'\n",
       "\\item 'sev\\_48'\n",
       "\\item 'issbr\\_48'\n",
       "\\item 'dx49'\n",
       "\\item 'sev\\_49'\n",
       "\\item 'issbr\\_49'\n",
       "\\item 'dx50'\n",
       "\\item 'sev\\_50'\n",
       "\\item 'issbr\\_50'\n",
       "\\item 'mxaisbr\\_General'\n",
       "\\item 'mxaisbr\\_HeadNeck'\n",
       "\\item 'mxaisbr\\_Face'\n",
       "\\item 'mxaisbr\\_Extremities'\n",
       "\\item 'mxaisbr\\_Chest'\n",
       "\\item 'mxaisbr\\_Abdomen'\n",
       "\\item 'maxais'\n",
       "\\item 'riss'\n",
       "\\item 'niss'\n",
       "\\item 'ecode\\_1'\n",
       "\\item 'mechmaj1'\n",
       "\\item 'mechmin1'\n",
       "\\item 'intent1'\n",
       "\\item 'ecode\\_2'\n",
       "\\item 'mechmaj2'\n",
       "\\item 'mechmin2'\n",
       "\\item 'intent2'\n",
       "\\item 'ecode\\_3'\n",
       "\\item 'mechmaj3'\n",
       "\\item 'mechmin3'\n",
       "\\item 'intent3'\n",
       "\\item 'ecode\\_4'\n",
       "\\item 'mechmaj4'\n",
       "\\item 'mechmin4'\n",
       "\\item 'intent4'\n",
       "\\item 'Pmort'\n",
       "\\end{enumerate*}\n"
      ],
      "text/markdown": [
       "1. 'inc_key'\n",
       "2. 'dx1'\n",
       "3. 'sev_1'\n",
       "4. 'issbr_1'\n",
       "5. 'dx2'\n",
       "6. 'sev_2'\n",
       "7. 'issbr_2'\n",
       "8. 'dx3'\n",
       "9. 'sev_3'\n",
       "10. 'issbr_3'\n",
       "11. 'dx4'\n",
       "12. 'sev_4'\n",
       "13. 'issbr_4'\n",
       "14. 'dx5'\n",
       "15. 'sev_5'\n",
       "16. 'issbr_5'\n",
       "17. 'dx6'\n",
       "18. 'sev_6'\n",
       "19. 'issbr_6'\n",
       "20. 'dx7'\n",
       "21. 'sev_7'\n",
       "22. 'issbr_7'\n",
       "23. 'dx8'\n",
       "24. 'sev_8'\n",
       "25. 'issbr_8'\n",
       "26. 'dx9'\n",
       "27. 'sev_9'\n",
       "28. 'issbr_9'\n",
       "29. 'dx10'\n",
       "30. 'sev_10'\n",
       "31. 'issbr_10'\n",
       "32. 'dx11'\n",
       "33. 'sev_11'\n",
       "34. 'issbr_11'\n",
       "35. 'dx12'\n",
       "36. 'sev_12'\n",
       "37. 'issbr_12'\n",
       "38. 'dx13'\n",
       "39. 'sev_13'\n",
       "40. 'issbr_13'\n",
       "41. 'dx14'\n",
       "42. 'sev_14'\n",
       "43. 'issbr_14'\n",
       "44. 'dx15'\n",
       "45. 'sev_15'\n",
       "46. 'issbr_15'\n",
       "47. 'dx16'\n",
       "48. 'sev_16'\n",
       "49. 'issbr_16'\n",
       "50. 'dx17'\n",
       "51. 'sev_17'\n",
       "52. 'issbr_17'\n",
       "53. 'dx18'\n",
       "54. 'sev_18'\n",
       "55. 'issbr_18'\n",
       "56. 'dx19'\n",
       "57. 'sev_19'\n",
       "58. 'issbr_19'\n",
       "59. 'dx20'\n",
       "60. 'sev_20'\n",
       "61. 'issbr_20'\n",
       "62. 'dx21'\n",
       "63. 'sev_21'\n",
       "64. 'issbr_21'\n",
       "65. 'dx22'\n",
       "66. 'sev_22'\n",
       "67. 'issbr_22'\n",
       "68. 'dx23'\n",
       "69. 'sev_23'\n",
       "70. 'issbr_23'\n",
       "71. 'dx24'\n",
       "72. 'sev_24'\n",
       "73. 'issbr_24'\n",
       "74. 'dx25'\n",
       "75. 'sev_25'\n",
       "76. 'issbr_25'\n",
       "77. 'dx26'\n",
       "78. 'sev_26'\n",
       "79. 'issbr_26'\n",
       "80. 'dx27'\n",
       "81. 'sev_27'\n",
       "82. 'issbr_27'\n",
       "83. 'dx28'\n",
       "84. 'sev_28'\n",
       "85. 'issbr_28'\n",
       "86. 'dx29'\n",
       "87. 'sev_29'\n",
       "88. 'issbr_29'\n",
       "89. 'dx30'\n",
       "90. 'sev_30'\n",
       "91. 'issbr_30'\n",
       "92. 'dx31'\n",
       "93. 'sev_31'\n",
       "94. 'issbr_31'\n",
       "95. 'dx32'\n",
       "96. 'sev_32'\n",
       "97. 'issbr_32'\n",
       "98. 'dx33'\n",
       "99. 'sev_33'\n",
       "100. 'issbr_33'\n",
       "101. 'dx34'\n",
       "102. 'sev_34'\n",
       "103. 'issbr_34'\n",
       "104. 'dx35'\n",
       "105. 'sev_35'\n",
       "106. 'issbr_35'\n",
       "107. 'dx36'\n",
       "108. 'sev_36'\n",
       "109. 'issbr_36'\n",
       "110. 'dx37'\n",
       "111. 'sev_37'\n",
       "112. 'issbr_37'\n",
       "113. 'dx38'\n",
       "114. 'sev_38'\n",
       "115. 'issbr_38'\n",
       "116. 'dx39'\n",
       "117. 'sev_39'\n",
       "118. 'issbr_39'\n",
       "119. 'dx40'\n",
       "120. 'sev_40'\n",
       "121. 'issbr_40'\n",
       "122. 'dx41'\n",
       "123. 'sev_41'\n",
       "124. 'issbr_41'\n",
       "125. 'dx42'\n",
       "126. 'sev_42'\n",
       "127. 'issbr_42'\n",
       "128. 'dx43'\n",
       "129. 'sev_43'\n",
       "130. 'issbr_43'\n",
       "131. 'dx44'\n",
       "132. 'sev_44'\n",
       "133. 'issbr_44'\n",
       "134. 'dx45'\n",
       "135. 'sev_45'\n",
       "136. 'issbr_45'\n",
       "137. 'dx46'\n",
       "138. 'sev_46'\n",
       "139. 'issbr_46'\n",
       "140. 'dx47'\n",
       "141. 'sev_47'\n",
       "142. 'issbr_47'\n",
       "143. 'dx48'\n",
       "144. 'sev_48'\n",
       "145. 'issbr_48'\n",
       "146. 'dx49'\n",
       "147. 'sev_49'\n",
       "148. 'issbr_49'\n",
       "149. 'dx50'\n",
       "150. 'sev_50'\n",
       "151. 'issbr_50'\n",
       "152. 'mxaisbr_General'\n",
       "153. 'mxaisbr_HeadNeck'\n",
       "154. 'mxaisbr_Face'\n",
       "155. 'mxaisbr_Extremities'\n",
       "156. 'mxaisbr_Chest'\n",
       "157. 'mxaisbr_Abdomen'\n",
       "158. 'maxais'\n",
       "159. 'riss'\n",
       "160. 'niss'\n",
       "161. 'ecode_1'\n",
       "162. 'mechmaj1'\n",
       "163. 'mechmin1'\n",
       "164. 'intent1'\n",
       "165. 'ecode_2'\n",
       "166. 'mechmaj2'\n",
       "167. 'mechmin2'\n",
       "168. 'intent2'\n",
       "169. 'ecode_3'\n",
       "170. 'mechmaj3'\n",
       "171. 'mechmin3'\n",
       "172. 'intent3'\n",
       "173. 'ecode_4'\n",
       "174. 'mechmaj4'\n",
       "175. 'mechmin4'\n",
       "176. 'intent4'\n",
       "177. 'Pmort'\n",
       "\n",
       "\n"
      ],
      "text/plain": [
       "  [1] \"inc_key\"             \"dx1\"                 \"sev_1\"              \n",
       "  [4] \"issbr_1\"             \"dx2\"                 \"sev_2\"              \n",
       "  [7] \"issbr_2\"             \"dx3\"                 \"sev_3\"              \n",
       " [10] \"issbr_3\"             \"dx4\"                 \"sev_4\"              \n",
       " [13] \"issbr_4\"             \"dx5\"                 \"sev_5\"              \n",
       " [16] \"issbr_5\"             \"dx6\"                 \"sev_6\"              \n",
       " [19] \"issbr_6\"             \"dx7\"                 \"sev_7\"              \n",
       " [22] \"issbr_7\"             \"dx8\"                 \"sev_8\"              \n",
       " [25] \"issbr_8\"             \"dx9\"                 \"sev_9\"              \n",
       " [28] \"issbr_9\"             \"dx10\"                \"sev_10\"             \n",
       " [31] \"issbr_10\"            \"dx11\"                \"sev_11\"             \n",
       " [34] \"issbr_11\"            \"dx12\"                \"sev_12\"             \n",
       " [37] \"issbr_12\"            \"dx13\"                \"sev_13\"             \n",
       " [40] \"issbr_13\"            \"dx14\"                \"sev_14\"             \n",
       " [43] \"issbr_14\"            \"dx15\"                \"sev_15\"             \n",
       " [46] \"issbr_15\"            \"dx16\"                \"sev_16\"             \n",
       " [49] \"issbr_16\"            \"dx17\"                \"sev_17\"             \n",
       " [52] \"issbr_17\"            \"dx18\"                \"sev_18\"             \n",
       " [55] \"issbr_18\"            \"dx19\"                \"sev_19\"             \n",
       " [58] \"issbr_19\"            \"dx20\"                \"sev_20\"             \n",
       " [61] \"issbr_20\"            \"dx21\"                \"sev_21\"             \n",
       " [64] \"issbr_21\"            \"dx22\"                \"sev_22\"             \n",
       " [67] \"issbr_22\"            \"dx23\"                \"sev_23\"             \n",
       " [70] \"issbr_23\"            \"dx24\"                \"sev_24\"             \n",
       " [73] \"issbr_24\"            \"dx25\"                \"sev_25\"             \n",
       " [76] \"issbr_25\"            \"dx26\"                \"sev_26\"             \n",
       " [79] \"issbr_26\"            \"dx27\"                \"sev_27\"             \n",
       " [82] \"issbr_27\"            \"dx28\"                \"sev_28\"             \n",
       " [85] \"issbr_28\"            \"dx29\"                \"sev_29\"             \n",
       " [88] \"issbr_29\"            \"dx30\"                \"sev_30\"             \n",
       " [91] \"issbr_30\"            \"dx31\"                \"sev_31\"             \n",
       " [94] \"issbr_31\"            \"dx32\"                \"sev_32\"             \n",
       " [97] \"issbr_32\"            \"dx33\"                \"sev_33\"             \n",
       "[100] \"issbr_33\"            \"dx34\"                \"sev_34\"             \n",
       "[103] \"issbr_34\"            \"dx35\"                \"sev_35\"             \n",
       "[106] \"issbr_35\"            \"dx36\"                \"sev_36\"             \n",
       "[109] \"issbr_36\"            \"dx37\"                \"sev_37\"             \n",
       "[112] \"issbr_37\"            \"dx38\"                \"sev_38\"             \n",
       "[115] \"issbr_38\"            \"dx39\"                \"sev_39\"             \n",
       "[118] \"issbr_39\"            \"dx40\"                \"sev_40\"             \n",
       "[121] \"issbr_40\"            \"dx41\"                \"sev_41\"             \n",
       "[124] \"issbr_41\"            \"dx42\"                \"sev_42\"             \n",
       "[127] \"issbr_42\"            \"dx43\"                \"sev_43\"             \n",
       "[130] \"issbr_43\"            \"dx44\"                \"sev_44\"             \n",
       "[133] \"issbr_44\"            \"dx45\"                \"sev_45\"             \n",
       "[136] \"issbr_45\"            \"dx46\"                \"sev_46\"             \n",
       "[139] \"issbr_46\"            \"dx47\"                \"sev_47\"             \n",
       "[142] \"issbr_47\"            \"dx48\"                \"sev_48\"             \n",
       "[145] \"issbr_48\"            \"dx49\"                \"sev_49\"             \n",
       "[148] \"issbr_49\"            \"dx50\"                \"sev_50\"             \n",
       "[151] \"issbr_50\"            \"mxaisbr_General\"     \"mxaisbr_HeadNeck\"   \n",
       "[154] \"mxaisbr_Face\"        \"mxaisbr_Extremities\" \"mxaisbr_Chest\"      \n",
       "[157] \"mxaisbr_Abdomen\"     \"maxais\"              \"riss\"               \n",
       "[160] \"niss\"                \"ecode_1\"             \"mechmaj1\"           \n",
       "[163] \"mechmin1\"            \"intent1\"             \"ecode_2\"            \n",
       "[166] \"mechmaj2\"            \"mechmin2\"            \"intent2\"            \n",
       "[169] \"ecode_3\"             \"mechmaj3\"            \"mechmin3\"           \n",
       "[172] \"intent3\"             \"ecode_4\"             \"mechmaj4\"           \n",
       "[175] \"mechmin4\"            \"intent4\"             \"Pmort\"              "
      ]
     },
     "metadata": {},
     "output_type": "display_data"
    }
   ],
   "source": [
    "colnames(icdpic)"
   ]
  },
  {
   "cell_type": "markdown",
   "metadata": {},
   "source": [
    "## Convert back to long format"
   ]
  },
  {
   "cell_type": "code",
   "execution_count": 24,
   "metadata": {},
   "outputs": [
    {
     "name": "stderr",
     "output_type": "stream",
     "text": [
      "Warning message:\n",
      "“Expected 2 pieces. Missing pieces filled with `NA` in 500000 rows [1, 2, 3, 4, 5, 6, 7, 8, 9, 10, 11, 12, 13, 14, 15, 16, 17, 18, 19, 20, ...].”\n"
     ]
    }
   ],
   "source": [
    "icdpic_l <-icdpic %>% \n",
    "            select(inc_key, dx1:issbr_50) %>%\n",
    "            gather(v, value, dx1:issbr_50) %>% \n",
    "            separate(v, c(\"var\", \"col\")) %>% \n",
    "            drop_na()  %>% \n",
    "            spread(var, value)"
   ]
  },
  {
   "cell_type": "code",
   "execution_count": 25,
   "metadata": {},
   "outputs": [
    {
     "data": {
      "text/html": [
       "<table class=\"dataframe\">\n",
       "<caption>A data.frame: 6 × 4</caption>\n",
       "<thead>\n",
       "\t<tr><th></th><th scope=col>inc_key</th><th scope=col>col</th><th scope=col>issbr</th><th scope=col>sev</th></tr>\n",
       "\t<tr><th></th><th scope=col>&lt;dbl&gt;</th><th scope=col>&lt;chr&gt;</th><th scope=col>&lt;chr&gt;</th><th scope=col>&lt;chr&gt;</th></tr>\n",
       "</thead>\n",
       "<tbody>\n",
       "\t<tr><th scope=row>1</th><td>190026915434</td><td>1</td><td>Head/Neck  </td><td>1</td></tr>\n",
       "\t<tr><th scope=row>2</th><td>190026915434</td><td>2</td><td>Extremities</td><td>1</td></tr>\n",
       "\t<tr><th scope=row>3</th><td>190026915434</td><td>3</td><td>Extremities</td><td>4</td></tr>\n",
       "\t<tr><th scope=row>4</th><td>190026915434</td><td>4</td><td>Extremities</td><td>4</td></tr>\n",
       "\t<tr><th scope=row>5</th><td>190026915434</td><td>5</td><td>Extremities</td><td>3</td></tr>\n",
       "\t<tr><th scope=row>6</th><td>190026915434</td><td>6</td><td>Extremities</td><td>1</td></tr>\n",
       "</tbody>\n",
       "</table>\n"
      ],
      "text/latex": [
       "A data.frame: 6 × 4\n",
       "\\begin{tabular}{r|llll}\n",
       "  & inc\\_key & col & issbr & sev\\\\\n",
       "  & <dbl> & <chr> & <chr> & <chr>\\\\\n",
       "\\hline\n",
       "\t1 & 190026915434 & 1 & Head/Neck   & 1\\\\\n",
       "\t2 & 190026915434 & 2 & Extremities & 1\\\\\n",
       "\t3 & 190026915434 & 3 & Extremities & 4\\\\\n",
       "\t4 & 190026915434 & 4 & Extremities & 4\\\\\n",
       "\t5 & 190026915434 & 5 & Extremities & 3\\\\\n",
       "\t6 & 190026915434 & 6 & Extremities & 1\\\\\n",
       "\\end{tabular}\n"
      ],
      "text/markdown": [
       "\n",
       "A data.frame: 6 × 4\n",
       "\n",
       "| <!--/--> | inc_key &lt;dbl&gt; | col &lt;chr&gt; | issbr &lt;chr&gt; | sev &lt;chr&gt; |\n",
       "|---|---|---|---|---|\n",
       "| 1 | 190026915434 | 1 | Head/Neck   | 1 |\n",
       "| 2 | 190026915434 | 2 | Extremities | 1 |\n",
       "| 3 | 190026915434 | 3 | Extremities | 4 |\n",
       "| 4 | 190026915434 | 4 | Extremities | 4 |\n",
       "| 5 | 190026915434 | 5 | Extremities | 3 |\n",
       "| 6 | 190026915434 | 6 | Extremities | 1 |\n",
       "\n"
      ],
      "text/plain": [
       "  inc_key      col issbr       sev\n",
       "1 190026915434 1   Head/Neck   1  \n",
       "2 190026915434 2   Extremities 1  \n",
       "3 190026915434 3   Extremities 4  \n",
       "4 190026915434 4   Extremities 4  \n",
       "5 190026915434 5   Extremities 3  \n",
       "6 190026915434 6   Extremities 1  "
      ]
     },
     "metadata": {},
     "output_type": "display_data"
    }
   ],
   "source": [
    "icdpic_l %>% head()"
   ]
  },
  {
   "cell_type": "markdown",
   "metadata": {},
   "source": [
    "## Convert regions to numbers"
   ]
  },
  {
   "cell_type": "code",
   "execution_count": 26,
   "metadata": {},
   "outputs": [],
   "source": [
    "# function to map body region descriptions to numbers\n",
    "regions <- function(reg){  \n",
    "    if (reg == 'Head/Neck') {\n",
    "        return(1)\n",
    "    } else if (reg=='Chest'){\n",
    "        return(2)\n",
    "    } else if (reg=='Abdomen'){\n",
    "        return(3)\n",
    "    } else if (reg=='Extremities'){\n",
    "        return(4)\n",
    "    } else if (reg=='Face'){\n",
    "        return(5)\n",
    "    } else if (reg=='General'){\n",
    "        return(6)\n",
    "    }  else {\n",
    "        return(0)\n",
    "    }         \n",
    "}"
   ]
  },
  {
   "cell_type": "code",
   "execution_count": 27,
   "metadata": {},
   "outputs": [],
   "source": [
    "# convert body region description to numbers\n",
    "icdpic_l$region <- sapply(icdpic_l$issbr, FUN=regions)"
   ]
  },
  {
   "cell_type": "markdown",
   "metadata": {},
   "source": [
    "## Format output"
   ]
  },
  {
   "cell_type": "code",
   "execution_count": 28,
   "metadata": {},
   "outputs": [],
   "source": [
    "# change severity to float\n",
    "icdpic_l$severity <- as.double(icdpic_l$sev)"
   ]
  },
  {
   "cell_type": "code",
   "execution_count": 29,
   "metadata": {},
   "outputs": [],
   "source": [
    "# make dummy predot code\n",
    "icdpic_l$ais_predot <- as.integer(icdpic_l$region * 10000)"
   ]
  },
  {
   "cell_type": "code",
   "execution_count": 30,
   "metadata": {},
   "outputs": [],
   "source": [
    "# make dummy ais code\n",
    "icdpic_l$aiscode <- icdpic_l$ais_predot + (icdpic_l$severity/10)"
   ]
  },
  {
   "cell_type": "code",
   "execution_count": 31,
   "metadata": {},
   "outputs": [],
   "source": [
    "# indicate the chapter is not known\n",
    "icdpic_l$chapter <- 0"
   ]
  },
  {
   "cell_type": "code",
   "execution_count": 32,
   "metadata": {},
   "outputs": [],
   "source": [
    "# arrange columns\n",
    "icdpic_l <- icdpic_l %>%\n",
    "                select(inc_key, aiscode, ais_predot, severity, chapter, region)"
   ]
  },
  {
   "cell_type": "code",
   "execution_count": 33,
   "metadata": {},
   "outputs": [
    {
     "data": {
      "text/html": [
       "<table class=\"dataframe\">\n",
       "<caption>A data.frame: 6 × 6</caption>\n",
       "<thead>\n",
       "\t<tr><th></th><th scope=col>inc_key</th><th scope=col>aiscode</th><th scope=col>ais_predot</th><th scope=col>severity</th><th scope=col>chapter</th><th scope=col>region</th></tr>\n",
       "\t<tr><th></th><th scope=col>&lt;dbl&gt;</th><th scope=col>&lt;dbl&gt;</th><th scope=col>&lt;int&gt;</th><th scope=col>&lt;dbl&gt;</th><th scope=col>&lt;dbl&gt;</th><th scope=col>&lt;dbl&gt;</th></tr>\n",
       "</thead>\n",
       "<tbody>\n",
       "\t<tr><th scope=row>1</th><td>190026915434</td><td>10000.1</td><td>10000</td><td>1</td><td>0</td><td>1</td></tr>\n",
       "\t<tr><th scope=row>2</th><td>190026915434</td><td>40000.1</td><td>40000</td><td>1</td><td>0</td><td>4</td></tr>\n",
       "\t<tr><th scope=row>3</th><td>190026915434</td><td>40000.4</td><td>40000</td><td>4</td><td>0</td><td>4</td></tr>\n",
       "\t<tr><th scope=row>4</th><td>190026915434</td><td>40000.4</td><td>40000</td><td>4</td><td>0</td><td>4</td></tr>\n",
       "\t<tr><th scope=row>5</th><td>190026915434</td><td>40000.3</td><td>40000</td><td>3</td><td>0</td><td>4</td></tr>\n",
       "\t<tr><th scope=row>6</th><td>190026915434</td><td>40000.1</td><td>40000</td><td>1</td><td>0</td><td>4</td></tr>\n",
       "</tbody>\n",
       "</table>\n"
      ],
      "text/latex": [
       "A data.frame: 6 × 6\n",
       "\\begin{tabular}{r|llllll}\n",
       "  & inc\\_key & aiscode & ais\\_predot & severity & chapter & region\\\\\n",
       "  & <dbl> & <dbl> & <int> & <dbl> & <dbl> & <dbl>\\\\\n",
       "\\hline\n",
       "\t1 & 190026915434 & 10000.1 & 10000 & 1 & 0 & 1\\\\\n",
       "\t2 & 190026915434 & 40000.1 & 40000 & 1 & 0 & 4\\\\\n",
       "\t3 & 190026915434 & 40000.4 & 40000 & 4 & 0 & 4\\\\\n",
       "\t4 & 190026915434 & 40000.4 & 40000 & 4 & 0 & 4\\\\\n",
       "\t5 & 190026915434 & 40000.3 & 40000 & 3 & 0 & 4\\\\\n",
       "\t6 & 190026915434 & 40000.1 & 40000 & 1 & 0 & 4\\\\\n",
       "\\end{tabular}\n"
      ],
      "text/markdown": [
       "\n",
       "A data.frame: 6 × 6\n",
       "\n",
       "| <!--/--> | inc_key &lt;dbl&gt; | aiscode &lt;dbl&gt; | ais_predot &lt;int&gt; | severity &lt;dbl&gt; | chapter &lt;dbl&gt; | region &lt;dbl&gt; |\n",
       "|---|---|---|---|---|---|---|\n",
       "| 1 | 190026915434 | 10000.1 | 10000 | 1 | 0 | 1 |\n",
       "| 2 | 190026915434 | 40000.1 | 40000 | 1 | 0 | 4 |\n",
       "| 3 | 190026915434 | 40000.4 | 40000 | 4 | 0 | 4 |\n",
       "| 4 | 190026915434 | 40000.4 | 40000 | 4 | 0 | 4 |\n",
       "| 5 | 190026915434 | 40000.3 | 40000 | 3 | 0 | 4 |\n",
       "| 6 | 190026915434 | 40000.1 | 40000 | 1 | 0 | 4 |\n",
       "\n"
      ],
      "text/plain": [
       "  inc_key      aiscode ais_predot severity chapter region\n",
       "1 190026915434 10000.1 10000      1        0       1     \n",
       "2 190026915434 40000.1 40000      1        0       4     \n",
       "3 190026915434 40000.4 40000      4        0       4     \n",
       "4 190026915434 40000.4 40000      4        0       4     \n",
       "5 190026915434 40000.3 40000      3        0       4     \n",
       "6 190026915434 40000.1 40000      1        0       4     "
      ]
     },
     "metadata": {},
     "output_type": "display_data"
    }
   ],
   "source": [
    "icdpic_l %>% head()"
   ]
  },
  {
   "cell_type": "markdown",
   "metadata": {},
   "source": [
    "## Output ISS values"
   ]
  },
  {
   "cell_type": "code",
   "execution_count": 34,
   "metadata": {},
   "outputs": [],
   "source": [
    "write_csv(icdpic_l, results_ais_file, col_names=TRUE)"
   ]
  },
  {
   "cell_type": "code",
   "execution_count": null,
   "metadata": {},
   "outputs": [],
   "source": []
  },
  {
   "cell_type": "code",
   "execution_count": 35,
   "metadata": {},
   "outputs": [
    {
     "data": {
      "text/html": [
       "<style>\n",
       ".list-inline {list-style: none; margin:0; padding: 0}\n",
       ".list-inline>li {display: inline-block}\n",
       ".list-inline>li:not(:last-child)::after {content: \"\\00b7\"; padding: 0 .5ex}\n",
       "</style>\n",
       "<ol class=list-inline><li>'/sfs/qumulo/qhome/trh6u/R/goolf/3.6'</li><li>'/sfs/applications/202212/software/standard/mpi/gcc/7.1.0/openmpi/3.1.4/R/3.6.3/lib64/R/library'</li></ol>\n"
      ],
      "text/latex": [
       "\\begin{enumerate*}\n",
       "\\item '/sfs/qumulo/qhome/trh6u/R/goolf/3.6'\n",
       "\\item '/sfs/applications/202212/software/standard/mpi/gcc/7.1.0/openmpi/3.1.4/R/3.6.3/lib64/R/library'\n",
       "\\end{enumerate*}\n"
      ],
      "text/markdown": [
       "1. '/sfs/qumulo/qhome/trh6u/R/goolf/3.6'\n",
       "2. '/sfs/applications/202212/software/standard/mpi/gcc/7.1.0/openmpi/3.1.4/R/3.6.3/lib64/R/library'\n",
       "\n",
       "\n"
      ],
      "text/plain": [
       "[1] \"/sfs/qumulo/qhome/trh6u/R/goolf/3.6\"                                                           \n",
       "[2] \"/sfs/applications/202212/software/standard/mpi/gcc/7.1.0/openmpi/3.1.4/R/3.6.3/lib64/R/library\""
      ]
     },
     "metadata": {},
     "output_type": "display_data"
    }
   ],
   "source": [
    ".libPaths()"
   ]
  },
  {
   "cell_type": "code",
   "execution_count": null,
   "metadata": {},
   "outputs": [],
   "source": []
  }
 ],
 "metadata": {
  "kernelspec": {
   "display_name": "R 3.6",
   "language": "R",
   "name": "ir36"
  },
  "language_info": {
   "codemirror_mode": "r",
   "file_extension": ".r",
   "mimetype": "text/x-r-source",
   "name": "R",
   "pygments_lexer": "r",
   "version": "3.6.3"
  }
 },
 "nbformat": 4,
 "nbformat_minor": 4
}
