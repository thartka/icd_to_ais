{
 "cells": [
  {
   "cell_type": "markdown",
   "metadata": {},
   "source": [
    "# Project: ICD-AIS conversion using Deep Learning utilizing ICD10\n",
    "\n",
    "This script translates the ICD codes into AIS codes using AAAM's official map.  The map does not get exact codes, but rather the chapter, body region, and severity.  A dummy predot code is formed from this data."
   ]
  },
  {
   "cell_type": "markdown",
   "metadata": {},
   "source": [
    "## Setup"
   ]
  },
  {
   "cell_type": "code",
   "execution_count": 1,
   "metadata": {},
   "outputs": [],
   "source": [
    "import numpy as np\n",
    "import pandas as pd"
   ]
  },
  {
   "cell_type": "markdown",
   "metadata": {},
   "source": [
    "#### Files"
   ]
  },
  {
   "cell_type": "code",
   "execution_count": 2,
   "metadata": {},
   "outputs": [],
   "source": [
    "# test ICD codes and demographics\n",
    "test_icd_file = \"../Data/NTDB_combine/ntdb_test_icd.csv\"\n",
    "test_demo_file = \"../Data/NTDB_combine/ntdb_test_demo.csv\"\n",
    "\n",
    "# aaam map\n",
    "aaam_map_file = \"../Tools/AAAM ICD-ISS Map v2.0 (00082).xlsx\"\n",
    "\n",
    "# output of translation\n",
    "results_ais_file = \"../Results/Translations/ais_aaam_map.csv\""
   ]
  },
  {
   "cell_type": "markdown",
   "metadata": {},
   "source": [
    "## Load data"
   ]
  },
  {
   "cell_type": "code",
   "execution_count": 3,
   "metadata": {},
   "outputs": [],
   "source": [
    "# load demographics\n",
    "test_demo = pd.read_csv(test_demo_file)"
   ]
  },
  {
   "cell_type": "code",
   "execution_count": 4,
   "metadata": {},
   "outputs": [],
   "source": [
    "# load icd data\n",
    "icd = pd.read_csv(test_icd_file)"
   ]
  },
  {
   "cell_type": "code",
   "execution_count": 5,
   "metadata": {},
   "outputs": [
    {
     "data": {
      "text/html": [
       "<div>\n",
       "<style scoped>\n",
       "    .dataframe tbody tr th:only-of-type {\n",
       "        vertical-align: middle;\n",
       "    }\n",
       "\n",
       "    .dataframe tbody tr th {\n",
       "        vertical-align: top;\n",
       "    }\n",
       "\n",
       "    .dataframe thead th {\n",
       "        text-align: right;\n",
       "    }\n",
       "</style>\n",
       "<table border=\"1\" class=\"dataframe\">\n",
       "  <thead>\n",
       "    <tr style=\"text-align: right;\">\n",
       "      <th></th>\n",
       "      <th>inc_key</th>\n",
       "      <th>ICDDIAGNOSISCODE</th>\n",
       "    </tr>\n",
       "  </thead>\n",
       "  <tbody>\n",
       "    <tr>\n",
       "      <th>0</th>\n",
       "      <td>190026915434</td>\n",
       "      <td>S00.83XA</td>\n",
       "    </tr>\n",
       "    <tr>\n",
       "      <th>1</th>\n",
       "      <td>190026915434</td>\n",
       "      <td>S42.413A</td>\n",
       "    </tr>\n",
       "    <tr>\n",
       "      <th>2</th>\n",
       "      <td>190026915434</td>\n",
       "      <td>S71.039A</td>\n",
       "    </tr>\n",
       "    <tr>\n",
       "      <th>3</th>\n",
       "      <td>190026915434</td>\n",
       "      <td>S71.039A</td>\n",
       "    </tr>\n",
       "    <tr>\n",
       "      <th>4</th>\n",
       "      <td>190026915434</td>\n",
       "      <td>S71.139A</td>\n",
       "    </tr>\n",
       "  </tbody>\n",
       "</table>\n",
       "</div>"
      ],
      "text/plain": [
       "        inc_key ICDDIAGNOSISCODE\n",
       "0  190026915434         S00.83XA\n",
       "1  190026915434         S42.413A\n",
       "2  190026915434         S71.039A\n",
       "3  190026915434         S71.039A\n",
       "4  190026915434         S71.139A"
      ]
     },
     "execution_count": 5,
     "metadata": {},
     "output_type": "execute_result"
    }
   ],
   "source": [
    "icd.head()"
   ]
  },
  {
   "cell_type": "code",
   "execution_count": 6,
   "metadata": {},
   "outputs": [
    {
     "data": {
      "text/plain": [
       "0        190026915434\n",
       "1        190026915434\n",
       "2        190026915434\n",
       "3        190026915434\n",
       "4        190026915434\n",
       "             ...     \n",
       "39450    190046127989\n",
       "39451    190046127989\n",
       "39452    190046128077\n",
       "39453    190046128321\n",
       "39454    190046128321\n",
       "Name: inc_key, Length: 39455, dtype: int64"
      ]
     },
     "execution_count": 6,
     "metadata": {},
     "output_type": "execute_result"
    }
   ],
   "source": [
    "icd.inc_key"
   ]
  },
  {
   "cell_type": "code",
   "execution_count": 7,
   "metadata": {},
   "outputs": [
    {
     "name": "stderr",
     "output_type": "stream",
     "text": [
      "/apps/software/standard/compiler/gcc/9.2.0/jupyter_conda/2020.11-py3.8/lib/python3.8/site-packages/openpyxl/worksheet/_reader.py:300: UserWarning: Unknown extension is not supported and will be removed\n",
      "  warn(msg)\n"
     ]
    }
   ],
   "source": [
    "# load AAAM map\n",
    "aaam_map = pd.read_excel(aaam_map_file, sheet_name=\"icd10Map\", header=0, converters={'CODE':str})"
   ]
  },
  {
   "cell_type": "code",
   "execution_count": 8,
   "metadata": {},
   "outputs": [
    {
     "data": {
      "text/html": [
       "<div>\n",
       "<style scoped>\n",
       "    .dataframe tbody tr th:only-of-type {\n",
       "        vertical-align: middle;\n",
       "    }\n",
       "\n",
       "    .dataframe tbody tr th {\n",
       "        vertical-align: top;\n",
       "    }\n",
       "\n",
       "    .dataframe thead th {\n",
       "        text-align: right;\n",
       "    }\n",
       "</style>\n",
       "<table border=\"1\" class=\"dataframe\">\n",
       "  <thead>\n",
       "    <tr style=\"text-align: right;\">\n",
       "      <th></th>\n",
       "      <th>CODE</th>\n",
       "      <th>DESCRIPTION</th>\n",
       "      <th>HIGHEST AIS SEVERITY</th>\n",
       "      <th>ISS BODY REGION</th>\n",
       "      <th>AIS CHAPTER</th>\n",
       "    </tr>\n",
       "  </thead>\n",
       "  <tbody>\n",
       "    <tr>\n",
       "      <th>0</th>\n",
       "      <td>S00</td>\n",
       "      <td>Superficial injury of head</td>\n",
       "      <td>1</td>\n",
       "      <td>6</td>\n",
       "      <td>1</td>\n",
       "    </tr>\n",
       "    <tr>\n",
       "      <th>1</th>\n",
       "      <td>S00.0</td>\n",
       "      <td>Superficial injury of scalp</td>\n",
       "      <td>1</td>\n",
       "      <td>6</td>\n",
       "      <td>1</td>\n",
       "    </tr>\n",
       "    <tr>\n",
       "      <th>2</th>\n",
       "      <td>S00.00</td>\n",
       "      <td>Unspecified superficial injury of scalp</td>\n",
       "      <td>1</td>\n",
       "      <td>6</td>\n",
       "      <td>1</td>\n",
       "    </tr>\n",
       "    <tr>\n",
       "      <th>3</th>\n",
       "      <td>S00.00XA</td>\n",
       "      <td>Unspecified superficial injury of scalp, initi...</td>\n",
       "      <td>1</td>\n",
       "      <td>6</td>\n",
       "      <td>1</td>\n",
       "    </tr>\n",
       "    <tr>\n",
       "      <th>4</th>\n",
       "      <td>S00.01</td>\n",
       "      <td>Abrasion of scalp</td>\n",
       "      <td>1</td>\n",
       "      <td>6</td>\n",
       "      <td>1</td>\n",
       "    </tr>\n",
       "  </tbody>\n",
       "</table>\n",
       "</div>"
      ],
      "text/plain": [
       "       CODE                                        DESCRIPTION  \\\n",
       "0       S00                         Superficial injury of head   \n",
       "1     S00.0                        Superficial injury of scalp   \n",
       "2    S00.00            Unspecified superficial injury of scalp   \n",
       "3  S00.00XA  Unspecified superficial injury of scalp, initi...   \n",
       "4    S00.01                                  Abrasion of scalp   \n",
       "\n",
       "   HIGHEST AIS SEVERITY  ISS BODY REGION  AIS CHAPTER  \n",
       "0                     1                6            1  \n",
       "1                     1                6            1  \n",
       "2                     1                6            1  \n",
       "3                     1                6            1  \n",
       "4                     1                6            1  "
      ]
     },
     "execution_count": 8,
     "metadata": {},
     "output_type": "execute_result"
    }
   ],
   "source": [
    "aaam_map.head()"
   ]
  },
  {
   "cell_type": "markdown",
   "metadata": {},
   "source": [
    "## Translate codes"
   ]
  },
  {
   "cell_type": "code",
   "execution_count": 9,
   "metadata": {},
   "outputs": [],
   "source": [
    "# left join map to icd codes\n",
    "mapped = icd.merge(aaam_map, left_on='ICDDIAGNOSISCODE', right_on='CODE', how='left')"
   ]
  },
  {
   "cell_type": "code",
   "execution_count": 10,
   "metadata": {},
   "outputs": [
    {
     "data": {
      "text/html": [
       "<div>\n",
       "<style scoped>\n",
       "    .dataframe tbody tr th:only-of-type {\n",
       "        vertical-align: middle;\n",
       "    }\n",
       "\n",
       "    .dataframe tbody tr th {\n",
       "        vertical-align: top;\n",
       "    }\n",
       "\n",
       "    .dataframe thead th {\n",
       "        text-align: right;\n",
       "    }\n",
       "</style>\n",
       "<table border=\"1\" class=\"dataframe\">\n",
       "  <thead>\n",
       "    <tr style=\"text-align: right;\">\n",
       "      <th></th>\n",
       "      <th>inc_key</th>\n",
       "      <th>ICDDIAGNOSISCODE</th>\n",
       "      <th>CODE</th>\n",
       "      <th>DESCRIPTION</th>\n",
       "      <th>HIGHEST AIS SEVERITY</th>\n",
       "      <th>ISS BODY REGION</th>\n",
       "      <th>AIS CHAPTER</th>\n",
       "    </tr>\n",
       "  </thead>\n",
       "  <tbody>\n",
       "    <tr>\n",
       "      <th>0</th>\n",
       "      <td>190026915434</td>\n",
       "      <td>S00.83XA</td>\n",
       "      <td>S00.83XA</td>\n",
       "      <td>Contusion of other part of head, initial encou...</td>\n",
       "      <td>1.0</td>\n",
       "      <td>6.0</td>\n",
       "      <td>1.0</td>\n",
       "    </tr>\n",
       "    <tr>\n",
       "      <th>1</th>\n",
       "      <td>190026915434</td>\n",
       "      <td>S42.413A</td>\n",
       "      <td>S42.413A</td>\n",
       "      <td>Displaced simple supracondylar fracture withou...</td>\n",
       "      <td>2.0</td>\n",
       "      <td>4.0</td>\n",
       "      <td>7.0</td>\n",
       "    </tr>\n",
       "    <tr>\n",
       "      <th>2</th>\n",
       "      <td>190026915434</td>\n",
       "      <td>S71.039A</td>\n",
       "      <td>S71.039A</td>\n",
       "      <td>Puncture wound without foreign body, unspecifi...</td>\n",
       "      <td>1.0</td>\n",
       "      <td>6.0</td>\n",
       "      <td>8.0</td>\n",
       "    </tr>\n",
       "    <tr>\n",
       "      <th>3</th>\n",
       "      <td>190026915434</td>\n",
       "      <td>S71.039A</td>\n",
       "      <td>S71.039A</td>\n",
       "      <td>Puncture wound without foreign body, unspecifi...</td>\n",
       "      <td>1.0</td>\n",
       "      <td>6.0</td>\n",
       "      <td>8.0</td>\n",
       "    </tr>\n",
       "    <tr>\n",
       "      <th>4</th>\n",
       "      <td>190026915434</td>\n",
       "      <td>S71.139A</td>\n",
       "      <td>S71.139A</td>\n",
       "      <td>Puncture wound without foreign body, unspecifi...</td>\n",
       "      <td>1.0</td>\n",
       "      <td>6.0</td>\n",
       "      <td>8.0</td>\n",
       "    </tr>\n",
       "  </tbody>\n",
       "</table>\n",
       "</div>"
      ],
      "text/plain": [
       "        inc_key ICDDIAGNOSISCODE      CODE  \\\n",
       "0  190026915434         S00.83XA  S00.83XA   \n",
       "1  190026915434         S42.413A  S42.413A   \n",
       "2  190026915434         S71.039A  S71.039A   \n",
       "3  190026915434         S71.039A  S71.039A   \n",
       "4  190026915434         S71.139A  S71.139A   \n",
       "\n",
       "                                         DESCRIPTION  HIGHEST AIS SEVERITY  \\\n",
       "0  Contusion of other part of head, initial encou...                   1.0   \n",
       "1  Displaced simple supracondylar fracture withou...                   2.0   \n",
       "2  Puncture wound without foreign body, unspecifi...                   1.0   \n",
       "3  Puncture wound without foreign body, unspecifi...                   1.0   \n",
       "4  Puncture wound without foreign body, unspecifi...                   1.0   \n",
       "\n",
       "   ISS BODY REGION  AIS CHAPTER  \n",
       "0              6.0          1.0  \n",
       "1              4.0          7.0  \n",
       "2              6.0          8.0  \n",
       "3              6.0          8.0  \n",
       "4              6.0          8.0  "
      ]
     },
     "execution_count": 10,
     "metadata": {},
     "output_type": "execute_result"
    }
   ],
   "source": [
    "mapped.head()"
   ]
  },
  {
   "cell_type": "markdown",
   "metadata": {},
   "source": [
    "## Examine unmapped codes"
   ]
  },
  {
   "cell_type": "code",
   "execution_count": 11,
   "metadata": {},
   "outputs": [
    {
     "data": {
      "text/plain": [
       "1163"
      ]
     },
     "execution_count": 11,
     "metadata": {},
     "output_type": "execute_result"
    }
   ],
   "source": [
    "# count unmapped icd codes\n",
    "len(mapped[mapped.CODE.isna()])"
   ]
  },
  {
   "cell_type": "code",
   "execution_count": 12,
   "metadata": {},
   "outputs": [
    {
     "data": {
      "text/plain": [
       "0.029476618932961603"
      ]
     },
     "execution_count": 12,
     "metadata": {},
     "output_type": "execute_result"
    }
   ],
   "source": [
    "# percent unmapped icd codes\n",
    "len(mapped[mapped.CODE.isna()]) / len(mapped)"
   ]
  },
  {
   "cell_type": "code",
   "execution_count": 13,
   "metadata": {},
   "outputs": [
    {
     "data": {
      "text/plain": [
       "['T14.8XXA',\n",
       " 'T07.XXXA',\n",
       " 'None',\n",
       " 'F17.210',\n",
       " 'I10',\n",
       " 'N17.9',\n",
       " 'E78.5',\n",
       " 'D62',\n",
       " 'E03.9',\n",
       " 'R04.0']"
      ]
     },
     "execution_count": 13,
     "metadata": {},
     "output_type": "execute_result"
    }
   ],
   "source": [
    "# most common ummapped codes\n",
    "mapped[mapped.CODE.isna()].ICDDIAGNOSISCODE.value_counts()[:10].index.tolist()"
   ]
  },
  {
   "cell_type": "markdown",
   "metadata": {},
   "source": [
    "## Clean up dataframe"
   ]
  },
  {
   "cell_type": "code",
   "execution_count": 14,
   "metadata": {},
   "outputs": [],
   "source": [
    "# drop unmatched codes\n",
    "mapped = mapped[~mapped.CODE.isna()]"
   ]
  },
  {
   "cell_type": "code",
   "execution_count": 15,
   "metadata": {},
   "outputs": [],
   "source": [
    "# rename columns\n",
    "mapped = mapped.rename(columns={'CODE':'icd','HIGHEST AIS SEVERITY':'severity','ISS BODY REGION':'region','AIS CHAPTER':'chapter'})"
   ]
  },
  {
   "cell_type": "code",
   "execution_count": 16,
   "metadata": {},
   "outputs": [],
   "source": [
    "# make dummy predot code\n",
    "mapped['ais_predot'] = (mapped.chapter * 100_000 + mapped.region * 10_000).astype(int)"
   ]
  },
  {
   "cell_type": "code",
   "execution_count": 17,
   "metadata": {},
   "outputs": [],
   "source": [
    "# make full code\n",
    "mapped['aiscode'] = mapped.ais_predot + (mapped.severity/10)"
   ]
  },
  {
   "cell_type": "code",
   "execution_count": 18,
   "metadata": {},
   "outputs": [],
   "source": [
    "# select necessary columns\n",
    "mapped = mapped[['inc_key','aiscode','ais_predot','severity','chapter','region']]"
   ]
  },
  {
   "cell_type": "code",
   "execution_count": 19,
   "metadata": {},
   "outputs": [
    {
     "data": {
      "text/html": [
       "<div>\n",
       "<style scoped>\n",
       "    .dataframe tbody tr th:only-of-type {\n",
       "        vertical-align: middle;\n",
       "    }\n",
       "\n",
       "    .dataframe tbody tr th {\n",
       "        vertical-align: top;\n",
       "    }\n",
       "\n",
       "    .dataframe thead th {\n",
       "        text-align: right;\n",
       "    }\n",
       "</style>\n",
       "<table border=\"1\" class=\"dataframe\">\n",
       "  <thead>\n",
       "    <tr style=\"text-align: right;\">\n",
       "      <th></th>\n",
       "      <th>inc_key</th>\n",
       "      <th>aiscode</th>\n",
       "      <th>ais_predot</th>\n",
       "      <th>severity</th>\n",
       "      <th>chapter</th>\n",
       "      <th>region</th>\n",
       "    </tr>\n",
       "  </thead>\n",
       "  <tbody>\n",
       "    <tr>\n",
       "      <th>0</th>\n",
       "      <td>190026915434</td>\n",
       "      <td>160000.1</td>\n",
       "      <td>160000</td>\n",
       "      <td>1.0</td>\n",
       "      <td>1.0</td>\n",
       "      <td>6.0</td>\n",
       "    </tr>\n",
       "    <tr>\n",
       "      <th>1</th>\n",
       "      <td>190026915434</td>\n",
       "      <td>740000.2</td>\n",
       "      <td>740000</td>\n",
       "      <td>2.0</td>\n",
       "      <td>7.0</td>\n",
       "      <td>4.0</td>\n",
       "    </tr>\n",
       "    <tr>\n",
       "      <th>2</th>\n",
       "      <td>190026915434</td>\n",
       "      <td>860000.1</td>\n",
       "      <td>860000</td>\n",
       "      <td>1.0</td>\n",
       "      <td>8.0</td>\n",
       "      <td>6.0</td>\n",
       "    </tr>\n",
       "    <tr>\n",
       "      <th>3</th>\n",
       "      <td>190026915434</td>\n",
       "      <td>860000.1</td>\n",
       "      <td>860000</td>\n",
       "      <td>1.0</td>\n",
       "      <td>8.0</td>\n",
       "      <td>6.0</td>\n",
       "    </tr>\n",
       "    <tr>\n",
       "      <th>4</th>\n",
       "      <td>190026915434</td>\n",
       "      <td>860000.1</td>\n",
       "      <td>860000</td>\n",
       "      <td>1.0</td>\n",
       "      <td>8.0</td>\n",
       "      <td>6.0</td>\n",
       "    </tr>\n",
       "  </tbody>\n",
       "</table>\n",
       "</div>"
      ],
      "text/plain": [
       "        inc_key   aiscode  ais_predot  severity  chapter  region\n",
       "0  190026915434  160000.1      160000       1.0      1.0     6.0\n",
       "1  190026915434  740000.2      740000       2.0      7.0     4.0\n",
       "2  190026915434  860000.1      860000       1.0      8.0     6.0\n",
       "3  190026915434  860000.1      860000       1.0      8.0     6.0\n",
       "4  190026915434  860000.1      860000       1.0      8.0     6.0"
      ]
     },
     "execution_count": 19,
     "metadata": {},
     "output_type": "execute_result"
    }
   ],
   "source": [
    "mapped.head()"
   ]
  },
  {
   "cell_type": "markdown",
   "metadata": {},
   "source": [
    "## Add rows with patients with no AIS codes"
   ]
  },
  {
   "cell_type": "code",
   "execution_count": 20,
   "metadata": {},
   "outputs": [],
   "source": [
    "# find keys patient with no AIS codes\n",
    "missing_pt = np.setdiff1d(test_demo.inc_key.unique(), mapped.inc_key.unique())"
   ]
  },
  {
   "cell_type": "code",
   "execution_count": 21,
   "metadata": {},
   "outputs": [],
   "source": [
    "# loop through missing patients\n",
    "for pt in missing_pt:\n",
    "    \n",
    "    # create datframe for patient\n",
    "    pt_df = pd.DataFrame({'inc_key':[pt], 'aiscode':[0],'ais_predot':[0],'severity':[0],'chapter':[0],'region':[0]})\n",
    "    \n",
    "    mapped = mapped.append(pt_df, ignore_index=True).sort_values('inc_key').reset_index(drop=True)"
   ]
  },
  {
   "cell_type": "markdown",
   "metadata": {},
   "source": [
    "## Store results"
   ]
  },
  {
   "cell_type": "code",
   "execution_count": 22,
   "metadata": {},
   "outputs": [],
   "source": [
    "mapped.to_csv(results_ais_file, index=False)"
   ]
  },
  {
   "cell_type": "code",
   "execution_count": null,
   "metadata": {},
   "outputs": [],
   "source": []
  }
 ],
 "metadata": {
  "kernelspec": {
   "display_name": "Python 3",
   "language": "python",
   "name": "python3"
  },
  "language_info": {
   "codemirror_mode": {
    "name": "ipython",
    "version": 3
   },
   "file_extension": ".py",
   "mimetype": "text/x-python",
   "name": "python",
   "nbconvert_exporter": "python",
   "pygments_lexer": "ipython3",
   "version": "3.8.8"
  }
 },
 "nbformat": 4,
 "nbformat_minor": 4
}
