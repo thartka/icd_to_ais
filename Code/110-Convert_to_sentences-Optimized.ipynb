{
 "cells": [
  {
   "cell_type": "markdown",
   "metadata": {},
   "source": [
    "# Project: ICD-AIS conversion using Deep Learning using ICD10\n",
    "\n",
    "This script converts the training, testing, and validation files into a format that OpenNMT can use.  The output format is:\n",
    "- One patient per line\n",
    "- ICD: Age first, then ECode, then procedure and diagnostic codes in ascending alphanumeric order\n",
    "- AIS: Codes in ascending order, no post-dot severity\n",
    "- Space in between codes"
   ]
  },
  {
   "cell_type": "markdown",
   "metadata": {},
   "source": [
    "## Setup"
   ]
  },
  {
   "cell_type": "code",
   "execution_count": 1,
   "metadata": {},
   "outputs": [],
   "source": [
    "import numpy as np\n",
    "import pandas as pd\n",
    "import datetime"
   ]
  },
  {
   "cell_type": "code",
   "execution_count": 2,
   "metadata": {},
   "outputs": [],
   "source": [
    "# parameters\n",
    "age_cat = True  # place ages in bins\n",
    "include_age = True  # include age in input\n",
    "include_sex = True  # include sex in input\n",
    "include_ecodes = True  # include ecodes in input\n",
    "include_pcodes = True  # include procedure codes in input"
   ]
  },
  {
   "cell_type": "markdown",
   "metadata": {},
   "source": [
    "#### Combined NTDB files"
   ]
  },
  {
   "cell_type": "code",
   "execution_count": 3,
   "metadata": {},
   "outputs": [],
   "source": [
    "# training\n",
    "train_demo_file = \"../Data/NTDB_combine/ntdb_train_demo.csv\"\n",
    "train_proc_file = \"../Data/NTDB_combine/ntdb_train_proc.csv\"\n",
    "train_icd_file = \"../Data/NTDB_combine/ntdb_train_icd.csv\"\n",
    "train_ais_file = \"../Data/NTDB_combine/ntdb_train_ais.csv\"\n",
    "\n",
    "# validation\n",
    "valid_demo_file = \"../Data/NTDB_combine/ntdb_valid_demo.csv\"\n",
    "valid_proc_file = \"../Data/NTDB_combine/ntdb_valid_proc.csv\"\n",
    "valid_icd_file = \"../Data/NTDB_combine/ntdb_valid_icd.csv\"\n",
    "valid_ais_file = \"../Data/NTDB_combine/ntdb_valid_ais.csv\"\n",
    "\n",
    "# testing\n",
    "test_demo_file = \"../Data/NTDB_combine/ntdb_test_demo.csv\"\n",
    "test_proc_file = \"../Data/NTDB_combine/ntdb_test_proc.csv\"\n",
    "test_icd_file = \"../Data/NTDB_combine/ntdb_test_icd.csv\"\n",
    "test_ais_file = \"../Data/NTDB_combine/ntdb_test_ais.csv\""
   ]
  },
  {
   "cell_type": "markdown",
   "metadata": {},
   "source": [
    "#### Sentence formated files"
   ]
  },
  {
   "cell_type": "code",
   "execution_count": 4,
   "metadata": {},
   "outputs": [],
   "source": [
    "# training\n",
    "train_sent_icd_file = \"../Data/NTDB_sentence/train_icd10_agecat_proc.csv\"\n",
    "train_sent_ais_file = \"../Data/NTDB_sentence/train_ais_no_sev.csv\"\n",
    "\n",
    "# validation\n",
    "valid_sent_icd_file = \"../Data/NTDB_sentence/valid_icd10_agecat_proc.csv\"\n",
    "valid_sent_ais_file = \"../Data/NTDB_sentence/valid_ais_no_sev.csv\"\n",
    "\n",
    "# testing\n",
    "test_sent_icd_file = \"../Data/NTDB_sentence/test_icd10_agecat_proc.csv\"\n",
    "test_sent_ais_file = \"../Data/NTDB_sentence/test_ais_no_sev.csv\""
   ]
  },
  {
   "cell_type": "markdown",
   "metadata": {},
   "source": [
    "## Functions to convert data to input and output strings"
   ]
  },
  {
   "cell_type": "code",
   "execution_count": 5,
   "metadata": {},
   "outputs": [],
   "source": [
    "# This function returns True with variable is NaN\n",
    "def isNaN(num):\n",
    "    return num != num"
   ]
  },
  {
   "cell_type": "code",
   "execution_count": 6,
   "metadata": {},
   "outputs": [],
   "source": [
    "# This function converts values in a dataframe to a string.\n",
    "#  It first finds all rows that match an id, then adds\n",
    "#  a prefix to each value, and finally makes the values into\n",
    "#  a string with a space separating values.\n",
    "\n",
    "def list_to_sentence_fast(key, df, prefix, start_num, missing_key=False):\n",
    "    \n",
    "    #print(key, \"==\", df.iloc[start_num,:].inc_key, start_num)\n",
    "    \n",
    "    # check for any entries\n",
    "    if(df.iloc[start_num,:].inc_key==key):\n",
    "\n",
    "        # store end_num\n",
    "        end_num = start_num\n",
    "\n",
    "        # find end key\n",
    "        if((end_num+1)<len(df)):\n",
    "            \n",
    "            # while there is more data\n",
    "            while(key==df.iloc[end_num+1,:].inc_key):\n",
    "                end_num = end_num + 1\n",
    "\n",
    "                # check for end of df\n",
    "                if((end_num+1)>=len(df)):\n",
    "                    break\n",
    "\n",
    "        # get entries\n",
    "        entries = df.iloc[start_num:end_num+1,1]\n",
    "        \n",
    "        # update start number\n",
    "        start_num = end_num+1\n",
    "        \n",
    "        #print(entries)\n",
    "        \n",
    "    # else no matching entries\n",
    "    else:\n",
    "        entries = '0'\n",
    "        \n",
    "        if missing_key:\n",
    "            print(\"No entry, key:\", key)\n",
    "       \n",
    "    #print(entries)\n",
    "    \n",
    "    # combine entries into string, prefix each code, and add spaces\n",
    "    codes = prefix + (' ' + prefix).join(entries)\n",
    "    \n",
    "    # return codes, next start num\n",
    "    return codes, start_num"
   ]
  },
  {
   "cell_type": "code",
   "execution_count": 7,
   "metadata": {},
   "outputs": [],
   "source": [
    "# This function converts data from multiple dataframes\n",
    "#  to a single sentence for each patient.  It takes\n",
    "#  demographic data, procedures codes, and icd codes.\n",
    "\n",
    "def form_input_sentences(demo, proc, icd):     \n",
    "        \n",
    "    # list for results\n",
    "    input_sentences = []\n",
    "    \n",
    "    # order list\n",
    "    demo = demo.sort_values('inc_key').reset_index(drop=True)\n",
    "    proc = proc.sort_values(['inc_key','ICDPROCEDURECODE']).reset_index(drop=True)\n",
    "    icd = icd.sort_values(['inc_key','ICDDIAGNOSISCODE']).reset_index(drop=True)\n",
    "    \n",
    "    # start numbers for D and P\n",
    "    d_start = 0 \n",
    "    p_start = 0\n",
    "    \n",
    "    # loop through all patients\n",
    "    for i,row in demo.iterrows():\n",
    "    \n",
    "        #print(row)\n",
    "    \n",
    "        # check if in include age\n",
    "        if include_age: \n",
    "            \n",
    "            # get age \n",
    "            age_num = int(row.AGEYEARS)\n",
    "\n",
    "            # bin ages if necessary\n",
    "            if age_cat:\n",
    "                # round to next lower ten years\n",
    "                age_num = (age_num // 10) * 10\n",
    "\n",
    "            # make age string\n",
    "            age = \"A\" + str(age_num)\n",
    "        else:\n",
    "            age = ''\n",
    "        \n",
    "        # check if in include sex\n",
    "        if include_sex:\n",
    "            # get sex\n",
    "            sex = 'M' if row.SEX == 1.0 else 'F'\n",
    "        else:\n",
    "            sex = ''\n",
    "            \n",
    "        # check if in include ecodes\n",
    "        if include_ecodes:\n",
    "            # get mechanism of injury code\n",
    "            ecodes = row.PRIMARYECODEICD10\n",
    "        else:\n",
    "            ecodes = ''\n",
    "        \n",
    "        # check if in include pcodes\n",
    "        if include_pcodes:\n",
    "            # get procedure codes\n",
    "            pcodes, p_start = list_to_sentence_fast(row.inc_key, proc, 'P', p_start)\n",
    "        else:\n",
    "            pcodes = ''\n",
    "        \n",
    "        # get diagnosis codes, always include these\n",
    "        dcodes, d_start = list_to_sentence_fast(row.inc_key, icd, 'D', d_start)\n",
    "        #dcodes = ''\n",
    "    \n",
    "        # form sentence\n",
    "        pt_sent = ' '.join([age, sex, ecodes, pcodes, dcodes])\n",
    "        \n",
    "        # remove periods\n",
    "        pt_sent = pt_sent.replace('.','')     \n",
    "              \n",
    "        # append to list\n",
    "        input_sentences.append(pt_sent)\n",
    "        \n",
    "        #print(pt_sent)\n",
    "        \n",
    "        if i%100_000 == 0:\n",
    "            print(\"i:\",i,\"    \", datetime.datetime.now())\n",
    "        \n",
    "    input_df = pd.DataFrame(input_sentences, columns=['values'])    \n",
    "    \n",
    "    return input_df"
   ]
  },
  {
   "cell_type": "code",
   "execution_count": 8,
   "metadata": {},
   "outputs": [],
   "source": [
    "# This function converts data from ais dataframe\n",
    "#  to a single sentence for each patient.  \n",
    "\n",
    "def form_output_sentences(demo, ais):\n",
    "    \n",
    "    # list for results\n",
    "    output_sentences = []\n",
    "    \n",
    "    # order list\n",
    "    demo = demo.sort_values('inc_key').reset_index(drop=True)\n",
    "    ais = ais.sort_values(['inc_key','AISCODE']).reset_index(drop=True)\n",
    "    \n",
    "    # remove severity code and convert to string\n",
    "    ais['AISCODE'] = np.floor(ais.AISCODE).astype(int).astype(str)\n",
    "    \n",
    "    # start numbers \n",
    "    a_start = 0 \n",
    "    \n",
    "    # loop through all patients\n",
    "    for i,row in demo.iterrows():\n",
    "        \n",
    "        # get ais codes\n",
    "        codes, a_start = list_to_sentence_fast(row.inc_key, ais, '', a_start)\n",
    "                      \n",
    "        # append to list\n",
    "        output_sentences.append(codes)\n",
    "        \n",
    "        if i%100_000 == 0:\n",
    "            print(\"i:\",i,\"    \", datetime.datetime.now())\n",
    "    \n",
    "    output_df = pd.DataFrame(output_sentences, columns=['values'])    \n",
    "\n",
    "    return output_df"
   ]
  },
  {
   "cell_type": "markdown",
   "metadata": {},
   "source": [
    "## Convert Test Data"
   ]
  },
  {
   "cell_type": "code",
   "execution_count": 9,
   "metadata": {},
   "outputs": [
    {
     "name": "stdout",
     "output_type": "stream",
     "text": [
      "Number of test patients: 10000\n",
      "i: 0      2023-02-13 16:28:18.663642\n",
      "CPU times: user 20 s, sys: 42.9 ms, total: 20.1 s\n",
      "Wall time: 20.1 s\n"
     ]
    }
   ],
   "source": [
    "%%time\n",
    "# read in testing input files\n",
    "test_demo = pd.read_csv(test_demo_file)\n",
    "test_proc = pd.read_csv(test_proc_file)\n",
    "test_icd = pd.read_csv(test_icd_file)\n",
    "\n",
    "print(\"Number of test patients:\", len(test_demo))\n",
    "\n",
    "# convert input strings\n",
    "test_input = form_input_sentences(test_demo, test_proc, test_icd)\n",
    "\n",
    "# write input to file\n",
    "test_input.to_csv(test_sent_icd_file, index=False, header=False)\n",
    "\n",
    "# release memory\n",
    "del test_demo, test_proc, test_icd, test_input"
   ]
  },
  {
   "cell_type": "code",
   "execution_count": 10,
   "metadata": {},
   "outputs": [
    {
     "name": "stdout",
     "output_type": "stream",
     "text": [
      "Number of test patients: 10000\n",
      "Number of test injuries: 33497\n",
      "i: 0      2023-02-13 16:28:38.741073\n",
      "CPU times: user 7.64 s, sys: 20.9 ms, total: 7.66 s\n",
      "Wall time: 7.68 s\n"
     ]
    }
   ],
   "source": [
    "%%time\n",
    "# read in output file\n",
    "test_demo = pd.read_csv(test_demo_file)\n",
    "test_ais = pd.read_csv(test_ais_file)\n",
    "\n",
    "print(\"Number of test patients:\", len(test_demo))\n",
    "print(\"Number of test injuries:\", len(test_ais))\n",
    "\n",
    "# convert input strings\n",
    "test_output = form_output_sentences(test_demo,test_ais)\n",
    "\n",
    "# output files\n",
    "test_output.to_csv(test_sent_ais_file, index=False, header=False)\n",
    "\n",
    "#del test_ais, test_output"
   ]
  },
  {
   "cell_type": "markdown",
   "metadata": {},
   "source": [
    "## Convert Validation Data"
   ]
  },
  {
   "cell_type": "code",
   "execution_count": 11,
   "metadata": {},
   "outputs": [
    {
     "name": "stdout",
     "output_type": "stream",
     "text": [
      "Number of validation patients: 203224\n",
      "i: 0      2023-02-13 16:28:47.930775\n",
      "i: 100000      2023-02-13 16:32:00.121772\n",
      "i: 200000      2023-02-13 16:35:15.253924\n",
      "CPU times: user 6min 35s, sys: 646 ms, total: 6min 35s\n",
      "Wall time: 6min 35s\n"
     ]
    }
   ],
   "source": [
    "%%time\n",
    "# read in validation input files\n",
    "valid_demo = pd.read_csv(valid_demo_file)\n",
    "valid_proc = pd.read_csv(valid_proc_file)\n",
    "valid_icd = pd.read_csv(valid_icd_file)\n",
    "\n",
    "print(\"Number of validation patients:\", len(valid_demo))\n",
    "\n",
    "# convert input strings\n",
    "valid_input = form_input_sentences(valid_demo, valid_proc, valid_icd)\n",
    "\n",
    "# write input to file\n",
    "valid_input.to_csv(valid_sent_icd_file, index=False, header=False)\n",
    "\n",
    "# release memory\n",
    "del valid_demo, valid_proc, valid_icd, valid_input"
   ]
  },
  {
   "cell_type": "code",
   "execution_count": 12,
   "metadata": {},
   "outputs": [
    {
     "name": "stdout",
     "output_type": "stream",
     "text": [
      "Number of validation patients: 203224\n",
      "Number of validation injuries: 696184\n",
      "i: 0      2023-02-13 16:35:23.426689\n",
      "i: 100000      2023-02-13 16:36:38.087263\n",
      "i: 200000      2023-02-13 16:37:52.535931\n",
      "CPU times: user 2min 32s, sys: 362 ms, total: 2min 32s\n",
      "Wall time: 2min 32s\n"
     ]
    }
   ],
   "source": [
    "%%time\n",
    "# read in output file\n",
    "valid_demo = pd.read_csv(valid_demo_file)\n",
    "valid_ais = pd.read_csv(valid_ais_file)\n",
    "\n",
    "print(\"Number of validation patients:\", len(valid_demo))\n",
    "print(\"Number of validation injuries:\", len(valid_ais))\n",
    "\n",
    "# convert input strings\n",
    "valid_output = form_output_sentences(valid_demo, valid_ais)\n",
    "\n",
    "# output files\n",
    "valid_output.to_csv(valid_sent_ais_file, index=False, header=False)\n",
    "\n",
    "del valid_ais, valid_output"
   ]
  },
  {
   "cell_type": "markdown",
   "metadata": {},
   "source": [
    "## Convert Training Data"
   ]
  },
  {
   "cell_type": "code",
   "execution_count": 13,
   "metadata": {},
   "outputs": [
    {
     "name": "stdout",
     "output_type": "stream",
     "text": [
      "Number of training patients: 1829022\n",
      "i: 0      2023-02-13 16:38:10.471602\n",
      "i: 100000      2023-02-13 16:41:17.777810\n",
      "i: 200000      2023-02-13 16:44:37.136904\n",
      "i: 300000      2023-02-13 16:47:44.149483\n",
      "i: 400000      2023-02-13 16:50:50.430777\n",
      "i: 500000      2023-02-13 16:54:03.415548\n",
      "i: 600000      2023-02-13 16:57:14.442515\n",
      "i: 700000      2023-02-13 17:00:27.377983\n",
      "i: 800000      2023-02-13 17:03:36.898338\n",
      "i: 900000      2023-02-13 17:06:27.663364\n",
      "i: 1000000      2023-02-13 17:09:36.765606\n",
      "i: 1100000      2023-02-13 17:12:45.201342\n",
      "i: 1200000      2023-02-13 17:16:05.259688\n",
      "i: 1300000      2023-02-13 17:19:19.607486\n",
      "i: 1400000      2023-02-13 17:22:39.325068\n",
      "i: 1500000      2023-02-13 17:25:59.341781\n",
      "i: 1600000      2023-02-13 17:29:14.222792\n",
      "i: 1700000      2023-02-13 17:32:28.625972\n",
      "i: 1800000      2023-02-13 17:35:39.272075\n",
      "CPU times: user 58min 42s, sys: 5.46 s, total: 58min 47s\n",
      "Wall time: 58min 48s\n"
     ]
    }
   ],
   "source": [
    "%%time\n",
    "# read in training input files\n",
    "train_demo = pd.read_csv(train_demo_file)\n",
    "train_proc = pd.read_csv(train_proc_file)\n",
    "train_icd = pd.read_csv(train_icd_file)\n",
    "\n",
    "print(\"Number of training patients:\", len(train_demo))\n",
    "\n",
    "# convert input strings\n",
    "train_input = form_input_sentences(train_demo, train_proc, train_icd)\n",
    "\n",
    "# write input to file\n",
    "train_input.to_csv(train_sent_icd_file, index=False, header=False)\n",
    "\n",
    "# release memory\n",
    "del train_demo, train_proc, train_icd, train_input"
   ]
  },
  {
   "cell_type": "code",
   "execution_count": 14,
   "metadata": {},
   "outputs": [
    {
     "name": "stdout",
     "output_type": "stream",
     "text": [
      "Number of training patients: 1829022\n",
      "Number of training injuries: 6277251\n",
      "i: 0      2023-02-13 17:36:53.900298\n",
      "i: 100000      2023-02-13 17:38:08.328161\n",
      "i: 200000      2023-02-13 17:39:25.045085\n",
      "i: 300000      2023-02-13 17:40:39.207668\n",
      "i: 400000      2023-02-13 17:41:54.241986\n",
      "i: 500000      2023-02-13 17:43:11.823713\n",
      "i: 600000      2023-02-13 17:44:26.698609\n",
      "i: 700000      2023-02-13 17:45:41.338605\n",
      "i: 800000      2023-02-13 17:46:55.932261\n",
      "i: 900000      2023-02-13 17:48:05.749752\n",
      "i: 1000000      2023-02-13 17:49:18.925491\n",
      "i: 1100000      2023-02-13 17:50:32.353942\n",
      "i: 1200000      2023-02-13 17:51:47.426179\n",
      "i: 1300000      2023-02-13 17:53:04.358037\n",
      "i: 1400000      2023-02-13 17:54:21.273968\n",
      "i: 1500000      2023-02-13 17:55:39.439697\n",
      "i: 1600000      2023-02-13 17:56:54.768232\n",
      "i: 1700000      2023-02-13 17:58:10.620531\n",
      "i: 1800000      2023-02-13 17:59:24.899777\n",
      "CPU times: user 23min 1s, sys: 3.78 s, total: 23min 5s\n",
      "Wall time: 23min 5s\n"
     ]
    }
   ],
   "source": [
    "%%time\n",
    "# read in output file\n",
    "train_demo = pd.read_csv(train_demo_file)\n",
    "train_ais = pd.read_csv(train_ais_file)\n",
    "\n",
    "print(\"Number of training patients:\", len(train_demo))\n",
    "print(\"Number of training injuries:\", len(train_ais))\n",
    "\n",
    "# convert input strings\n",
    "train_output = form_output_sentences(train_demo, train_ais)\n",
    "\n",
    "# output files\n",
    "train_output.to_csv(train_sent_ais_file, index=False, header=False)\n",
    "\n",
    "del train_ais, train_output"
   ]
  },
  {
   "cell_type": "code",
   "execution_count": 15,
   "metadata": {},
   "outputs": [
    {
     "data": {
      "text/plain": [
       "2038487"
      ]
     },
     "execution_count": 15,
     "metadata": {},
     "output_type": "execute_result"
    }
   ],
   "source": [
    "# training + validation patients\n",
    "1834639 + 203848"
   ]
  },
  {
   "cell_type": "code",
   "execution_count": 16,
   "metadata": {},
   "outputs": [
    {
     "data": {
      "text/plain": [
       "6979149"
      ]
     },
     "execution_count": 16,
     "metadata": {},
     "output_type": "execute_result"
    }
   ],
   "source": [
    "# training + validation injuries\n",
    "695429 + 6283720"
   ]
  },
  {
   "cell_type": "code",
   "execution_count": null,
   "metadata": {},
   "outputs": [],
   "source": []
  }
 ],
 "metadata": {
  "kernelspec": {
   "display_name": "Python 3",
   "language": "python",
   "name": "python3"
  },
  "language_info": {
   "codemirror_mode": {
    "name": "ipython",
    "version": 3
   },
   "file_extension": ".py",
   "mimetype": "text/x-python",
   "name": "python",
   "nbconvert_exporter": "python",
   "pygments_lexer": "ipython3",
   "version": "3.8.8"
  }
 },
 "nbformat": 4,
 "nbformat_minor": 4
}
