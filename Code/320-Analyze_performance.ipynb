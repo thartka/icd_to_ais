{
 "cells": [
  {
   "cell_type": "markdown",
   "metadata": {},
   "source": [
    "# Project: ICD-AIS conversion using Deep Learning utilizing ICD10\n",
    "\n",
    "This script analyzes the results of the translations using different methods."
   ]
  },
  {
   "cell_type": "markdown",
   "metadata": {},
   "source": [
    "## Setup"
   ]
  },
  {
   "cell_type": "code",
   "execution_count": 1,
   "metadata": {},
   "outputs": [],
   "source": [
    "import numpy as np\n",
    "import pandas as pd\n",
    "import math\n",
    "from sklearn import metrics\n",
    "import seaborn as sb\n",
    "import matplotlib.pyplot as plt"
   ]
  },
  {
   "cell_type": "markdown",
   "metadata": {},
   "source": [
    "#### Files"
   ]
  },
  {
   "cell_type": "code",
   "execution_count": 2,
   "metadata": {},
   "outputs": [],
   "source": [
    "# results\n",
    "results_file = \"../Results/ais_results.csv\"\n",
    "\n",
    "# test demographic file\n",
    "test_demo_file = \"../Data/NTDB_combine/ntdb_test_demo.csv\""
   ]
  },
  {
   "cell_type": "markdown",
   "metadata": {},
   "source": [
    "### Load data"
   ]
  },
  {
   "cell_type": "code",
   "execution_count": 3,
   "metadata": {},
   "outputs": [],
   "source": [
    "# Load result files\n",
    "res = pd.read_csv(results_file)\n",
    "\n",
    "# load demographics\n",
    "demo = pd.read_csv(test_demo_file)"
   ]
  },
  {
   "cell_type": "markdown",
   "metadata": {},
   "source": [
    "## Functions for analysis"
   ]
  },
  {
   "cell_type": "code",
   "execution_count": 4,
   "metadata": {},
   "outputs": [],
   "source": [
    "def calc_diff(p1, n1, p2, n2):\n",
    "    '''\n",
    "    This function calculates a difference between to proportions and \n",
    "    the 95% CI.\n",
    "    \n",
    "    Parameters:\n",
    "    p1 - first proportion\n",
    "    n1 - number of samples in population 1\n",
    "    p2 - first proportion\n",
    "    n2 - number of samples in population 2\n",
    "    \n",
    "    Returns \n",
    "    difference, lower limit of 95%CI, upper limit of 95%CI\n",
    "    '''\n",
    "    \n",
    "    # absolute difference\n",
    "    diff = p2-p1\n",
    "    \n",
    "    # standard error for each proportion\n",
    "    se1 = np.sqrt(p1*(1-p1)/n1)  \n",
    "    se2 = np.sqrt(p2*(1-p2)/n2)  \n",
    "    \n",
    "    # standard errof for difference\n",
    "    se = np.sqrt(se1**2 + se2**2)\n",
    "    \n",
    "    # get upper and lower limits for diff\n",
    "    ll = diff - 1.96*se\n",
    "    ul = diff + 1.96*se\n",
    "    \n",
    "    return diff, ll, ul"
   ]
  },
  {
   "cell_type": "code",
   "execution_count": 5,
   "metadata": {},
   "outputs": [],
   "source": [
    "def calc_ci(p, n):\n",
    "    '''\n",
    "    This function calculates a 95% CI for a proportion \n",
    "    based on the number of samples.\n",
    "    \n",
    "    Parameters:\n",
    "    p - proportion\n",
    "    n - number of samples\n",
    "    \n",
    "    Returns:\n",
    "    proportion, lower limit of 95%CI, upper limit of 95%CI\n",
    "    '''\n",
    "    \n",
    "    \n",
    "    # standard error \n",
    "    se = np.sqrt(p*(1-p)/n)  \n",
    "    \n",
    "    # get upper and lower limits for diff\n",
    "    ll = p - 1.96*se\n",
    "    ul = p + 1.96*se\n",
    "    \n",
    "    return p, ll, ul"
   ]
  },
  {
   "cell_type": "code",
   "execution_count": 6,
   "metadata": {},
   "outputs": [],
   "source": [
    "def sens_spec(TP, TN, FP, FN):\n",
    "    '''\n",
    "    This function calculates sensitivity and specificity from\n",
    "    true positives, true negatives, false positives, and false negatives.\n",
    "    \n",
    "    Parameters:\n",
    "    TP - true positives\n",
    "    TN - true negatives\n",
    "    FP - false positives\n",
    "    FN - false negatives\n",
    "    \n",
    "    Returns:\n",
    "    sensitivity, specificity\n",
    "    '''\n",
    "    \n",
    "    sens = TP/(TP+FN)\n",
    "    spec = TN/(TN+FP)\n",
    "    \n",
    "    return sens, spec"
   ]
  },
  {
   "cell_type": "code",
   "execution_count": 7,
   "metadata": {},
   "outputs": [],
   "source": [
    "def sens_spec_df(df, obs, pred):\n",
    "    '''\n",
    "    This function calculates sensitivity and specificity from\n",
    "    a dataframe.\n",
    "    \n",
    "    Parameters:\n",
    "    df - dataframe with data\n",
    "    obs - column with observe outcomes (binary outcome)\n",
    "    pred - column with predictions (binary outcome)\n",
    "    \n",
    "    Returns:\n",
    "    sensitivity, specificity\n",
    "    '''    \n",
    "    tp = sum(np.where((res[obs]==1) & (res[pred]==1),1,0))\n",
    "    tn = sum(np.where((res[obs]==0) & (res[pred]==0),1,0))\n",
    "    fp = sum(np.where((res[obs]==0) & (res[pred]==1),1,0))\n",
    "    fn = sum(np.where((res[obs]==1) & (res[pred]==0),1,0))\n",
    "\n",
    "    return sens_spec(tp, tn, fp, fn)"
   ]
  },
  {
   "cell_type": "code",
   "execution_count": 8,
   "metadata": {},
   "outputs": [],
   "source": [
    "def f1(df, obs, pred):\n",
    "    '''\n",
    "    This function calculates F1 score from a dataframe.\n",
    "    \n",
    "    Parameters:\n",
    "    df - dataframe with data\n",
    "    obs - column with observe outcomes (binary outcome)\n",
    "    pred - column with predictions (binary outcome)\n",
    "    \n",
    "    Returns:\n",
    "    F1 score\n",
    "    '''    \n",
    "    \n",
    "    tp = sum(np.where((res[obs]==1) & (res[pred]==1),1,0))\n",
    "    fp = sum(np.where((res[obs]==0) & (res[pred]==1),1,0))\n",
    "    fn = sum(np.where((res[obs]==1) & (res[pred]==0),1,0))\n",
    "\n",
    "    return (2*tp)/(2*tp+fp+fn)"
   ]
  },
  {
   "cell_type": "code",
   "execution_count": 9,
   "metadata": {},
   "outputs": [],
   "source": [
    "def auc(df, obs, pred):\n",
    "    '''\n",
    "    This function calculates area under the receiver operator \n",
    "    characteristic curve (AUC) from a dataframe.\n",
    "    \n",
    "    Parameters:\n",
    "    df - dataframe with data\n",
    "    obs - column with observe outcomes (binary outcome)\n",
    "    pred - column with predictions (continuous/discrete outcome)\n",
    "    \n",
    "    Returns:\n",
    "    AUC\n",
    "    '''       \n",
    "    \n",
    "    # sort values and drop NAs\n",
    "    df = df[[obs,pred]].dropna().sort_values(pred)\n",
    "\n",
    "    # get false positive rate, true positive rate, and threshold\n",
    "    fpr, tpr, thresholds = metrics.roc_curve(df[obs], df[pred], pos_label=1)\n",
    "    \n",
    "    # return the AUC based on the fpr, tpr\n",
    "    return metrics.auc(fpr, tpr)"
   ]
  },
  {
   "cell_type": "code",
   "execution_count": 127,
   "metadata": {},
   "outputs": [],
   "source": [
    "def heatmap_df(df, obs, pred, max_iss, xtitle, ytitle, fontsize=15):\n",
    "    '''\n",
    "    This function draws a heatmap for the correlation between\n",
    "    observed and predicted ISS values\n",
    "    \n",
    "    Parameters:\n",
    "    df - dataframe with data\n",
    "    obs - column with observe outcomes (continuous/discrete outcome)\n",
    "    pred - column with predictions (continuous/discrete outcome)\n",
    "    max_iss - maximum ISS for plot\n",
    "    xtitle - x-axis label\n",
    "    ytitle - y-axis label\n",
    "    fontsize - size of axis labels font\n",
    "    \n",
    "    Returns:\n",
    "    pointer to plot\n",
    "    '''      \n",
    "    \n",
    "    # create a list of integers\n",
    "    X = range(1,max_iss+1)\n",
    "    Y = range(1,max_iss+1)\n",
    "\n",
    "    # create empty list for data\n",
    "    data = np.zeros((max_iss, max_iss))\n",
    "\n",
    "    # loop through observed ISS values\n",
    "    for x in X:\n",
    "        # get predictions for obs value of ISS\n",
    "        pred_iss = df[df[obs]==x][pred]\n",
    "\n",
    "        # determine number of prediction for obs value of ISS\n",
    "        num_iss = len(pred_iss)\n",
    "\n",
    "        # loop through predicted ISS\n",
    "        for y in Y:\n",
    "            # determine number of predictions for specific ISS\n",
    "            num_pred = len(pred_iss[pred_iss==y])\n",
    "\n",
    "            # if number of predictions is not zero\n",
    "            if num_iss!=0:\n",
    "                \n",
    "                # determine ratio of predictions at this value to \n",
    "                #  total number of predictions for observed ISS\n",
    "                data[y-1,x-1] = num_pred/num_iss\n",
    "\n",
    "    # convert to dataframe\n",
    "    df = pd.DataFrame(data, index=Y, columns=X)\n",
    "\n",
    "   \n",
    "    # draw heat map\n",
    "    ax = sb.heatmap(df, cmap=sb.color_palette(\"gray_r\",75))\n",
    "    \n",
    "    # adjust labels and tick marks\n",
    "    ax.invert_yaxis()\n",
    "    ax.set_xticks([1,16,max_iss])\n",
    "    ax.set_xticklabels([1,16,max_iss])\n",
    "    ax.set_yticks([1,16,max_iss])\n",
    "    ax.set_yticklabels([1,16,max_iss])\n",
    "    plt.xlabel(xtitle, fontsize=fontsize)\n",
    "    plt.ylabel(ytitle, fontsize=fontsize)\n",
    "    \n",
    "    return ax"
   ]
  },
  {
   "cell_type": "code",
   "execution_count": 11,
   "metadata": {},
   "outputs": [],
   "source": [
    "def rmse(df, obs, pred):\n",
    "    '''\n",
    "    This function calculates root mean squared error \n",
    "    from a dataframe.\n",
    "    \n",
    "    Parameters:\n",
    "    df - dataframe with data\n",
    "    obs - column with observe outcomes (continuous/discrete outcome)\n",
    "    pred - column with predictions (continuous/discrete outcome)\n",
    "    \n",
    "    Returns:\n",
    "    RMSE\n",
    "    '''    \n",
    "    \n",
    "    # make column for squared difference\n",
    "    df['res_sq'] = (df[obs] - df[pred])**2\n",
    "    \n",
    "    # remove NAs\n",
    "    df = df.dropna()\n",
    "    \n",
    "    # get sum of residual squared\n",
    "    res_sq_sum = df.res_sq.sum()\n",
    "    \n",
    "    # divide by number of samples and take sq root\n",
    "    rmse = np.sqrt(res_sq_sum/len(df))\n",
    "    \n",
    "    return rmse"
   ]
  },
  {
   "cell_type": "code",
   "execution_count": 12,
   "metadata": {},
   "outputs": [],
   "source": [
    "def fpr_fnr(df, obs, pred):\n",
    "    '''\n",
    "    This function calculates sensitivity and specificity from\n",
    "    a dataframe.\n",
    "    \n",
    "    Parameters:\n",
    "    df - dataframe with data\n",
    "    obs - column with observe outcomes (binary outcome)\n",
    "    pred - column with predictions (binary outcome)\n",
    "    \n",
    "    Returns:\n",
    "    false positive rate, false negative rate\n",
    "    '''    \n",
    "    tp = sum(np.where((res[obs]==1) & (res[pred]==1),1,0))\n",
    "    tn = sum(np.where((res[obs]==0) & (res[pred]==0),1,0))\n",
    "    fp = sum(np.where((res[obs]==0) & (res[pred]==1),1,0))\n",
    "    fn = sum(np.where((res[obs]==1) & (res[pred]==0),1,0))\n",
    "\n",
    "    return (fp/(fp+tn)), (fn/(fn+tp))"
   ]
  },
  {
   "cell_type": "code",
   "execution_count": 13,
   "metadata": {},
   "outputs": [],
   "source": [
    "def under_est(df, obs, pred):\n",
    "    '''\n",
    "    This function calculates sensitivity and specificity from\n",
    "    a dataframe.\n",
    "    \n",
    "    Parameters:\n",
    "    df - dataframe with data\n",
    "    obs - column with observe outcomes (binary outcome)\n",
    "    pred - column with predictions (binary outcome)\n",
    "    \n",
    "    Returns:\n",
    "    rate of underestimation when predictions were incorrect\n",
    "    '''    \n",
    "    fp = sum(np.where((res[obs]==0) & (res[pred]==1),1,0))\n",
    "    fn = sum(np.where((res[obs]==1) & (res[pred]==0),1,0))\n",
    "\n",
    "    return (fn/(fn+fp))"
   ]
  },
  {
   "cell_type": "code",
   "execution_count": 149,
   "metadata": {},
   "outputs": [],
   "source": [
    "def wgt_kappa(y1, y2, weight):\n",
    "    \n",
    "    kappa = metrics.cohen_kappa_score(y1.fillna(0), \n",
    "                                      y2.fillna(0),\n",
    "                                      weights=weight)\n",
    "    return kappa"
   ]
  },
  {
   "cell_type": "markdown",
   "metadata": {},
   "source": [
    "## Primary analysis (ISS>=16, MAIS >=3, MAIS >=2)"
   ]
  },
  {
   "cell_type": "markdown",
   "metadata": {},
   "source": [
    "### Calculate CI for accuracy ISS >=16"
   ]
  },
  {
   "cell_type": "code",
   "execution_count": 30,
   "metadata": {},
   "outputs": [
    {
     "data": {
      "text/plain": [
       "(0.9368, 0.9320308821820382, 0.9415691178179617)"
      ]
     },
     "execution_count": 30,
     "metadata": {},
     "output_type": "execute_result"
    }
   ],
   "source": [
    "acc_nmt = calc_ci(res.iss16_correct_nmt.mean(), 10_000)\n",
    "acc_nmt"
   ]
  },
  {
   "cell_type": "code",
   "execution_count": 31,
   "metadata": {},
   "outputs": [
    {
     "data": {
      "text/plain": [
       "(0.9132, 0.9076817815953335, 0.9187182184046665)"
      ]
     },
     "execution_count": 31,
     "metadata": {},
     "output_type": "execute_result"
    }
   ],
   "source": [
    "acc_map = calc_ci(res.iss16_correct_aaam.mean(), 10_000)\n",
    "acc_map"
   ]
  },
  {
   "cell_type": "code",
   "execution_count": 32,
   "metadata": {},
   "outputs": [
    {
     "data": {
      "text/plain": [
       "(0.8732, 0.8666781236349038, 0.8797218763650961)"
      ]
     },
     "execution_count": 32,
     "metadata": {},
     "output_type": "execute_result"
    }
   ],
   "source": [
    "acc_icdpic = calc_ci(res.iss16_correct_icdpic.mean(), 10_000)\n",
    "acc_icdpic"
   ]
  },
  {
   "cell_type": "markdown",
   "metadata": {},
   "source": [
    "### Calc absolute difference and 95%CI"
   ]
  },
  {
   "cell_type": "code",
   "execution_count": 133,
   "metadata": {},
   "outputs": [
    {
     "data": {
      "text/plain": [
       "(0.023599999999999954, 0.01630649473002174, 0.03089350526997817)"
      ]
     },
     "execution_count": 133,
     "metadata": {},
     "output_type": "execute_result"
    }
   ],
   "source": [
    "calc_diff(0.9132, 10_000, 0.9368, 10_000)"
   ]
  },
  {
   "cell_type": "code",
   "execution_count": 134,
   "metadata": {},
   "outputs": [
    {
     "data": {
      "text/plain": [
       "(0.06359999999999999, 0.05552043589769843, 0.07167956410230156)"
      ]
     },
     "execution_count": 134,
     "metadata": {},
     "output_type": "execute_result"
    }
   ],
   "source": [
    "calc_diff(0.8732, 10_000, 0.9368, 10_000)"
   ]
  },
  {
   "cell_type": "markdown",
   "metadata": {},
   "source": [
    "### Sensitivity and specificity for ISS>=16"
   ]
  },
  {
   "cell_type": "code",
   "execution_count": 38,
   "metadata": {},
   "outputs": [
    {
     "data": {
      "text/plain": [
       "(0.71280276816609, 0.9746347165400351)"
      ]
     },
     "execution_count": 38,
     "metadata": {},
     "output_type": "execute_result"
    }
   ],
   "source": [
    "sens_spec_df(res, 'iss16_obs', 'iss16_nmt')"
   ]
  },
  {
   "cell_type": "code",
   "execution_count": 39,
   "metadata": {},
   "outputs": [
    {
     "data": {
      "text/plain": [
       "(0.4795847750865052, 0.9864406779661017)"
      ]
     },
     "execution_count": 39,
     "metadata": {},
     "output_type": "execute_result"
    }
   ],
   "source": [
    "sens_spec_df(res, 'iss16_obs', 'iss16_aaam')"
   ]
  },
  {
   "cell_type": "code",
   "execution_count": 40,
   "metadata": {},
   "outputs": [
    {
     "data": {
      "text/plain": [
       "(0.5550173010380622, 0.9269433080070134)"
      ]
     },
     "execution_count": 40,
     "metadata": {},
     "output_type": "execute_result"
    }
   ],
   "source": [
    "sens_spec_df(res, 'iss16_obs', 'iss16_icdpic')"
   ]
  },
  {
   "cell_type": "markdown",
   "metadata": {},
   "source": [
    "### Calculate AUC for ISS>=16"
   ]
  },
  {
   "cell_type": "code",
   "execution_count": 56,
   "metadata": {},
   "outputs": [
    {
     "data": {
      "text/plain": [
       "0.9426004744364497"
      ]
     },
     "execution_count": 56,
     "metadata": {},
     "output_type": "execute_result"
    }
   ],
   "source": [
    "auc(res, 'iss16_obs', 'iss_nmt')"
   ]
  },
  {
   "cell_type": "code",
   "execution_count": 57,
   "metadata": {},
   "outputs": [
    {
     "data": {
      "text/plain": [
       "0.9219341974077767"
      ]
     },
     "execution_count": 57,
     "metadata": {},
     "output_type": "execute_result"
    }
   ],
   "source": [
    "auc(res, 'iss16_obs', 'iss_aaam')"
   ]
  },
  {
   "cell_type": "code",
   "execution_count": 58,
   "metadata": {},
   "outputs": [
    {
     "data": {
      "text/plain": [
       "0.8785687562060269"
      ]
     },
     "execution_count": 58,
     "metadata": {},
     "output_type": "execute_result"
    }
   ],
   "source": [
    "auc(res, 'iss16_obs', 'iss_icdpic')"
   ]
  },
  {
   "cell_type": "markdown",
   "metadata": {},
   "source": [
    "### Calculate CI for accuracy MAIS >=3"
   ]
  },
  {
   "cell_type": "code",
   "execution_count": 35,
   "metadata": {},
   "outputs": [
    {
     "data": {
      "text/plain": [
       "(0.9126, 0.9070645616290667, 0.9181354383709333)"
      ]
     },
     "execution_count": 35,
     "metadata": {},
     "output_type": "execute_result"
    }
   ],
   "source": [
    "calc_ci(res.mais3_correct_nmt.mean(), 10_000)"
   ]
  },
  {
   "cell_type": "code",
   "execution_count": 36,
   "metadata": {},
   "outputs": [
    {
     "data": {
      "text/plain": [
       "(0.845, 0.8379066682017545, 0.8520933317982454)"
      ]
     },
     "execution_count": 36,
     "metadata": {},
     "output_type": "execute_result"
    }
   ],
   "source": [
    "calc_ci(res.mais3_correct_aaam.mean(), 10_000)"
   ]
  },
  {
   "cell_type": "code",
   "execution_count": 37,
   "metadata": {},
   "outputs": [
    {
     "data": {
      "text/plain": [
       "(0.688, 0.6789191273018502, 0.6970808726981497)"
      ]
     },
     "execution_count": 37,
     "metadata": {},
     "output_type": "execute_result"
    }
   ],
   "source": [
    "calc_ci(res.mais3_correct_icdpic.mean(), 10_000)"
   ]
  },
  {
   "cell_type": "markdown",
   "metadata": {},
   "source": [
    "### Sensitivity and specificity for MAIS>=3"
   ]
  },
  {
   "cell_type": "code",
   "execution_count": 44,
   "metadata": {},
   "outputs": [
    {
     "data": {
      "text/plain": [
       "(0.820995145631068, 0.9576372315035799)"
      ]
     },
     "execution_count": 44,
     "metadata": {},
     "output_type": "execute_result"
    }
   ],
   "source": [
    "sens_spec_df(res, 'mais3_obs', 'mais3_nmt')"
   ]
  },
  {
   "cell_type": "code",
   "execution_count": 45,
   "metadata": {},
   "outputs": [
    {
     "data": {
      "text/plain": [
       "(0.8413228155339806, 0.8468078758949881)"
      ]
     },
     "execution_count": 45,
     "metadata": {},
     "output_type": "execute_result"
    }
   ],
   "source": [
    "sens_spec_df(res, 'mais3_obs', 'mais3_aaam')"
   ]
  },
  {
   "cell_type": "code",
   "execution_count": 46,
   "metadata": {},
   "outputs": [
    {
     "data": {
      "text/plain": [
       "(0.506371359223301, 0.7772971360381862)"
      ]
     },
     "execution_count": 46,
     "metadata": {},
     "output_type": "execute_result"
    }
   ],
   "source": [
    "sens_spec_df(res, 'mais3_obs', 'mais3_icdpic')"
   ]
  },
  {
   "cell_type": "markdown",
   "metadata": {},
   "source": [
    "### Calculate AUC for MAIS>=3"
   ]
  },
  {
   "cell_type": "code",
   "execution_count": 59,
   "metadata": {},
   "outputs": [
    {
     "data": {
      "text/plain": [
       "0.9213651880778322"
      ]
     },
     "execution_count": 59,
     "metadata": {},
     "output_type": "execute_result"
    }
   ],
   "source": [
    "auc(res, 'mais3_obs', 'mais_nmt')"
   ]
  },
  {
   "cell_type": "code",
   "execution_count": 60,
   "metadata": {},
   "outputs": [
    {
     "data": {
      "text/plain": [
       "0.8556871794045579"
      ]
     },
     "execution_count": 60,
     "metadata": {},
     "output_type": "execute_result"
    }
   ],
   "source": [
    "auc(res, 'mais3_obs', 'mais_aaam')"
   ]
  },
  {
   "cell_type": "code",
   "execution_count": 61,
   "metadata": {},
   "outputs": [
    {
     "data": {
      "text/plain": [
       "0.7184124560833121"
      ]
     },
     "execution_count": 61,
     "metadata": {},
     "output_type": "execute_result"
    }
   ],
   "source": [
    "auc(res, 'mais3_obs', 'mais_icdpic')"
   ]
  },
  {
   "cell_type": "markdown",
   "metadata": {},
   "source": [
    "### Calculate CI for accuracy MAIS >=2"
   ]
  },
  {
   "cell_type": "code",
   "execution_count": 120,
   "metadata": {},
   "outputs": [
    {
     "data": {
      "text/plain": [
       "(0.9564, 0.9523976128115337, 0.9604023871884664)"
      ]
     },
     "execution_count": 120,
     "metadata": {},
     "output_type": "execute_result"
    }
   ],
   "source": [
    "calc_ci(res.mais2_correct_nmt.mean(), 10_000)"
   ]
  },
  {
   "cell_type": "code",
   "execution_count": 121,
   "metadata": {},
   "outputs": [
    {
     "data": {
      "text/plain": [
       "(0.7481, 0.7395915591802963, 0.7566084408197037)"
      ]
     },
     "execution_count": 121,
     "metadata": {},
     "output_type": "execute_result"
    }
   ],
   "source": [
    "calc_ci(res.mais2_correct_aaam.mean(), 10_000)"
   ]
  },
  {
   "cell_type": "code",
   "execution_count": 122,
   "metadata": {},
   "outputs": [
    {
     "data": {
      "text/plain": [
       "(0.7333, 0.7246322091847114, 0.7419677908152885)"
      ]
     },
     "execution_count": 122,
     "metadata": {},
     "output_type": "execute_result"
    }
   ],
   "source": [
    "calc_ci(res.mais2_correct_icdpic.mean(), 10_000)"
   ]
  },
  {
   "cell_type": "markdown",
   "metadata": {},
   "source": [
    "### Sensitivity and specificity for MAIS>=2"
   ]
  },
  {
   "cell_type": "code",
   "execution_count": 112,
   "metadata": {},
   "outputs": [
    {
     "data": {
      "text/plain": [
       "(0.9603509912252194, 0.9500780031201248)"
      ]
     },
     "execution_count": 112,
     "metadata": {},
     "output_type": "execute_result"
    }
   ],
   "source": [
    "sens_spec_df(res, 'mais2_obs', 'mais2_nmt')"
   ]
  },
  {
   "cell_type": "code",
   "execution_count": 113,
   "metadata": {},
   "outputs": [
    {
     "data": {
      "text/plain": [
       "(0.9678258043548911, 0.3965158606344254)"
      ]
     },
     "execution_count": 113,
     "metadata": {},
     "output_type": "execute_result"
    }
   ],
   "source": [
    "sens_spec_df(res, 'mais2_obs', 'mais2_aaam')"
   ]
  },
  {
   "cell_type": "code",
   "execution_count": 114,
   "metadata": {},
   "outputs": [
    {
     "data": {
      "text/plain": [
       "(0.7383815404614885, 0.7251690067602704)"
      ]
     },
     "execution_count": 114,
     "metadata": {},
     "output_type": "execute_result"
    }
   ],
   "source": [
    "sens_spec_df(res, 'mais2_obs', 'mais2_icdpic')"
   ]
  },
  {
   "cell_type": "markdown",
   "metadata": {},
   "source": [
    "### Calculate AUC for MAIS>=2"
   ]
  },
  {
   "cell_type": "code",
   "execution_count": 117,
   "metadata": {},
   "outputs": [
    {
     "data": {
      "text/plain": [
       "0.9562434057323295"
      ]
     },
     "execution_count": 117,
     "metadata": {},
     "output_type": "execute_result"
    }
   ],
   "source": [
    "auc(res, 'mais2_obs', 'mais_nmt')"
   ]
  },
  {
   "cell_type": "code",
   "execution_count": 118,
   "metadata": {},
   "outputs": [
    {
     "data": {
      "text/plain": [
       "0.8536490647146198"
      ]
     },
     "execution_count": 118,
     "metadata": {},
     "output_type": "execute_result"
    }
   ],
   "source": [
    "auc(res, 'mais2_obs', 'mais_aaam')"
   ]
  },
  {
   "cell_type": "code",
   "execution_count": 119,
   "metadata": {},
   "outputs": [
    {
     "data": {
      "text/plain": [
       "0.760875376516523"
      ]
     },
     "execution_count": 119,
     "metadata": {},
     "output_type": "execute_result"
    }
   ],
   "source": [
    "auc(res, 'mais2_obs', 'mais_icdpic')"
   ]
  },
  {
   "cell_type": "markdown",
   "metadata": {},
   "source": [
    "## Exact accuracy for ISS"
   ]
  },
  {
   "cell_type": "markdown",
   "metadata": {},
   "source": [
    "### Accuracy"
   ]
  },
  {
   "cell_type": "code",
   "execution_count": 14,
   "metadata": {},
   "outputs": [
    {
     "data": {
      "text/plain": [
       "(0.7779, 0.769753102798341, 0.7860468972016591)"
      ]
     },
     "execution_count": 14,
     "metadata": {},
     "output_type": "execute_result"
    }
   ],
   "source": [
    "calc_ci(res.iss_correct_nmt.mean(), 10_000)"
   ]
  },
  {
   "cell_type": "code",
   "execution_count": 15,
   "metadata": {},
   "outputs": [
    {
     "data": {
      "text/plain": [
       "(0.6894, 0.6803303101385769, 0.6984696898614231)"
      ]
     },
     "execution_count": 15,
     "metadata": {},
     "output_type": "execute_result"
    }
   ],
   "source": [
    "calc_ci(res.iss_correct_aaam.mean(), 10_000)"
   ]
  },
  {
   "cell_type": "code",
   "execution_count": 16,
   "metadata": {},
   "outputs": [
    {
     "data": {
      "text/plain": [
       "(0.1772, 0.16971597772146554, 0.18468402227853445)"
      ]
     },
     "execution_count": 16,
     "metadata": {},
     "output_type": "execute_result"
    }
   ],
   "source": [
    "calc_ci(res.iss_correct_icdpic.mean(), 10_000)"
   ]
  },
  {
   "cell_type": "markdown",
   "metadata": {},
   "source": [
    "### Weight kappa"
   ]
  },
  {
   "cell_type": "code",
   "execution_count": 158,
   "metadata": {},
   "outputs": [
    {
     "data": {
      "text/plain": [
       "0.881142395581045"
      ]
     },
     "execution_count": 158,
     "metadata": {},
     "output_type": "execute_result"
    }
   ],
   "source": [
    "wgt_kappa(res.iss_obs, res.iss_nmt, 'quadratic')"
   ]
  },
  {
   "cell_type": "code",
   "execution_count": 160,
   "metadata": {},
   "outputs": [
    {
     "data": {
      "text/plain": [
       "0.7736235564871178"
      ]
     },
     "execution_count": 160,
     "metadata": {},
     "output_type": "execute_result"
    }
   ],
   "source": [
    "wgt_kappa(res.iss_obs, res.iss_aaam, 'quadratic')"
   ]
  },
  {
   "cell_type": "code",
   "execution_count": 159,
   "metadata": {},
   "outputs": [
    {
     "data": {
      "text/plain": [
       "0.632039842725689"
      ]
     },
     "execution_count": 159,
     "metadata": {},
     "output_type": "execute_result"
    }
   ],
   "source": [
    "wgt_kappa(res.iss_obs, res.iss_icdpic, 'quadratic')"
   ]
  },
  {
   "cell_type": "markdown",
   "metadata": {},
   "source": [
    "### Calibration plot"
   ]
  },
  {
   "cell_type": "code",
   "execution_count": 128,
   "metadata": {},
   "outputs": [
    {
     "data": {
      "text/plain": [
       "<AxesSubplot:xlabel='Observed ISS', ylabel='Predicted ISS(NMT)'>"
      ]
     },
     "execution_count": 128,
     "metadata": {},
     "output_type": "execute_result"
    },
    {
     "data": {
      "image/png": "[encoded data removed]",
      "text/plain": [
       "<Figure size 432x288 with 2 Axes>"
      ]
     },
     "metadata": {
      "needs_background": "light"
     },
     "output_type": "display_data"
    }
   ],
   "source": [
    "heatmap_df(res, 'iss_obs', 'iss_nmt', 45, 'Observed ISS', 'Predicted ISS(NMT)')"
   ]
  },
  {
   "cell_type": "code",
   "execution_count": 129,
   "metadata": {},
   "outputs": [
    {
     "data": {
      "text/plain": [
       "<AxesSubplot:xlabel='Observed ISS', ylabel='Predicted ISS(ICD-to-AIS Map)'>"
      ]
     },
     "execution_count": 129,
     "metadata": {},
     "output_type": "execute_result"
    },
    {
     "data": {
      "image/png": "[encoded data removed]",
      "text/plain": [
       "<Figure size 432x288 with 2 Axes>"
      ]
     },
     "metadata": {
      "needs_background": "light"
     },
     "output_type": "display_data"
    }
   ],
   "source": [
    "heatmap_df(res, 'iss_obs', 'iss_aaam', 45, 'Observed ISS', 'Predicted ISS(ICD-to-AIS Map)')"
   ]
  },
  {
   "cell_type": "code",
   "execution_count": 130,
   "metadata": {},
   "outputs": [
    {
     "data": {
      "text/plain": [
       "<AxesSubplot:xlabel='Observed ISS', ylabel='Predicted ISS(ICDPIC-R)'>"
      ]
     },
     "execution_count": 130,
     "metadata": {},
     "output_type": "execute_result"
    },
    {
     "data": {
      "image/png": "[encoded data removed]",
      "text/plain": [
       "<Figure size 432x288 with 2 Axes>"
      ]
     },
     "metadata": {
      "needs_background": "light"
     },
     "output_type": "display_data"
    }
   ],
   "source": [
    "heatmap_df(res, 'iss_obs', 'iss_icdpic', 45, 'Observed ISS', 'Predicted ISS(ICDPIC-R)')"
   ]
  },
  {
   "cell_type": "code",
   "execution_count": null,
   "metadata": {},
   "outputs": [],
   "source": []
  },
  {
   "cell_type": "code",
   "execution_count": 68,
   "metadata": {},
   "outputs": [
    {
     "data": {
      "text/plain": [
       "<AxesSubplot:xlabel='iss_obs', ylabel='iss_nmt'>"
      ]
     },
     "execution_count": 68,
     "metadata": {},
     "output_type": "execute_result"
    },
    {
     "data": {
      "image/png": "[encoded data removed]",
      "text/plain": [
       "<Figure size 432x288 with 1 Axes>"
      ]
     },
     "metadata": {
      "needs_background": "light"
     },
     "output_type": "display_data"
    }
   ],
   "source": [
    "res.plot.scatter(x='iss_obs',y='iss_nmt', alpha=0.01, s=40)\n",
    "#plt.xlim(1,45)\n",
    "#plt.ylim(1,45)"
   ]
  },
  {
   "cell_type": "code",
   "execution_count": 69,
   "metadata": {},
   "outputs": [
    {
     "data": {
      "text/plain": [
       "<AxesSubplot:xlabel='iss_obs', ylabel='iss_aaam'>"
      ]
     },
     "execution_count": 69,
     "metadata": {},
     "output_type": "execute_result"
    },
    {
     "data": {
      "image/png": "[encoded data removed]",
      "text/plain": [
       "<Figure size 432x288 with 1 Axes>"
      ]
     },
     "metadata": {
      "needs_background": "light"
     },
     "output_type": "display_data"
    }
   ],
   "source": [
    "res.plot.scatter(x='iss_obs',y='iss_aaam', alpha=0.01, s=40)\n",
    "#plt.xlim(1,45)\n",
    "#plt.ylim(1,45)"
   ]
  },
  {
   "cell_type": "code",
   "execution_count": 70,
   "metadata": {},
   "outputs": [
    {
     "data": {
      "text/plain": [
       "<AxesSubplot:xlabel='iss_obs', ylabel='iss_icdpic'>"
      ]
     },
     "execution_count": 70,
     "metadata": {},
     "output_type": "execute_result"
    },
    {
     "data": {
      "image/png": "[encoded data removed]",
      "text/plain": [
       "<Figure size 432x288 with 1 Axes>"
      ]
     },
     "metadata": {
      "needs_background": "light"
     },
     "output_type": "display_data"
    }
   ],
   "source": [
    "res.plot.scatter(x='iss_obs',y='iss_icdpic', alpha=0.01, s=40)\n",
    "#plt.xlim(1,45)\n",
    "#plt.ylim(1,45)"
   ]
  },
  {
   "cell_type": "markdown",
   "metadata": {},
   "source": [
    "## Population injury rates"
   ]
  },
  {
   "cell_type": "markdown",
   "metadata": {},
   "source": [
    "### Population ISS>=16 estimate"
   ]
  },
  {
   "cell_type": "code",
   "execution_count": 17,
   "metadata": {},
   "outputs": [
    {
     "data": {
      "text/plain": [
       "0.1445"
      ]
     },
     "execution_count": 17,
     "metadata": {},
     "output_type": "execute_result"
    }
   ],
   "source": [
    "res.iss16_obs.mean()"
   ]
  },
  {
   "cell_type": "code",
   "execution_count": 18,
   "metadata": {},
   "outputs": [
    {
     "data": {
      "text/plain": [
       "0.1247"
      ]
     },
     "execution_count": 18,
     "metadata": {},
     "output_type": "execute_result"
    }
   ],
   "source": [
    "res.iss16_nmt.mean()"
   ]
  },
  {
   "cell_type": "code",
   "execution_count": 19,
   "metadata": {},
   "outputs": [
    {
     "data": {
      "text/plain": [
       "0.0809"
      ]
     },
     "execution_count": 19,
     "metadata": {},
     "output_type": "execute_result"
    }
   ],
   "source": [
    "res.iss16_aaam.mean()"
   ]
  },
  {
   "cell_type": "code",
   "execution_count": 20,
   "metadata": {},
   "outputs": [
    {
     "data": {
      "text/plain": [
       "0.1427"
      ]
     },
     "execution_count": 20,
     "metadata": {},
     "output_type": "execute_result"
    }
   ],
   "source": [
    "res.iss16_icdpic.mean()"
   ]
  },
  {
   "cell_type": "code",
   "execution_count": 21,
   "metadata": {},
   "outputs": [
    {
     "data": {
      "text/plain": [
       "0.1370242214532871"
      ]
     },
     "execution_count": 21,
     "metadata": {},
     "output_type": "execute_result"
    }
   ],
   "source": [
    "(0.1445-0.1247)/0.1445"
   ]
  },
  {
   "cell_type": "markdown",
   "metadata": {},
   "source": [
    "### Population MAIS>=3 estimate"
   ]
  },
  {
   "cell_type": "code",
   "execution_count": 22,
   "metadata": {},
   "outputs": [
    {
     "data": {
      "text/plain": [
       "0.3296"
      ]
     },
     "execution_count": 22,
     "metadata": {},
     "output_type": "execute_result"
    }
   ],
   "source": [
    "res.mais3_obs.mean()"
   ]
  },
  {
   "cell_type": "code",
   "execution_count": 23,
   "metadata": {},
   "outputs": [
    {
     "data": {
      "text/plain": [
       "0.299"
      ]
     },
     "execution_count": 23,
     "metadata": {},
     "output_type": "execute_result"
    }
   ],
   "source": [
    "res.mais3_nmt.mean()"
   ]
  },
  {
   "cell_type": "code",
   "execution_count": 24,
   "metadata": {},
   "outputs": [
    {
     "data": {
      "text/plain": [
       "0.38"
      ]
     },
     "execution_count": 24,
     "metadata": {},
     "output_type": "execute_result"
    }
   ],
   "source": [
    "res.mais3_aaam.mean()"
   ]
  },
  {
   "cell_type": "code",
   "execution_count": 25,
   "metadata": {},
   "outputs": [
    {
     "data": {
      "text/plain": [
       "0.3162"
      ]
     },
     "execution_count": 25,
     "metadata": {},
     "output_type": "execute_result"
    }
   ],
   "source": [
    "res.mais3_icdpic.mean()"
   ]
  },
  {
   "cell_type": "markdown",
   "metadata": {},
   "source": [
    "### Population MAIS>=2 estimate"
   ]
  },
  {
   "cell_type": "code",
   "execution_count": 26,
   "metadata": {},
   "outputs": [
    {
     "data": {
      "text/plain": [
       "0.6154"
      ]
     },
     "execution_count": 26,
     "metadata": {},
     "output_type": "execute_result"
    }
   ],
   "source": [
    "res.mais2_obs.mean()"
   ]
  },
  {
   "cell_type": "code",
   "execution_count": 27,
   "metadata": {},
   "outputs": [
    {
     "data": {
      "text/plain": [
       "0.6102"
      ]
     },
     "execution_count": 27,
     "metadata": {},
     "output_type": "execute_result"
    }
   ],
   "source": [
    "res.mais2_nmt.mean()"
   ]
  },
  {
   "cell_type": "code",
   "execution_count": 28,
   "metadata": {},
   "outputs": [
    {
     "data": {
      "text/plain": [
       "0.8277"
      ]
     },
     "execution_count": 28,
     "metadata": {},
     "output_type": "execute_result"
    }
   ],
   "source": [
    "res.mais2_aaam.mean()"
   ]
  },
  {
   "cell_type": "code",
   "execution_count": 29,
   "metadata": {},
   "outputs": [
    {
     "data": {
      "text/plain": [
       "0.5601"
      ]
     },
     "execution_count": 29,
     "metadata": {},
     "output_type": "execute_result"
    }
   ],
   "source": [
    "res.mais2_icdpic.mean()"
   ]
  },
  {
   "cell_type": "markdown",
   "metadata": {},
   "source": [
    "## Subpopulation analaysis"
   ]
  },
  {
   "cell_type": "code",
   "execution_count": 71,
   "metadata": {},
   "outputs": [],
   "source": [
    "male_keys = demo[demo.SEX==1.0].inc_key.values"
   ]
  },
  {
   "cell_type": "code",
   "execution_count": 72,
   "metadata": {},
   "outputs": [],
   "source": [
    "young_keys = demo[demo.AGEYEARS<18].inc_key.values\n",
    "midage_keys = demo[(demo.AGEYEARS>=18) & (demo.AGEYEARS<65)].inc_key.values\n",
    "old_keys = demo[demo.AGEYEARS>=65].inc_key.values"
   ]
  },
  {
   "cell_type": "code",
   "execution_count": 73,
   "metadata": {},
   "outputs": [],
   "source": [
    "low_keys = res[res.iss16_obs==0].inc_key.values\n",
    "high_keys = res[res.iss16_obs==1].inc_key.values"
   ]
  },
  {
   "cell_type": "code",
   "execution_count": 74,
   "metadata": {},
   "outputs": [
    {
     "data": {
      "text/plain": [
       "3184"
      ]
     },
     "execution_count": 74,
     "metadata": {},
     "output_type": "execute_result"
    }
   ],
   "source": [
    "len(old_keys)"
   ]
  },
  {
   "cell_type": "markdown",
   "metadata": {},
   "source": [
    "### Males vs Females - accuracy ISS >=16"
   ]
  },
  {
   "cell_type": "markdown",
   "metadata": {},
   "source": [
    "#### Males vs Females - NMT"
   ]
  },
  {
   "cell_type": "code",
   "execution_count": 75,
   "metadata": {},
   "outputs": [
    {
     "data": {
      "text/plain": [
       "(0.9275137741046832, 0.9224316648251843, 0.932595883384182)"
      ]
     },
     "execution_count": 75,
     "metadata": {},
     "output_type": "execute_result"
    }
   ],
   "source": [
    "calc_ci(res[res.inc_key.isin(male_keys)].iss16_correct_nmt.mean(), 10_000)"
   ]
  },
  {
   "cell_type": "code",
   "execution_count": 76,
   "metadata": {},
   "outputs": [
    {
     "data": {
      "text/plain": [
       "(0.9496660305343512, 0.9453808204938264, 0.9539512405748759)"
      ]
     },
     "execution_count": 76,
     "metadata": {},
     "output_type": "execute_result"
    }
   ],
   "source": [
    "calc_ci(res[~res.inc_key.isin(male_keys)].iss16_correct_nmt.mean(), 10_000)"
   ]
  },
  {
   "cell_type": "markdown",
   "metadata": {},
   "source": [
    "#### Males vs Females - AAAM"
   ]
  },
  {
   "cell_type": "code",
   "execution_count": 77,
   "metadata": {},
   "outputs": [
    {
     "data": {
      "text/plain": [
       "(0.9030647382920111, 0.8972656942465681, 0.908863782337454)"
      ]
     },
     "execution_count": 77,
     "metadata": {},
     "output_type": "execute_result"
    }
   ],
   "source": [
    "calc_ci(res[res.inc_key.isin(male_keys)].iss16_correct_aaam.mean(), 10_000)"
   ]
  },
  {
   "cell_type": "code",
   "execution_count": 78,
   "metadata": {},
   "outputs": [
    {
     "data": {
      "text/plain": [
       "(0.9272423664122137, 0.9221514966431887, 0.9323332361812386)"
      ]
     },
     "execution_count": 78,
     "metadata": {},
     "output_type": "execute_result"
    }
   ],
   "source": [
    "calc_ci(res[~res.inc_key.isin(male_keys)].iss16_correct_aaam.mean(), 10_000)"
   ]
  },
  {
   "cell_type": "markdown",
   "metadata": {},
   "source": [
    "#### Males vs Females - ICDPIC-R"
   ]
  },
  {
   "cell_type": "code",
   "execution_count": 79,
   "metadata": {},
   "outputs": [
    {
     "data": {
      "text/plain": [
       "(0.8605371900826446, 0.8537471850058146, 0.8673271951594747)"
      ]
     },
     "execution_count": 79,
     "metadata": {},
     "output_type": "execute_result"
    }
   ],
   "source": [
    "calc_ci(res[res.inc_key.isin(male_keys)].iss16_correct_icdpic.mean(), 10_000)"
   ]
  },
  {
   "cell_type": "code",
   "execution_count": 80,
   "metadata": {},
   "outputs": [
    {
     "data": {
      "text/plain": [
       "(0.8907442748091603, 0.8846298628897558, 0.8968586867285648)"
      ]
     },
     "execution_count": 80,
     "metadata": {},
     "output_type": "execute_result"
    }
   ],
   "source": [
    "calc_ci(res[~res.inc_key.isin(male_keys)].iss16_correct_icdpic.mean(), 10_000)"
   ]
  },
  {
   "cell_type": "markdown",
   "metadata": {},
   "source": [
    "### Males vs Females - accuracy MAIS >= 3"
   ]
  },
  {
   "cell_type": "markdown",
   "metadata": {},
   "source": [
    "#### Males vs Females - NMT"
   ]
  },
  {
   "cell_type": "code",
   "execution_count": 161,
   "metadata": {},
   "outputs": [
    {
     "data": {
      "text/plain": [
       "(0.90616391184573, 0.9004485412017107, 0.9118792824897493)"
      ]
     },
     "execution_count": 161,
     "metadata": {},
     "output_type": "execute_result"
    }
   ],
   "source": [
    "calc_ci(res[res.inc_key.isin(male_keys)].mais3_correct_nmt.mean(), 10_000)"
   ]
  },
  {
   "cell_type": "code",
   "execution_count": 162,
   "metadata": {},
   "outputs": [
    {
     "data": {
      "text/plain": [
       "(0.9215171755725191, 0.9162461502765165, 0.9267882008685218)"
      ]
     },
     "execution_count": 162,
     "metadata": {},
     "output_type": "execute_result"
    }
   ],
   "source": [
    "calc_ci(res[~res.inc_key.isin(male_keys)].mais3_correct_nmt.mean(), 10_000)"
   ]
  },
  {
   "cell_type": "markdown",
   "metadata": {},
   "source": [
    "#### Males vs Females - AAAM"
   ]
  },
  {
   "cell_type": "code",
   "execution_count": 163,
   "metadata": {},
   "outputs": [
    {
     "data": {
      "text/plain": [
       "(0.8300619834710744, 0.8227006480699591, 0.8374233188721897)"
      ]
     },
     "execution_count": 163,
     "metadata": {},
     "output_type": "execute_result"
    }
   ],
   "source": [
    "calc_ci(res[res.inc_key.isin(male_keys)].mais3_correct_aaam.mean(), 10_000)"
   ]
  },
  {
   "cell_type": "code",
   "execution_count": 164,
   "metadata": {},
   "outputs": [
    {
     "data": {
      "text/plain": [
       "(0.8656965648854962, 0.8590133953397587, 0.8723797344312336)"
      ]
     },
     "execution_count": 164,
     "metadata": {},
     "output_type": "execute_result"
    }
   ],
   "source": [
    "calc_ci(res[~res.inc_key.isin(male_keys)].mais3_correct_aaam.mean(), 10_000)"
   ]
  },
  {
   "cell_type": "markdown",
   "metadata": {},
   "source": [
    "#### Males vs Females - ICDPIC-R"
   ]
  },
  {
   "cell_type": "code",
   "execution_count": 165,
   "metadata": {},
   "outputs": [
    {
     "data": {
      "text/plain": [
       "(0.6967975206611571, 0.6877885381498742, 0.70580650317244)"
      ]
     },
     "execution_count": 165,
     "metadata": {},
     "output_type": "execute_result"
    }
   ],
   "source": [
    "calc_ci(res[res.inc_key.isin(male_keys)].mais3_correct_icdpic.mean(), 10_000)"
   ]
  },
  {
   "cell_type": "code",
   "execution_count": 166,
   "metadata": {},
   "outputs": [
    {
     "data": {
      "text/plain": [
       "(0.6758110687022901, 0.6666368769540403, 0.68498526045054)"
      ]
     },
     "execution_count": 166,
     "metadata": {},
     "output_type": "execute_result"
    }
   ],
   "source": [
    "calc_ci(res[~res.inc_key.isin(male_keys)].mais3_correct_icdpic.mean(), 10_000)"
   ]
  },
  {
   "cell_type": "markdown",
   "metadata": {},
   "source": [
    "### Males vs Females - accuracy MAIS >= 2"
   ]
  },
  {
   "cell_type": "markdown",
   "metadata": {},
   "source": [
    "#### Males vs Females - NMT"
   ]
  },
  {
   "cell_type": "code",
   "execution_count": 167,
   "metadata": {},
   "outputs": [
    {
     "data": {
      "text/plain": [
       "(0.9545454545454546, 0.9504627961990394, 0.9586281128918698)"
      ]
     },
     "execution_count": 167,
     "metadata": {},
     "output_type": "execute_result"
    }
   ],
   "source": [
    "calc_ci(res[res.inc_key.isin(male_keys)].mais2_correct_nmt.mean(), 10_000)"
   ]
  },
  {
   "cell_type": "code",
   "execution_count": 168,
   "metadata": {},
   "outputs": [
    {
     "data": {
      "text/plain": [
       "(0.958969465648855, 0.9550815928510508, 0.9628573384466592)"
      ]
     },
     "execution_count": 168,
     "metadata": {},
     "output_type": "execute_result"
    }
   ],
   "source": [
    "calc_ci(res[~res.inc_key.isin(male_keys)].mais2_correct_nmt.mean(), 10_000)"
   ]
  },
  {
   "cell_type": "markdown",
   "metadata": {},
   "source": [
    "#### Males vs Females - AAAM"
   ]
  },
  {
   "cell_type": "code",
   "execution_count": 169,
   "metadata": {},
   "outputs": [
    {
     "data": {
      "text/plain": [
       "(0.774965564738292, 0.7667805066870597, 0.7831506227895244)"
      ]
     },
     "execution_count": 169,
     "metadata": {},
     "output_type": "execute_result"
    }
   ],
   "source": [
    "calc_ci(res[res.inc_key.isin(male_keys)].mais2_correct_aaam.mean(), 10_000)"
   ]
  },
  {
   "cell_type": "code",
   "execution_count": 170,
   "metadata": {},
   "outputs": [
    {
     "data": {
      "text/plain": [
       "(0.7108778625954199, 0.7019921095447139, 0.7197636156461258)"
      ]
     },
     "execution_count": 170,
     "metadata": {},
     "output_type": "execute_result"
    }
   ],
   "source": [
    "calc_ci(res[~res.inc_key.isin(male_keys)].mais2_correct_aaam.mean(), 10_000)"
   ]
  },
  {
   "cell_type": "markdown",
   "metadata": {},
   "source": [
    "#### Males vs Females - ICDPIC-R"
   ]
  },
  {
   "cell_type": "code",
   "execution_count": 171,
   "metadata": {},
   "outputs": [
    {
     "data": {
      "text/plain": [
       "(0.7212465564738292, 0.7124581918299826, 0.7300349211176758)"
      ]
     },
     "execution_count": 171,
     "metadata": {},
     "output_type": "execute_result"
    }
   ],
   "source": [
    "calc_ci(res[res.inc_key.isin(male_keys)].mais2_correct_icdpic.mean(), 10_000)"
   ]
  },
  {
   "cell_type": "code",
   "execution_count": 172,
   "metadata": {},
   "outputs": [
    {
     "data": {
      "text/plain": [
       "(0.75, 0.7415129510429125, 0.7584870489570875)"
      ]
     },
     "execution_count": 172,
     "metadata": {},
     "output_type": "execute_result"
    }
   ],
   "source": [
    "calc_ci(res[~res.inc_key.isin(male_keys)].mais2_correct_icdpic.mean(), 10_000)"
   ]
  },
  {
   "cell_type": "markdown",
   "metadata": {},
   "source": [
    "### Age - accuracy ISS >=16"
   ]
  },
  {
   "cell_type": "markdown",
   "metadata": {},
   "source": [
    "####  NMT"
   ]
  },
  {
   "cell_type": "code",
   "execution_count": 86,
   "metadata": {},
   "outputs": [
    {
     "data": {
      "text/plain": [
       "(0.9551543389633081, 0.9510978241821174, 0.9592108537444989)"
      ]
     },
     "execution_count": 86,
     "metadata": {},
     "output_type": "execute_result"
    }
   ],
   "source": [
    "calc_ci(res[res.inc_key.isin(young_keys)].iss16_correct_nmt.mean(), 10_000)"
   ]
  },
  {
   "cell_type": "code",
   "execution_count": 87,
   "metadata": {},
   "outputs": [
    {
     "data": {
      "text/plain": [
       "(0.9393998823298686, 0.9347234133726522, 0.944076351287085)"
      ]
     },
     "execution_count": 87,
     "metadata": {},
     "output_type": "execute_result"
    }
   ],
   "source": [
    "calc_ci(res[res.inc_key.isin(midage_keys)].iss16_correct_nmt.mean(), 10_000)"
   ]
  },
  {
   "cell_type": "code",
   "execution_count": 88,
   "metadata": {},
   "outputs": [
    {
     "data": {
      "text/plain": [
       "(0.9227386934673367, 0.9175053834645746, 0.9279720034700989)"
      ]
     },
     "execution_count": 88,
     "metadata": {},
     "output_type": "execute_result"
    }
   ],
   "source": [
    "calc_ci(res[res.inc_key.isin(old_keys)].iss16_correct_nmt.mean(), 10_000)"
   ]
  },
  {
   "cell_type": "markdown",
   "metadata": {},
   "source": [
    "#### AAAM"
   ]
  },
  {
   "cell_type": "code",
   "execution_count": 89,
   "metadata": {},
   "outputs": [
    {
     "data": {
      "text/plain": [
       "(0.9330227140361095, 0.9281230539460501, 0.9379223741261689)"
      ]
     },
     "execution_count": 89,
     "metadata": {},
     "output_type": "execute_result"
    }
   ],
   "source": [
    "calc_ci(res[res.inc_key.isin(young_keys)].iss16_correct_aaam.mean(), 10_000)"
   ]
  },
  {
   "cell_type": "code",
   "execution_count": 90,
   "metadata": {},
   "outputs": [
    {
     "data": {
      "text/plain": [
       "(0.9146891547362228, 0.9092140181385344, 0.9201642913339112)"
      ]
     },
     "execution_count": 90,
     "metadata": {},
     "output_type": "execute_result"
    }
   ],
   "source": [
    "calc_ci(res[res.inc_key.isin(midage_keys)].iss16_correct_aaam.mean(), 10_000)"
   ]
  },
  {
   "cell_type": "code",
   "execution_count": 91,
   "metadata": {},
   "outputs": [
    {
     "data": {
      "text/plain": [
       "(0.9001256281407035, 0.8942489126556902, 0.9060023436257169)"
      ]
     },
     "execution_count": 91,
     "metadata": {},
     "output_type": "execute_result"
    }
   ],
   "source": [
    "calc_ci(res[res.inc_key.isin(old_keys)].iss16_correct_aaam.mean(), 10_000)"
   ]
  },
  {
   "cell_type": "markdown",
   "metadata": {},
   "source": [
    "#### ICDPIC-R"
   ]
  },
  {
   "cell_type": "code",
   "execution_count": 92,
   "metadata": {},
   "outputs": [
    {
     "data": {
      "text/plain": [
       "(0.9085614443797321, 0.9029121019281485, 0.9142107868313156)"
      ]
     },
     "execution_count": 92,
     "metadata": {},
     "output_type": "execute_result"
    }
   ],
   "source": [
    "calc_ci(res[res.inc_key.isin(young_keys)].iss16_correct_icdpic.mean(), 10_000)"
   ]
  },
  {
   "cell_type": "code",
   "execution_count": 93,
   "metadata": {},
   "outputs": [
    {
     "data": {
      "text/plain": [
       "(0.8609531280643263, 0.8541716175864846, 0.867734638542168)"
      ]
     },
     "execution_count": 93,
     "metadata": {},
     "output_type": "execute_result"
    }
   ],
   "source": [
    "calc_ci(res[res.inc_key.isin(midage_keys)].iss16_correct_icdpic.mean(), 10_000)"
   ]
  },
  {
   "cell_type": "code",
   "execution_count": 94,
   "metadata": {},
   "outputs": [
    {
     "data": {
      "text/plain": [
       "(0.8737437185929648, 0.8672338143309059, 0.8802536228550238)"
      ]
     },
     "execution_count": 94,
     "metadata": {},
     "output_type": "execute_result"
    }
   ],
   "source": [
    "calc_ci(res[res.inc_key.isin(old_keys)].iss16_correct_icdpic.mean(), 10_000)"
   ]
  },
  {
   "cell_type": "markdown",
   "metadata": {},
   "source": [
    "### Age - accuracy MAIS >=3"
   ]
  },
  {
   "cell_type": "markdown",
   "metadata": {},
   "source": [
    "####  NMT"
   ]
  },
  {
   "cell_type": "code",
   "execution_count": 173,
   "metadata": {},
   "outputs": [
    {
     "data": {
      "text/plain": [
       "(0.9370995923121724, 0.9323410309277592, 0.9418581536965857)"
      ]
     },
     "execution_count": 173,
     "metadata": {},
     "output_type": "execute_result"
    }
   ],
   "source": [
    "calc_ci(res[res.inc_key.isin(young_keys)].mais3_correct_nmt.mean(), 10_000)"
   ]
  },
  {
   "cell_type": "code",
   "execution_count": 174,
   "metadata": {},
   "outputs": [
    {
     "data": {
      "text/plain": [
       "(0.912924102765248, 0.9073979563533101, 0.918450249177186)"
      ]
     },
     "execution_count": 174,
     "metadata": {},
     "output_type": "execute_result"
    }
   ],
   "source": [
    "calc_ci(res[res.inc_key.isin(midage_keys)].mais3_correct_nmt.mean(), 10_000)"
   ]
  },
  {
   "cell_type": "code",
   "execution_count": 175,
   "metadata": {},
   "outputs": [
    {
     "data": {
      "text/plain": [
       "(0.8988693467336684, 0.8929599144169563, 0.9047787790503804)"
      ]
     },
     "execution_count": 175,
     "metadata": {},
     "output_type": "execute_result"
    }
   ],
   "source": [
    "calc_ci(res[res.inc_key.isin(old_keys)].mais3_correct_nmt.mean(), 10_000)"
   ]
  },
  {
   "cell_type": "markdown",
   "metadata": {},
   "source": [
    "#### AAAM"
   ]
  },
  {
   "cell_type": "code",
   "execution_count": 176,
   "metadata": {},
   "outputs": [
    {
     "data": {
      "text/plain": [
       "(0.8666278392545137, 0.8599642996547149, 0.8732913788543125)"
      ]
     },
     "execution_count": 176,
     "metadata": {},
     "output_type": "execute_result"
    }
   ],
   "source": [
    "calc_ci(res[res.inc_key.isin(young_keys)].mais3_correct_aaam.mean(), 10_000)"
   ]
  },
  {
   "cell_type": "code",
   "execution_count": 177,
   "metadata": {},
   "outputs": [
    {
     "data": {
      "text/plain": [
       "(0.8376152186703275, 0.8303866715979775, 0.8448437657426775)"
      ]
     },
     "execution_count": 177,
     "metadata": {},
     "output_type": "execute_result"
    }
   ],
   "source": [
    "calc_ci(res[res.inc_key.isin(midage_keys)].mais3_correct_aaam.mean(), 10_000)"
   ]
  },
  {
   "cell_type": "code",
   "execution_count": 178,
   "metadata": {},
   "outputs": [
    {
     "data": {
      "text/plain": [
       "(0.8451633165829145, 0.8380730376489369, 0.8522535955168922)"
      ]
     },
     "execution_count": 178,
     "metadata": {},
     "output_type": "execute_result"
    }
   ],
   "source": [
    "calc_ci(res[res.inc_key.isin(old_keys)].mais3_correct_aaam.mean(), 10_000)"
   ]
  },
  {
   "cell_type": "markdown",
   "metadata": {},
   "source": [
    "#### ICDPIC-R"
   ]
  },
  {
   "cell_type": "code",
   "execution_count": 179,
   "metadata": {},
   "outputs": [
    {
     "data": {
      "text/plain": [
       "(0.7198602213162493, 0.7110585012945105, 0.728661941337988)"
      ]
     },
     "execution_count": 179,
     "metadata": {},
     "output_type": "execute_result"
    }
   ],
   "source": [
    "calc_ci(res[res.inc_key.isin(young_keys)].mais3_correct_icdpic.mean(), 10_000)"
   ]
  },
  {
   "cell_type": "code",
   "execution_count": 180,
   "metadata": {},
   "outputs": [
    {
     "data": {
      "text/plain": [
       "(0.7156305157874093, 0.7067886892153243, 0.7244723423594943)"
      ]
     },
     "execution_count": 180,
     "metadata": {},
     "output_type": "execute_result"
    }
   ],
   "source": [
    "calc_ci(res[res.inc_key.isin(midage_keys)].mais3_correct_icdpic.mean(), 10_000)"
   ]
  },
  {
   "cell_type": "code",
   "execution_count": 181,
   "metadata": {},
   "outputs": [
    {
     "data": {
      "text/plain": [
       "(0.6265703517587939, 0.6170895429284915, 0.6360511605890964)"
      ]
     },
     "execution_count": 181,
     "metadata": {},
     "output_type": "execute_result"
    }
   ],
   "source": [
    "calc_ci(res[res.inc_key.isin(old_keys)].mais3_correct_icdpic.mean(), 10_000)"
   ]
  },
  {
   "cell_type": "markdown",
   "metadata": {},
   "source": [
    "### Age - accuracy MAIS >=2"
   ]
  },
  {
   "cell_type": "markdown",
   "metadata": {},
   "source": [
    "####  NMT"
   ]
  },
  {
   "cell_type": "code",
   "execution_count": 182,
   "metadata": {},
   "outputs": [
    {
     "data": {
      "text/plain": [
       "(0.9644729178800233, 0.9608448044210919, 0.9681010313389548)"
      ]
     },
     "execution_count": 182,
     "metadata": {},
     "output_type": "execute_result"
    }
   ],
   "source": [
    "calc_ci(res[res.inc_key.isin(young_keys)].mais2_correct_nmt.mean(), 10_000)"
   ]
  },
  {
   "cell_type": "code",
   "execution_count": 183,
   "metadata": {},
   "outputs": [
    {
     "data": {
      "text/plain": [
       "(0.9501863110413806, 0.9459221381156632, 0.9544504839670981)"
      ]
     },
     "execution_count": 183,
     "metadata": {},
     "output_type": "execute_result"
    }
   ],
   "source": [
    "calc_ci(res[res.inc_key.isin(midage_keys)].mais2_correct_nmt.mean(), 10_000)"
   ]
  },
  {
   "cell_type": "code",
   "execution_count": 184,
   "metadata": {},
   "outputs": [
    {
     "data": {
      "text/plain": [
       "(0.9619974874371859, 0.958249922250759, 0.9657450526236129)"
      ]
     },
     "execution_count": 184,
     "metadata": {},
     "output_type": "execute_result"
    }
   ],
   "source": [
    "calc_ci(res[res.inc_key.isin(old_keys)].mais2_correct_nmt.mean(), 10_000)"
   ]
  },
  {
   "cell_type": "markdown",
   "metadata": {},
   "source": [
    "#### AAAM"
   ]
  },
  {
   "cell_type": "code",
   "execution_count": 185,
   "metadata": {},
   "outputs": [
    {
     "data": {
      "text/plain": [
       "(0.6907396622015143, 0.6816807639602218, 0.6997985604428067)"
      ]
     },
     "execution_count": 185,
     "metadata": {},
     "output_type": "execute_result"
    }
   ],
   "source": [
    "calc_ci(res[res.inc_key.isin(young_keys)].mais2_correct_aaam.mean(), 10_000)"
   ]
  },
  {
   "cell_type": "code",
   "execution_count": 186,
   "metadata": {},
   "outputs": [
    {
     "data": {
      "text/plain": [
       "(0.7448519317513238, 0.7363074212499657, 0.7533964422526819)"
      ]
     },
     "execution_count": 186,
     "metadata": {},
     "output_type": "execute_result"
    }
   ],
   "source": [
    "calc_ci(res[res.inc_key.isin(midage_keys)].mais2_correct_aaam.mean(), 10_000)"
   ]
  },
  {
   "cell_type": "code",
   "execution_count": 187,
   "metadata": {},
   "outputs": [
    {
     "data": {
      "text/plain": [
       "(0.7842336683417085, 0.7761711511814542, 0.7922961855019628)"
      ]
     },
     "execution_count": 187,
     "metadata": {},
     "output_type": "execute_result"
    }
   ],
   "source": [
    "calc_ci(res[res.inc_key.isin(old_keys)].mais2_correct_aaam.mean(), 10_000)"
   ]
  },
  {
   "cell_type": "markdown",
   "metadata": {},
   "source": [
    "#### ICDPIC-R"
   ]
  },
  {
   "cell_type": "code",
   "execution_count": 188,
   "metadata": {},
   "outputs": [
    {
     "data": {
      "text/plain": [
       "(0.7291788002329644, 0.7204688751987558, 0.7378887252671731)"
      ]
     },
     "execution_count": 188,
     "metadata": {},
     "output_type": "execute_result"
    }
   ],
   "source": [
    "calc_ci(res[res.inc_key.isin(young_keys)].mais2_correct_icdpic.mean(), 10_000)"
   ]
  },
  {
   "cell_type": "code",
   "execution_count": 189,
   "metadata": {},
   "outputs": [
    {
     "data": {
      "text/plain": [
       "(0.7015101000196117, 0.6925412274064385, 0.7104789726327848)"
      ]
     },
     "execution_count": 189,
     "metadata": {},
     "output_type": "execute_result"
    }
   ],
   "source": [
    "calc_ci(res[res.inc_key.isin(midage_keys)].mais2_correct_icdpic.mean(), 10_000)"
   ]
  },
  {
   "cell_type": "code",
   "execution_count": 190,
   "metadata": {},
   "outputs": [
    {
     "data": {
      "text/plain": [
       "(0.7864321608040201, 0.7783995887324168, 0.7944647328756235)"
      ]
     },
     "execution_count": 190,
     "metadata": {},
     "output_type": "execute_result"
    }
   ],
   "source": [
    "calc_ci(res[res.inc_key.isin(old_keys)].mais2_correct_icdpic.mean(), 10_000)"
   ]
  },
  {
   "cell_type": "code",
   "execution_count": null,
   "metadata": {},
   "outputs": [],
   "source": []
  }
 ],
 "metadata": {
  "kernelspec": {
   "display_name": "Python 3",
   "language": "python",
   "name": "python3"
  },
  "language_info": {
   "codemirror_mode": {
    "name": "ipython",
    "version": 3
   },
   "file_extension": ".py",
   "mimetype": "text/x-python",
   "name": "python",
   "nbconvert_exporter": "python",
   "pygments_lexer": "ipython3",
   "version": "3.8.8"
  },
  "toc-autonumbering": false,
  "toc-showcode": false,
  "toc-showmarkdowntxt": false,
  "toc-showtags": true
 },
 "nbformat": 4,
 "nbformat_minor": 4
}
